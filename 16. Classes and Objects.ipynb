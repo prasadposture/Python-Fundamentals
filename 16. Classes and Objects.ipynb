{
 "cells": [
  {
   "cell_type": "markdown",
   "id": "a0448224",
   "metadata": {},
   "source": [
    "# Classes and Objects"
   ]
  },
  {
   "cell_type": "markdown",
   "id": "1affc1a7",
   "metadata": {},
   "source": [
    "### Class\n",
    "A class is a user-defined blueprint or prototype from which objects are created. Classes provide a means of bundling data and functionality together. Creating a new class creates a new type of object, allowing new instances of that type to be made. Each class instance can have attributes attached to it for maintaining its state. Class instances can also have methods (defined by their class) for modifying their state. Class creates a user-defined data structure, which holds its own data members and member functions, which can be accessed and used by creating an instance of that class. A class is like a blueprint for an object."
   ]
  },
  {
   "cell_type": "markdown",
   "id": "f2bc9f47",
   "metadata": {},
   "source": [
    "### Object\n",
    "An Object is an instance of a Class. A class is like a blueprint while an instance is a copy of the class with actual values. An object is simply a collection of data (variables) and methods (functions) that act upon those data."
   ]
  },
  {
   "cell_type": "markdown",
   "id": "45e191d7",
   "metadata": {},
   "source": [
    "**Defining a class and property for the class:**"
   ]
  },
  {
   "cell_type": "code",
   "execution_count": 1,
   "id": "7edfd340",
   "metadata": {},
   "outputs": [],
   "source": [
    "class Computer: #class\n",
    "    def config(self): #property of the class\n",
    "        print(\"i5, 16gb, 1TB\")"
   ]
  },
  {
   "cell_type": "markdown",
   "id": "605145c6",
   "metadata": {},
   "source": [
    "**Creating an object of this class and checking the type:**"
   ]
  },
  {
   "cell_type": "code",
   "execution_count": 2,
   "id": "af4bd4da",
   "metadata": {},
   "outputs": [
    {
     "name": "stdout",
     "output_type": "stream",
     "text": [
      "<class '__main__.Computer'>\n"
     ]
    }
   ],
   "source": [
    "com1=Computer()\n",
    "print(type(com1))"
   ]
  },
  {
   "cell_type": "markdown",
   "id": "b4eb42d2",
   "metadata": {},
   "source": [
    "You cannot access the method defined within the class, its scope is only limited to the class."
   ]
  },
  {
   "cell_type": "code",
   "execution_count": 3,
   "id": "5c3180be",
   "metadata": {},
   "outputs": [
    {
     "name": "stderr",
     "output_type": "stream",
     "text": [
      "UsageError: Invalid config statement: '() #throws error', should be `Class.trait = value`.\n"
     ]
    }
   ],
   "source": [
    "config() #throws error"
   ]
  },
  {
   "cell_type": "markdown",
   "id": "75d72b24",
   "metadata": {},
   "source": [
    "You cannot acess the method using only class name, will have to specify name of the object as well."
   ]
  },
  {
   "cell_type": "code",
   "execution_count": 4,
   "id": "41fb53b9",
   "metadata": {},
   "outputs": [
    {
     "ename": "TypeError",
     "evalue": "config() missing 1 required positional argument: 'self'",
     "output_type": "error",
     "traceback": [
      "\u001b[1;31m---------------------------------------------------------------------------\u001b[0m",
      "\u001b[1;31mTypeError\u001b[0m                                 Traceback (most recent call last)",
      "\u001b[1;32m<ipython-input-4-a3cb0b247bba>\u001b[0m in \u001b[0;36m<module>\u001b[1;34m\u001b[0m\n\u001b[1;32m----> 1\u001b[1;33m \u001b[0mComputer\u001b[0m\u001b[1;33m.\u001b[0m\u001b[0mconfig\u001b[0m\u001b[1;33m(\u001b[0m\u001b[1;33m)\u001b[0m \u001b[1;31m#throws error\u001b[0m\u001b[1;33m\u001b[0m\u001b[1;33m\u001b[0m\u001b[0m\n\u001b[0m",
      "\u001b[1;31mTypeError\u001b[0m: config() missing 1 required positional argument: 'self'"
     ]
    }
   ],
   "source": [
    "Computer.config() #throws error"
   ]
  },
  {
   "cell_type": "markdown",
   "id": "aaa6a763",
   "metadata": {},
   "source": [
    "The right way to access the method:"
   ]
  },
  {
   "cell_type": "code",
   "execution_count": 5,
   "id": "0ecc8f02",
   "metadata": {},
   "outputs": [
    {
     "name": "stdout",
     "output_type": "stream",
     "text": [
      "i5, 16gb, 1TB\n"
     ]
    }
   ],
   "source": [
    "#Method-1: Mentioning the class name and objec name\n",
    "Computer.config(com1)"
   ]
  },
  {
   "cell_type": "code",
   "execution_count": 6,
   "id": "5fc0f481",
   "metadata": {},
   "outputs": [
    {
     "name": "stdout",
     "output_type": "stream",
     "text": [
      "i5, 16gb, 1TB\n"
     ]
    }
   ],
   "source": [
    "#Method-2 : mentioning object's name with method aka 'calling the method'\n",
    "com1.config()"
   ]
  },
  {
   "cell_type": "markdown",
   "id": "d5a0d2a3",
   "metadata": {},
   "source": [
    "Creating another object from the same class (follows the same procedure)."
   ]
  },
  {
   "cell_type": "code",
   "execution_count": 7,
   "id": "b684feed",
   "metadata": {},
   "outputs": [
    {
     "name": "stdout",
     "output_type": "stream",
     "text": [
      "i5, 16gb, 1TB\n"
     ]
    }
   ],
   "source": [
    "#com2 object\n",
    "com2=Computer()\n",
    "Computer.config(com2)"
   ]
  },
  {
   "cell_type": "code",
   "execution_count": 8,
   "id": "063c4e42",
   "metadata": {},
   "outputs": [
    {
     "name": "stdout",
     "output_type": "stream",
     "text": [
      "i5, 16gb, 1TB\n",
      "i5, 16gb, 1TB\n"
     ]
    }
   ],
   "source": [
    "#calling the method is widely used\n",
    "com1.config()\n",
    "com2.config() #both have same properties"
   ]
  },
  {
   "cell_type": "markdown",
   "id": "9036eb1f",
   "metadata": {},
   "source": [
    "**Creating a class without properties:**"
   ]
  },
  {
   "cell_type": "code",
   "execution_count": 9,
   "id": "1ebe671a",
   "metadata": {},
   "outputs": [],
   "source": [
    "class Student:\n",
    "    pass\n",
    "#Empty class has been created using pass"
   ]
  },
  {
   "cell_type": "markdown",
   "id": "5d4d9426",
   "metadata": {},
   "source": [
    "We can create object from this class and also create variables of our choice"
   ]
  },
  {
   "cell_type": "code",
   "execution_count": 10,
   "id": "a75ccab7",
   "metadata": {},
   "outputs": [
    {
     "name": "stdout",
     "output_type": "stream",
     "text": [
      "Ram\n",
      "80\n"
     ]
    }
   ],
   "source": [
    "#First Object\n",
    "student1=Student()\n",
    "student1.name='Ram' #Name of the student\n",
    "student1.marks=80 #Marks of the student\n",
    "print(student1.name)\n",
    "print(student1.marks)"
   ]
  },
  {
   "cell_type": "code",
   "execution_count": 11,
   "id": "4bd0013e",
   "metadata": {},
   "outputs": [
    {
     "name": "stdout",
     "output_type": "stream",
     "text": [
      "Prasad\n",
      "21\n",
      "A+\n"
     ]
    }
   ],
   "source": [
    "#Second Object\n",
    "student2=Student()\n",
    "student2.name='Prasad'\n",
    "student2.age=21 #age of the student\n",
    "student2.grade='A+' #grade of the student\n",
    "print(student2.name)\n",
    "print(student2.age)\n",
    "print(student2.grade)"
   ]
  },
  {
   "cell_type": "markdown",
   "id": "bcb892b2",
   "metadata": {},
   "source": [
    "You can see from the above two examples that we created two different objects containing different variable by using same class."
   ]
  },
  {
   "cell_type": "markdown",
   "id": "ace9781c",
   "metadata": {},
   "source": [
    "### Constructors\n",
    "Constructors are generally used for instantiating an object. The task of constructors is to initialize(assign values) to the data members of the class when an object of the class is created. In Python the `__init__()` method is called the constructor and is always called when an object is created. The constructor is a method that is called when an object is created. This method is defined in the class and can be used to initialize basic variables."
   ]
  },
  {
   "cell_type": "markdown",
   "id": "4e4f1b9b",
   "metadata": {},
   "source": [
    "**The `__init__` method lets the class initialize the object's attributes and serves no other purpose. It is used within the classes.**"
   ]
  },
  {
   "cell_type": "code",
   "execution_count": 12,
   "id": "13590082",
   "metadata": {},
   "outputs": [],
   "source": [
    "class Computer:\n",
    "    def __init__(self):\n",
    "        print('inside init')\n",
    "    def config(self):\n",
    "        print('i5, 16gb, 1TB')"
   ]
  },
  {
   "cell_type": "code",
   "execution_count": 13,
   "id": "a664f916",
   "metadata": {},
   "outputs": [
    {
     "name": "stdout",
     "output_type": "stream",
     "text": [
      "inside init\n",
      "inside init\n"
     ]
    }
   ],
   "source": [
    "com1=Computer()\n",
    "com2=Computer()"
   ]
  },
  {
   "cell_type": "code",
   "execution_count": 14,
   "id": "08e4e299",
   "metadata": {},
   "outputs": [
    {
     "name": "stdout",
     "output_type": "stream",
     "text": [
      "i5, 16gb, 1TB\n",
      "i5, 16gb, 1TB\n"
     ]
    }
   ],
   "source": [
    "com1.config()\n",
    "com2.config()"
   ]
  },
  {
   "cell_type": "markdown",
   "id": "16562e17",
   "metadata": {},
   "source": [
    "### Working with the variables"
   ]
  },
  {
   "cell_type": "code",
   "execution_count": 15,
   "id": "f990a542",
   "metadata": {},
   "outputs": [],
   "source": [
    "class Computer:\n",
    "    def __init__(self,cpu,ram): #initializing\n",
    "        self.cpu=cpu #variable\n",
    "        self.ram=ram #variable\n",
    "    def config(self):\n",
    "        print('config is:',self.cpu,self.ram)"
   ]
  },
  {
   "cell_type": "markdown",
   "id": "fa8178e9",
   "metadata": {},
   "source": [
    "We give arguments while creating an object."
   ]
  },
  {
   "cell_type": "code",
   "execution_count": 16,
   "id": "f981ccdb",
   "metadata": {},
   "outputs": [
    {
     "name": "stdout",
     "output_type": "stream",
     "text": [
      "i5\n",
      "16\n",
      "config is: i5 16\n"
     ]
    }
   ],
   "source": [
    "com1=Computer('i5',16) # 'self' doesn't count as argument\n",
    "print(com1.cpu)\n",
    "print(com1.ram)\n",
    "com1.config()"
   ]
  },
  {
   "cell_type": "code",
   "execution_count": 17,
   "id": "d89d085e",
   "metadata": {},
   "outputs": [
    {
     "name": "stdout",
     "output_type": "stream",
     "text": [
      "config is: i3 8\n"
     ]
    }
   ],
   "source": [
    "com2=Computer('i3',8) #Creating another object\n",
    "com2.config()"
   ]
  },
  {
   "cell_type": "markdown",
   "id": "93c1ffe7",
   "metadata": {},
   "source": [
    "**We will see more example of classes for making the concepts more clear**"
   ]
  },
  {
   "cell_type": "markdown",
   "id": "a4b65dd9",
   "metadata": {},
   "source": [
    "Q. Define a class that takes name and marks arguments and based on the marks decides whether the student is passed or failed."
   ]
  },
  {
   "cell_type": "code",
   "execution_count": 18,
   "id": "d1b39517",
   "metadata": {},
   "outputs": [],
   "source": [
    "#Defining a class\n",
    "class Student:\n",
    "    def __init__(self,name,marks):\n",
    "        self.name=name\n",
    "        self.marks=marks\n",
    "    def pass_or_fail(self):\n",
    "        if self.marks>=40:\n",
    "            print('The student {} is passed with {} marks'.format(self.name,self.marks))\n",
    "        else:\n",
    "            print('The student {} is failed with {} marks'.format(self.name,self.marks))"
   ]
  },
  {
   "cell_type": "code",
   "execution_count": 19,
   "id": "db477414",
   "metadata": {},
   "outputs": [
    {
     "name": "stdout",
     "output_type": "stream",
     "text": [
      "Prasad\n",
      "93\n",
      "The student Prasad is passed with 93 marks\n"
     ]
    }
   ],
   "source": [
    "#Creating object\n",
    "student1=Student('Prasad',93)\n",
    "print(student1.name)\n",
    "print(student1.marks)\n",
    "student1.pass_or_fail() #Using method defined within the class on object"
   ]
  },
  {
   "cell_type": "code",
   "execution_count": 20,
   "id": "04a4131f",
   "metadata": {},
   "outputs": [
    {
     "name": "stdout",
     "output_type": "stream",
     "text": [
      "The student Amit is failed with 30 marks\n"
     ]
    }
   ],
   "source": [
    "#Creating another object\n",
    "student2=Student('Amit',30)\n",
    "student2.pass_or_fail()"
   ]
  },
  {
   "cell_type": "markdown",
   "id": "ac646f50",
   "metadata": {},
   "source": [
    "Q. Define a class that takes length of the sides of triangle as arguments and returns parameter."
   ]
  },
  {
   "cell_type": "code",
   "execution_count": 21,
   "id": "56effdb3",
   "metadata": {},
   "outputs": [],
   "source": [
    "class Triangle:\n",
    "    def __init__(self,side1,side2,side3):\n",
    "        self.side1=side1\n",
    "        self.side2=side2\n",
    "        self.side3=side3\n",
    "    def perimeter_of_triangle(self):\n",
    "        print('Perimeter of the traingle with sides {}, {} ,{} is {}'.format(self.side1,\n",
    "            self.side2, self.side3, self.side1+self.side2+self.side3))"
   ]
  },
  {
   "cell_type": "code",
   "execution_count": 22,
   "id": "dc9bd408",
   "metadata": {},
   "outputs": [
    {
     "name": "stdout",
     "output_type": "stream",
     "text": [
      "Perimeter of the traingle with sides 30, 10 ,20 is 60\n"
     ]
    }
   ],
   "source": [
    "triangle1=Triangle(30,10,20)\n",
    "triangle1.perimeter_of_triangle()"
   ]
  },
  {
   "cell_type": "markdown",
   "id": "3ba53a7b",
   "metadata": {},
   "source": [
    "Q. Define a class that takes real and imaginary part of the complex number, also define add method inside it that adds two complex numbers."
   ]
  },
  {
   "cell_type": "code",
   "execution_count": 23,
   "id": "3d0cbfb7",
   "metadata": {},
   "outputs": [],
   "source": [
    "class Complex:\n",
    "    def __init__(self,real,img):\n",
    "        self.real=real\n",
    "        self.img=img\n",
    "    def add(self,other):\n",
    "        real=self.real+other.real\n",
    "        img=self.img+other.img\n",
    "        return real, img"
   ]
  },
  {
   "cell_type": "code",
   "execution_count": 24,
   "id": "bfb4107b",
   "metadata": {},
   "outputs": [
    {
     "data": {
      "text/plain": [
       "(8, 4)"
      ]
     },
     "execution_count": 24,
     "metadata": {},
     "output_type": "execute_result"
    }
   ],
   "source": [
    "#Creating objects and adding complex numbers\n",
    "n1=Complex(5,6)\n",
    "n2=Complex(3,-2)\n",
    "n1.add(n2)"
   ]
  },
  {
   "cell_type": "markdown",
   "id": "fef0cd98",
   "metadata": {},
   "source": [
    "Defining variables in the class only with `self`"
   ]
  },
  {
   "cell_type": "code",
   "execution_count": 25,
   "id": "b46d3e55",
   "metadata": {},
   "outputs": [],
   "source": [
    "class Student:\n",
    "    def __init__(self):\n",
    "        self.name='Ram'\n",
    "        self.marks=20"
   ]
  },
  {
   "cell_type": "code",
   "execution_count": 26,
   "id": "8d8bf948",
   "metadata": {},
   "outputs": [
    {
     "name": "stdout",
     "output_type": "stream",
     "text": [
      "Ram\n",
      "Ram\n"
     ]
    }
   ],
   "source": [
    "student1=Student()\n",
    "student2=Student()\n",
    "print(student1.name)\n",
    "print(student2.name)"
   ]
  },
  {
   "cell_type": "markdown",
   "id": "b1a8e7a1",
   "metadata": {},
   "source": [
    "We can create another object from the same class with different value for the same variable"
   ]
  },
  {
   "cell_type": "code",
   "execution_count": 27,
   "id": "25875289",
   "metadata": {},
   "outputs": [
    {
     "name": "stdout",
     "output_type": "stream",
     "text": [
      "Neel\n",
      "Ram\n"
     ]
    }
   ],
   "source": [
    "student1.name='Neel'\n",
    "print(student1.name)\n",
    "print(student2.name)"
   ]
  },
  {
   "cell_type": "markdown",
   "id": "1bb76422",
   "metadata": {},
   "source": [
    "We can also modify value of a particular variable by a method defined within the class"
   ]
  },
  {
   "cell_type": "code",
   "execution_count": 28,
   "id": "755d3ffe",
   "metadata": {},
   "outputs": [],
   "source": [
    "class Student:\n",
    "    def __init__(self):\n",
    "        self.name=\"Ram\" #variable\n",
    "        self.age=20 #variable\n",
    "    def update(self): # this method updates the variable\n",
    "        self.age=7 #updating age\n",
    "s1=Student()\n",
    "s2=Student()"
   ]
  },
  {
   "cell_type": "code",
   "execution_count": 29,
   "id": "228b2397",
   "metadata": {},
   "outputs": [
    {
     "name": "stdout",
     "output_type": "stream",
     "text": [
      "7\n",
      "20\n"
     ]
    }
   ],
   "source": [
    "s1.update() #updating age of the s1\n",
    "print(s1.age) #this gives the updated age of the student\n",
    "print(s2.age) #since it's not updated it only gives original age"
   ]
  },
  {
   "cell_type": "markdown",
   "id": "40058203",
   "metadata": {},
   "source": [
    "Q. Define a Student class with a method that compares the age of the student."
   ]
  },
  {
   "cell_type": "code",
   "execution_count": 30,
   "id": "2abbac4b",
   "metadata": {},
   "outputs": [],
   "source": [
    "class Student:\n",
    "    def __init__(self):\n",
    "        self.name='Ram'\n",
    "        self.age=20\n",
    "    def compare(self,other): #here other is just a variable of the other object, containing age\n",
    "        if self.age==other.age:\n",
    "            print(\"they have same age\")\n",
    "        else:\n",
    "            print(\"they have different age\")"
   ]
  },
  {
   "cell_type": "code",
   "execution_count": 31,
   "id": "05ea6dcd",
   "metadata": {},
   "outputs": [
    {
     "name": "stdout",
     "output_type": "stream",
     "text": [
      "they have same age\n"
     ]
    }
   ],
   "source": [
    "s1=Student()\n",
    "s2=Student()\n",
    "s1.compare(s2) #since we haven't specified the age, by default these two students have same age (and same name)"
   ]
  },
  {
   "cell_type": "code",
   "execution_count": 32,
   "id": "73f31150",
   "metadata": {},
   "outputs": [
    {
     "name": "stdout",
     "output_type": "stream",
     "text": [
      "they have different age\n"
     ]
    }
   ],
   "source": [
    "s1.age=50 #changing the age of the s1 to 50\n",
    "s1.compare(s2) #comparing the age of two : returns they have different age"
   ]
  },
  {
   "cell_type": "markdown",
   "id": "52058884",
   "metadata": {},
   "source": [
    "Q. Define a class Circle containing methods that give area and perimeter of the circle."
   ]
  },
  {
   "cell_type": "code",
   "execution_count": 33,
   "id": "70b98941",
   "metadata": {},
   "outputs": [],
   "source": [
    "class Circle:\n",
    "    def __init__(self,radius):\n",
    "        self.radius=radius\n",
    "    def perimeter(self):\n",
    "        return 2*3.14*self.radius\n",
    "    def area(self):\n",
    "        return 3.14*self.radius*self.radius"
   ]
  },
  {
   "cell_type": "code",
   "execution_count": 34,
   "id": "f60411b9",
   "metadata": {},
   "outputs": [
    {
     "data": {
      "text/plain": [
       "314.0"
      ]
     },
     "execution_count": 34,
     "metadata": {},
     "output_type": "execute_result"
    }
   ],
   "source": [
    "c1=Circle(10)\n",
    "c1.area()"
   ]
  },
  {
   "cell_type": "code",
   "execution_count": 35,
   "id": "59895b09",
   "metadata": {},
   "outputs": [
    {
     "data": {
      "text/plain": [
       "62.800000000000004"
      ]
     },
     "execution_count": 35,
     "metadata": {},
     "output_type": "execute_result"
    }
   ],
   "source": [
    "c1.perimeter()"
   ]
  },
  {
   "cell_type": "markdown",
   "id": "0a4b183a",
   "metadata": {},
   "source": [
    "Q. Define a Student class which takes name, roll number, division as the arguments and has three methods to updatethe values of these three variables."
   ]
  },
  {
   "cell_type": "code",
   "execution_count": 36,
   "id": "1cc0bccb",
   "metadata": {},
   "outputs": [],
   "source": [
    "class Students:\n",
    "    def __init__(self,name,rollno,division):\n",
    "        self.name=name\n",
    "        self.rollno=rollno\n",
    "        self.division=division\n",
    "    def update_name(self,up_name):\n",
    "        self.name=up_name\n",
    "    def update_rollno(self,up_rollno):\n",
    "        self.rollno=up_rollno\n",
    "    def update_division(self,up_division):\n",
    "        self.division=up_division"
   ]
  },
  {
   "cell_type": "code",
   "execution_count": 37,
   "id": "3d6fbad7",
   "metadata": {},
   "outputs": [
    {
     "name": "stdout",
     "output_type": "stream",
     "text": [
      "Raj\n",
      "30\n",
      "A\n"
     ]
    }
   ],
   "source": [
    "#Creating object\n",
    "s1=Students(\"Raj\",30,\"A\")\n",
    "print(s1.name)\n",
    "print(s1.rollno)\n",
    "print(s1.division)"
   ]
  },
  {
   "cell_type": "code",
   "execution_count": 38,
   "id": "84b0fc37",
   "metadata": {},
   "outputs": [],
   "source": [
    "#Updating the values\n",
    "s1.update_name(\"Neel\")\n",
    "s1.update_rollno(2)\n",
    "s1.update_division(\"B\")"
   ]
  },
  {
   "cell_type": "code",
   "execution_count": 39,
   "id": "2e9b4f75",
   "metadata": {},
   "outputs": [
    {
     "name": "stdout",
     "output_type": "stream",
     "text": [
      "Neel\n",
      "2\n",
      "B\n"
     ]
    }
   ],
   "source": [
    "print(s1.name)\n",
    "print(s1.rollno)\n",
    "print(s1.division)"
   ]
  },
  {
   "cell_type": "markdown",
   "id": "be5af22d",
   "metadata": {},
   "source": [
    "### Destructors\n",
    "Destructors are called when an object gets destroyed. In Python, destructors are not needed as much as in C++ because Python has a garbage collector that handles memory management automatically. The `__del__()` method is a known as a destructor method in Python. It is called when all references to the object have been deleted i.e when an object is garbage collected. Just like a constructor is used to create and initialize an object, a destructor is used to destroy the object and perform the final clean up."
   ]
  },
  {
   "cell_type": "code",
   "execution_count": 40,
   "id": "b8729371",
   "metadata": {},
   "outputs": [],
   "source": [
    "#Example\n",
    "class MyClass:\n",
    "    def __init__(self,q,p):\n",
    "        self.q=q\n",
    "        self.p=p\n",
    "    def disp(self):\n",
    "        return self.q,self.p\n",
    "    def __del__(self):\n",
    "        print(\"Destroyed\")"
   ]
  },
  {
   "cell_type": "code",
   "execution_count": 41,
   "id": "e08e7d01",
   "metadata": {},
   "outputs": [],
   "source": [
    "a1=MyClass(4,5)\n",
    "a2=MyClass(3,9)"
   ]
  },
  {
   "cell_type": "code",
   "execution_count": 42,
   "id": "f0bed94e",
   "metadata": {},
   "outputs": [
    {
     "data": {
      "text/plain": [
       "(4, 5)"
      ]
     },
     "execution_count": 42,
     "metadata": {},
     "output_type": "execute_result"
    }
   ],
   "source": [
    "a1.disp()"
   ]
  },
  {
   "cell_type": "code",
   "execution_count": 43,
   "id": "b97ed9f2",
   "metadata": {},
   "outputs": [
    {
     "data": {
      "text/plain": [
       "(3, 9)"
      ]
     },
     "execution_count": 43,
     "metadata": {},
     "output_type": "execute_result"
    }
   ],
   "source": [
    "a2.disp()"
   ]
  },
  {
   "cell_type": "code",
   "execution_count": 44,
   "id": "3eb820a7",
   "metadata": {},
   "outputs": [],
   "source": [
    "#deleting object properties\n",
    "del a1.p"
   ]
  },
  {
   "cell_type": "code",
   "execution_count": 45,
   "id": "80bf34e6",
   "metadata": {},
   "outputs": [
    {
     "ename": "AttributeError",
     "evalue": "'MyClass' object has no attribute 'p'",
     "output_type": "error",
     "traceback": [
      "\u001b[1;31m---------------------------------------------------------------------------\u001b[0m",
      "\u001b[1;31mAttributeError\u001b[0m                            Traceback (most recent call last)",
      "\u001b[1;32m<ipython-input-45-37746a711f17>\u001b[0m in \u001b[0;36m<module>\u001b[1;34m\u001b[0m\n\u001b[1;32m----> 1\u001b[1;33m \u001b[0mprint\u001b[0m\u001b[1;33m(\u001b[0m\u001b[0ma1\u001b[0m\u001b[1;33m.\u001b[0m\u001b[0mp\u001b[0m\u001b[1;33m)\u001b[0m \u001b[1;31m#throws error since it's already been deleted\u001b[0m\u001b[1;33m\u001b[0m\u001b[1;33m\u001b[0m\u001b[0m\n\u001b[0m",
      "\u001b[1;31mAttributeError\u001b[0m: 'MyClass' object has no attribute 'p'"
     ]
    }
   ],
   "source": [
    "print(a1.p) #throws error since it's already been deleted"
   ]
  },
  {
   "cell_type": "code",
   "execution_count": 46,
   "id": "001c6930",
   "metadata": {},
   "outputs": [
    {
     "name": "stdout",
     "output_type": "stream",
     "text": [
      "Destroyed\n"
     ]
    }
   ],
   "source": [
    "#delete object\n",
    "del a2"
   ]
  },
  {
   "cell_type": "code",
   "execution_count": 47,
   "id": "9a89ae0c",
   "metadata": {},
   "outputs": [
    {
     "ename": "NameError",
     "evalue": "name 'a2' is not defined",
     "output_type": "error",
     "traceback": [
      "\u001b[1;31m---------------------------------------------------------------------------\u001b[0m",
      "\u001b[1;31mNameError\u001b[0m                                 Traceback (most recent call last)",
      "\u001b[1;32m<ipython-input-47-6bc9f12203c2>\u001b[0m in \u001b[0;36m<module>\u001b[1;34m\u001b[0m\n\u001b[1;32m----> 1\u001b[1;33m \u001b[0ma2\u001b[0m\u001b[1;33m.\u001b[0m\u001b[0mdisp\u001b[0m\u001b[1;33m(\u001b[0m\u001b[1;33m)\u001b[0m \u001b[1;31m#throws error since already been deleted\u001b[0m\u001b[1;33m\u001b[0m\u001b[1;33m\u001b[0m\u001b[0m\n\u001b[0m",
      "\u001b[1;31mNameError\u001b[0m: name 'a2' is not defined"
     ]
    }
   ],
   "source": [
    "a2.disp() #throws error since already been deleted"
   ]
  },
  {
   "cell_type": "markdown",
   "id": "094b54d8",
   "metadata": {},
   "source": [
    "### Types of Variables"
   ]
  },
  {
   "cell_type": "markdown",
   "id": "058620e0",
   "metadata": {},
   "source": [
    "**Instance Variables:** These variable are defined inside the `__init__()`. It is a variable whose value is instance-specific and now shared among instances. These variables cannot be shared between classes. Instead, they only belong to one specific class.It is generally created when an instance of the class is created.It normally retains values as long as the object exists.It has many copies so every object has its own personal copy of the instance variable.It can be accessed directly by calling variable names inside the class.Changes that are made to these variables through one object will not reflect in another object."
   ]
  },
  {
   "cell_type": "code",
   "execution_count": 48,
   "id": "96bc32e1",
   "metadata": {},
   "outputs": [],
   "source": [
    "#Example\n",
    "class Car:\n",
    "    def __init__(self):\n",
    "        self.mil=10 #instance variable\n",
    "        self.comp=\"BMW\" #instance variable\n",
    "c1=Car()\n",
    "c2=Car()\n",
    "c1.mil=8"
   ]
  },
  {
   "cell_type": "code",
   "execution_count": 49,
   "id": "ed92e422",
   "metadata": {},
   "outputs": [
    {
     "name": "stdout",
     "output_type": "stream",
     "text": [
      "BMW 8\n",
      "BMW 10\n"
     ]
    }
   ],
   "source": [
    "print(c1.comp,c1.mil)\n",
    "print(c2.comp,c2.mil)"
   ]
  },
  {
   "cell_type": "markdown",
   "id": "d21b60ca",
   "metadata": {},
   "source": [
    "**Class / Static Variables:** These variables are defined outside the `__init__()` but inside he class. It is a variable that defines a specific attribute or property for a class. These variables can be shared between class and its subclasses. It usually maintains a single shared value for all instances of class even if no instance object of the class exists. It is generally created when the program begins to execute. It has only one copy of the class variable so it is shared among different objects of the class. It can be accessed by calling with the class name. Changes that are made to these variables through one object will reflect in another object."
   ]
  },
  {
   "cell_type": "code",
   "execution_count": 50,
   "id": "c6ffa060",
   "metadata": {},
   "outputs": [
    {
     "name": "stdout",
     "output_type": "stream",
     "text": [
      "BMW 4 8\n",
      "BMW 4 10\n"
     ]
    }
   ],
   "source": [
    "#Example\n",
    "class Cars:\n",
    "    wheels=4 #class variable\n",
    "    def __init__(self):\n",
    "        self.mil=10\n",
    "        self.comp=\"BMW\"\n",
    "c1=Cars()\n",
    "c2=Cars()\n",
    "c1.mil=8\n",
    "print(c1.comp,c1.wheels,c1.mil)\n",
    "print(c2.comp,c2.wheels,c2.mil)"
   ]
  },
  {
   "cell_type": "markdown",
   "id": "4601d44d",
   "metadata": {},
   "source": [
    "For wheels we can directly use Car.wheels since it is same for all objects"
   ]
  },
  {
   "cell_type": "code",
   "execution_count": 51,
   "id": "4a7a94dc",
   "metadata": {},
   "outputs": [
    {
     "name": "stdout",
     "output_type": "stream",
     "text": [
      "BMW 4 8\n"
     ]
    }
   ],
   "source": [
    "print(c1.comp,Cars.wheels,c1.mil)"
   ]
  },
  {
   "cell_type": "code",
   "execution_count": 52,
   "id": "2b49761a",
   "metadata": {},
   "outputs": [
    {
     "name": "stdout",
     "output_type": "stream",
     "text": [
      "BMW 5 8\n",
      "BMW 5 10\n"
     ]
    }
   ],
   "source": [
    "class Cars:\n",
    "    wheels=4\n",
    "    def __init__(self):\n",
    "        self.mil=10\n",
    "        self.comp=\"BMW\"\n",
    "c1=Cars()\n",
    "c2=Cars()\n",
    "c1.mil=8\n",
    "Cars.wheels=5 #Changing the value of the class variable\n",
    "print(c1.comp,Cars.wheels,c1.mil)\n",
    "print(c2.comp,Cars.wheels,c2.mil)"
   ]
  },
  {
   "cell_type": "markdown",
   "id": "72086801",
   "metadata": {},
   "source": [
    "### Types of Methods"
   ]
  },
  {
   "cell_type": "markdown",
   "id": "bd0b0344",
   "metadata": {},
   "source": [
    "#### Instance Method:\n",
    "The instance method call is used widely for methods. The instance object needs to be passed as the first argument of the method. This method takes the first parameter as “self” which points to the same instance of the class for which it is called. “self” parameter is used to access class attributes and other methods. It is called through an object of the class; therefore, it can modify the object state of that class instance.Since this method is bound to an object, it is also called “bound method calls”. The instance method is powerful as it can change the object’s state as well as the class’s state."
   ]
  },
  {
   "cell_type": "code",
   "execution_count": 53,
   "id": "831eacf6",
   "metadata": {},
   "outputs": [],
   "source": [
    "class Student:\n",
    "    school=\"xyz\"\n",
    "    def __init__(self,m1,m2,m3):\n",
    "        self.m1=m1\n",
    "        self.m2=m2\n",
    "        self.m3=m3\n",
    "    def avg(self):\n",
    "        return (self.m1+self.m2+self.m3)/3"
   ]
  },
  {
   "cell_type": "code",
   "execution_count": 54,
   "id": "adfed5e6",
   "metadata": {},
   "outputs": [],
   "source": [
    "s1=Student(34,67,23)\n",
    "s2=Student(77,14,58)"
   ]
  },
  {
   "cell_type": "code",
   "execution_count": 55,
   "id": "dac7b446",
   "metadata": {},
   "outputs": [
    {
     "data": {
      "text/plain": [
       "41.333333333333336"
      ]
     },
     "execution_count": 55,
     "metadata": {},
     "output_type": "execute_result"
    }
   ],
   "source": [
    "s1.avg()"
   ]
  },
  {
   "cell_type": "code",
   "execution_count": 56,
   "id": "3bd3e992",
   "metadata": {},
   "outputs": [
    {
     "data": {
      "text/plain": [
       "49.666666666666664"
      ]
     },
     "execution_count": 56,
     "metadata": {},
     "output_type": "execute_result"
    }
   ],
   "source": [
    "s2.avg()"
   ]
  },
  {
   "cell_type": "code",
   "execution_count": 57,
   "id": "e2385ebc",
   "metadata": {},
   "outputs": [
    {
     "data": {
      "text/plain": [
       "34"
      ]
     },
     "execution_count": 57,
     "metadata": {},
     "output_type": "execute_result"
    }
   ],
   "source": [
    "s1.m1"
   ]
  },
  {
   "cell_type": "code",
   "execution_count": 58,
   "id": "076f6578",
   "metadata": {},
   "outputs": [
    {
     "data": {
      "text/plain": [
       "14"
      ]
     },
     "execution_count": 58,
     "metadata": {},
     "output_type": "execute_result"
    }
   ],
   "source": [
    "s2.m2 #fetching the value"
   ]
  },
  {
   "cell_type": "code",
   "execution_count": 59,
   "id": "8156392c",
   "metadata": {},
   "outputs": [],
   "source": [
    "#fetch the value of m1 using method\n",
    "#set the value of m1 using method (using excesors and mutators) eg. get and set\n",
    "class Student:\n",
    "    school=\"xyz\"\n",
    "    def __init__(self,m1,m2,m3):\n",
    "        self.m1=m1\n",
    "        self.m2=m2\n",
    "        self.m3=m3\n",
    "    def avg(self):\n",
    "        return (self.m1+self.m2+self.m3)/3\n",
    "    def get_m1(self):\n",
    "        return self.m1\n",
    "    def set_m1(self,value):\n",
    "        self.m1=value"
   ]
  },
  {
   "cell_type": "code",
   "execution_count": 60,
   "id": "0aada856",
   "metadata": {},
   "outputs": [],
   "source": [
    "s1=Student(34,67,23)"
   ]
  },
  {
   "cell_type": "code",
   "execution_count": 61,
   "id": "256a0c1e",
   "metadata": {},
   "outputs": [
    {
     "data": {
      "text/plain": [
       "34"
      ]
     },
     "execution_count": 61,
     "metadata": {},
     "output_type": "execute_result"
    }
   ],
   "source": [
    "s1.get_m1()"
   ]
  },
  {
   "cell_type": "code",
   "execution_count": 62,
   "id": "b3246460",
   "metadata": {},
   "outputs": [
    {
     "data": {
      "text/plain": [
       "34"
      ]
     },
     "execution_count": 62,
     "metadata": {},
     "output_type": "execute_result"
    }
   ],
   "source": [
    "s1.m1"
   ]
  },
  {
   "cell_type": "code",
   "execution_count": 63,
   "id": "8e8e60e7",
   "metadata": {},
   "outputs": [],
   "source": [
    "s1.set_m1(50)#mutators"
   ]
  },
  {
   "cell_type": "code",
   "execution_count": 64,
   "id": "055b7696",
   "metadata": {},
   "outputs": [
    {
     "data": {
      "text/plain": [
       "50"
      ]
     },
     "execution_count": 64,
     "metadata": {},
     "output_type": "execute_result"
    }
   ],
   "source": [
    "s1.get_m1()#excesors"
   ]
  },
  {
   "cell_type": "markdown",
   "id": "83672d04",
   "metadata": {},
   "source": [
    "Decorators are simply functions. Like any function, decorators perform a task. The difference here is that decorators apply logic or change the behavior of other functions. They are an excellent way to reuse code, and can help to separate logic into individual concerns."
   ]
  },
  {
   "cell_type": "markdown",
   "id": "eca10e67",
   "metadata": {},
   "source": [
    "#### Class method\n",
    "The class method accepts the “cls” parameter instead of the “self” parameter of the instance method. This “cls” parameter refers to the class itself, not the object instance.The class method can modify the class state irrespective of objects. The class state modification applies to all instances of the class. Let’s see how to define the class method using the @classmethod decorator and call."
   ]
  },
  {
   "cell_type": "code",
   "execution_count": 65,
   "id": "c3ad2bd3",
   "metadata": {},
   "outputs": [],
   "source": [
    "class Student:\n",
    "    school=\"xyz\"\n",
    "    def __init__(self,m1,m2,m3):\n",
    "        self.m1=m1\n",
    "        self.m2=m2\n",
    "        self.m3=m3\n",
    "    def avg(self):\n",
    "        return (self.m1+self.m2+self.m3)/3\n",
    "    @classmethod\n",
    "    def get_school(cls):\n",
    "        return cls.school\n",
    "s1=Student(34,67,23)"
   ]
  },
  {
   "cell_type": "code",
   "execution_count": 66,
   "id": "a93a5de8",
   "metadata": {},
   "outputs": [
    {
     "data": {
      "text/plain": [
       "'xyz'"
      ]
     },
     "execution_count": 66,
     "metadata": {},
     "output_type": "execute_result"
    }
   ],
   "source": [
    "Student.get_school()"
   ]
  },
  {
   "cell_type": "markdown",
   "id": "e237ada2",
   "metadata": {},
   "source": [
    "#### Static Method\n",
    "This method does not accept any self (instance object) or cls(class) parameter. But It can have any number of other arguments. Static methods should be defined using the @staticmethod decorator.A static method can’t modify the state of an object or class as it doesn’t accept self or cls parameters.These methods are used to write the utility method. Like if some operation needs to be performed which is not related to an instance or class attribute modification, static methods are used."
   ]
  },
  {
   "cell_type": "code",
   "execution_count": 67,
   "id": "543de055",
   "metadata": {},
   "outputs": [
    {
     "name": "stdout",
     "output_type": "stream",
     "text": [
      "xyz\n",
      "this is student class\n"
     ]
    }
   ],
   "source": [
    "class Student:\n",
    "    school=\"xyz\"\n",
    "    def __init__(self,m1,m2,m3):\n",
    "        self.m1=m1\n",
    "        self.m2=m2\n",
    "        self.m3=m3\n",
    "    def avg(self):\n",
    "        return (self.m1+self.m2+self.m3)/3\n",
    "    @classmethod\n",
    "    def get_school(cls):\n",
    "        return cls.school\n",
    "    @staticmethod\n",
    "    def info():\n",
    "        print(\"this is student class\")\n",
    "s1=Student(34,67,23)\n",
    "print(Student.get_school())\n",
    "Student.info()"
   ]
  },
  {
   "cell_type": "markdown",
   "id": "c017a930",
   "metadata": {},
   "source": [
    "There is one more method known as 'Abstract Method' but it uses something called as 'Inheritance' we will see it in next chapter."
   ]
  },
  {
   "cell_type": "markdown",
   "id": "07dff370",
   "metadata": {},
   "source": [
    "The End"
   ]
  }
 ],
 "metadata": {
  "kernelspec": {
   "display_name": "Python 3",
   "language": "python",
   "name": "python3"
  },
  "language_info": {
   "codemirror_mode": {
    "name": "ipython",
    "version": 3
   },
   "file_extension": ".py",
   "mimetype": "text/x-python",
   "name": "python",
   "nbconvert_exporter": "python",
   "pygments_lexer": "ipython3",
   "version": "3.8.8"
  }
 },
 "nbformat": 4,
 "nbformat_minor": 5
}
