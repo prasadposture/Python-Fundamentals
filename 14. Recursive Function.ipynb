{
 "cells": [
  {
   "cell_type": "markdown",
   "id": "ec00c8f0",
   "metadata": {},
   "source": [
    "# Recursive Functions\n",
    "A recursive function is a function that calls itself during its execution. The process may repeat several times, outputting the result and the end of each iteration."
   ]
  },
  {
   "cell_type": "markdown",
   "id": "2fd38849",
   "metadata": {},
   "source": [
    "### How does the recursion work? \n",
    "Recursive functions use something called “the call stack.” When a program calls a function, that function goes on top of the call stack. This similar to a stack of books. You add things one at a time. Then, when you are ready to take something off, you always take off the top item."
   ]
  },
  {
   "cell_type": "markdown",
   "id": "19faa105",
   "metadata": {},
   "source": [
    "### Advantages of recursion:\n",
    "1. The code may be easier to write.\n",
    "2. To solve such problems which are naturally recursive such as tower of Hanoi.\n",
    "3. Reduce unnecessary calling of function.\n",
    "4. Extremely useful when applying the same solution.\n",
    "5. Recursion reduce the length of code.\n",
    "6. It is very useful in solving the data structure problem."
   ]
  },
  {
   "cell_type": "markdown",
   "id": "c5355667",
   "metadata": {},
   "source": [
    "We will see few examples to get the concept of recursion more clearer."
   ]
  },
  {
   "cell_type": "markdown",
   "id": "e5ff9803",
   "metadata": {},
   "source": [
    "Example : Define a function that gives factorial of a number."
   ]
  },
  {
   "cell_type": "code",
   "execution_count": 1,
   "id": "8d68c68b",
   "metadata": {},
   "outputs": [],
   "source": [
    "def factorial(n): # naming the function\n",
    "    if n==1 or n==0: # putting into conditional statement\n",
    "        return 1\n",
    "    elif n>1:\n",
    "        return (n*factorial(n-1)) #recursion : the function calls itself and the n gets multiplied with n*(n-1)*factorial(n-2)\n",
    "    #and the function keeps calling itself till the condition is satisfied at some point we get n=1\n",
    "    #we end up getting the formula for the factorial i.e. n*(n-1)*(n-2)*....*1\n",
    "    else:\n",
    "        print(\"Factoiral of the given integer cannot be found!\") # dealing with negative integers"
   ]
  },
  {
   "cell_type": "code",
   "execution_count": 2,
   "id": "e571c7ff",
   "metadata": {},
   "outputs": [
    {
     "data": {
      "text/plain": [
       "6"
      ]
     },
     "execution_count": 2,
     "metadata": {},
     "output_type": "execute_result"
    }
   ],
   "source": [
    "factorial(3)"
   ]
  },
  {
   "cell_type": "code",
   "execution_count": 3,
   "id": "5db1ab44",
   "metadata": {},
   "outputs": [
    {
     "name": "stdout",
     "output_type": "stream",
     "text": [
      "Factoiral of the given integer cannot be found!\n"
     ]
    }
   ],
   "source": [
    "factorial(-3)"
   ]
  },
  {
   "cell_type": "markdown",
   "id": "bf4d021c",
   "metadata": {},
   "source": [
    "Example : Define a function for multiplication of 2 numbers"
   ]
  },
  {
   "cell_type": "code",
   "execution_count": 4,
   "id": "89f8e0d5",
   "metadata": {},
   "outputs": [],
   "source": [
    "def mult(a,b):\n",
    "    if b==1:\n",
    "        return a\n",
    "    else:\n",
    "        return a+mult(a,b-1) #recursion till we get b=1"
   ]
  },
  {
   "cell_type": "code",
   "execution_count": 5,
   "id": "115adede",
   "metadata": {},
   "outputs": [
    {
     "data": {
      "text/plain": [
       "384"
      ]
     },
     "execution_count": 5,
     "metadata": {},
     "output_type": "execute_result"
    }
   ],
   "source": [
    "mult(12,32)"
   ]
  },
  {
   "cell_type": "markdown",
   "id": "be49f579",
   "metadata": {},
   "source": [
    "Example : Tower of Henoi using recursion"
   ]
  },
  {
   "cell_type": "code",
   "execution_count": 6,
   "id": "4aca3ebc",
   "metadata": {},
   "outputs": [],
   "source": [
    "def tower(n,fr,to,spare):\n",
    "    if n==1:\n",
    "        print('move from',fr,'to',to)\n",
    "    else:\n",
    "        tower(n-1,fr,to,spare)\n",
    "        tower(1,fr,to,spare)\n",
    "        tower(n-1,spare,to,fr)"
   ]
  },
  {
   "cell_type": "code",
   "execution_count": 7,
   "id": "5bd5c77b",
   "metadata": {},
   "outputs": [
    {
     "name": "stdout",
     "output_type": "stream",
     "text": [
      "move from f to t\n",
      "move from f to t\n",
      "move from s to t\n"
     ]
    }
   ],
   "source": [
    "tower(2,'f','t','s')"
   ]
  },
  {
   "cell_type": "markdown",
   "id": "1094338e",
   "metadata": {},
   "source": [
    "Example : Define a function that reverses the given string"
   ]
  },
  {
   "cell_type": "code",
   "execution_count": 8,
   "id": "257ae207",
   "metadata": {},
   "outputs": [],
   "source": [
    "def reverse(str):\n",
    "    if len(str)==1:\n",
    "        return str\n",
    "    else:\n",
    "        return reverse(str[1:])+str[0]"
   ]
  },
  {
   "cell_type": "code",
   "execution_count": 9,
   "id": "60a54b23",
   "metadata": {},
   "outputs": [
    {
     "data": {
      "text/plain": [
       "'dasarP'"
      ]
     },
     "execution_count": 9,
     "metadata": {},
     "output_type": "execute_result"
    }
   ],
   "source": [
    "reverse('Prasad')"
   ]
  },
  {
   "cell_type": "markdown",
   "id": "17b7e385",
   "metadata": {},
   "source": [
    "Example : Check if the given string is palindrome"
   ]
  },
  {
   "cell_type": "code",
   "execution_count": 10,
   "id": "95b2e54f",
   "metadata": {},
   "outputs": [],
   "source": [
    "def palindrome(s):\n",
    "    s=s.replace(' ','')#removes the spaces\n",
    "    return s==s[::-1] #checks if the given string is same in both ways"
   ]
  },
  {
   "cell_type": "code",
   "execution_count": 11,
   "id": "477054a4",
   "metadata": {},
   "outputs": [
    {
     "data": {
      "text/plain": [
       "False"
      ]
     },
     "execution_count": 11,
     "metadata": {},
     "output_type": "execute_result"
    }
   ],
   "source": [
    "palindrome('PrintHood')"
   ]
  },
  {
   "cell_type": "code",
   "execution_count": 12,
   "id": "5ea4f959",
   "metadata": {},
   "outputs": [
    {
     "data": {
      "text/plain": [
       "True"
      ]
     },
     "execution_count": 12,
     "metadata": {},
     "output_type": "execute_result"
    }
   ],
   "source": [
    "palindrome('kalak')"
   ]
  },
  {
   "cell_type": "code",
   "execution_count": 13,
   "id": "0d111eee",
   "metadata": {},
   "outputs": [
    {
     "data": {
      "text/plain": [
       "True"
      ]
     },
     "execution_count": 13,
     "metadata": {},
     "output_type": "execute_result"
    }
   ],
   "source": [
    "palindrome('nurses run')"
   ]
  },
  {
   "cell_type": "markdown",
   "id": "e31d11af",
   "metadata": {},
   "source": [
    "Example : Define a function to print sum of first n natural numbers"
   ]
  },
  {
   "cell_type": "code",
   "execution_count": 14,
   "id": "bca8b856",
   "metadata": {},
   "outputs": [],
   "source": [
    "def son(n):\n",
    "    \"\"\"son: sum of first n natural numbers\"\"\"\n",
    "    if n==1:\n",
    "        return 1\n",
    "    else:\n",
    "        return n+son(n-1)"
   ]
  },
  {
   "cell_type": "code",
   "execution_count": 15,
   "id": "443dcffd",
   "metadata": {},
   "outputs": [
    {
     "data": {
      "text/plain": [
       "276"
      ]
     },
     "execution_count": 15,
     "metadata": {},
     "output_type": "execute_result"
    }
   ],
   "source": [
    "son(23)"
   ]
  },
  {
   "cell_type": "code",
   "execution_count": 16,
   "id": "5e0a549e",
   "metadata": {},
   "outputs": [
    {
     "data": {
      "text/plain": [
       "'son: sum of first n natural numbers'"
      ]
     },
     "execution_count": 16,
     "metadata": {},
     "output_type": "execute_result"
    }
   ],
   "source": [
    "son.__doc__"
   ]
  },
  {
   "cell_type": "markdown",
   "id": "0ea987d4",
   "metadata": {},
   "source": [
    "Example : Write a programme to display fibonacci sequence"
   ]
  },
  {
   "cell_type": "code",
   "execution_count": 17,
   "id": "c854651f",
   "metadata": {},
   "outputs": [],
   "source": [
    "def fibnum(n):\n",
    "    if n==1:\n",
    "        return 0\n",
    "    elif n==2:\n",
    "        return 1\n",
    "    else:\n",
    "        return (fibnum(n-1)+fibnum(n-2))\n",
    "def fibo(n):\n",
    "    for i in range(1,n+1):\n",
    "        print(fibnum(i))"
   ]
  },
  {
   "cell_type": "code",
   "execution_count": 18,
   "id": "daf227d7",
   "metadata": {},
   "outputs": [
    {
     "name": "stdout",
     "output_type": "stream",
     "text": [
      "0\n",
      "1\n",
      "1\n",
      "2\n",
      "3\n",
      "5\n"
     ]
    }
   ],
   "source": [
    "fibo(6)"
   ]
  },
  {
   "cell_type": "markdown",
   "id": "78ee93d7",
   "metadata": {},
   "source": [
    "The End"
   ]
  }
 ],
 "metadata": {
  "kernelspec": {
   "display_name": "Python 3",
   "language": "python",
   "name": "python3"
  },
  "language_info": {
   "codemirror_mode": {
    "name": "ipython",
    "version": 3
   },
   "file_extension": ".py",
   "mimetype": "text/x-python",
   "name": "python",
   "nbconvert_exporter": "python",
   "pygments_lexer": "ipython3",
   "version": "3.8.8"
  }
 },
 "nbformat": 4,
 "nbformat_minor": 5
}
