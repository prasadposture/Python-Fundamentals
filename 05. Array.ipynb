{
 "cells": [
  {
   "cell_type": "markdown",
   "id": "02ddc534",
   "metadata": {},
   "source": [
    "# Array\n",
    "Python does not have built-in support for Arrays, but Python Lists can be used instead. To work with arrays in Python you will have to\n",
    "import a library, like the NumPy library."
   ]
  },
  {
   "cell_type": "markdown",
   "id": "cf0af217",
   "metadata": {},
   "source": [
    "Arrays are used to store multiple values in one single variable:"
   ]
  },
  {
   "cell_type": "code",
   "execution_count": 1,
   "id": "71acf4eb",
   "metadata": {},
   "outputs": [
    {
     "data": {
      "text/plain": [
       "['Ford', 'Volvo', 'BMW']"
      ]
     },
     "execution_count": 1,
     "metadata": {},
     "output_type": "execute_result"
    }
   ],
   "source": [
    "#Create an array containing car names\n",
    "cars = [\"Ford\", \"Volvo\", \"BMW\"]\n",
    "cars"
   ]
  },
  {
   "cell_type": "markdown",
   "id": "9ecbaf33",
   "metadata": {},
   "source": [
    "## What is an Array?\n",
    "An array is a special variable, which can hold more than one value at a time.  \n",
    "If you have a list of items (a list of car names, for example), storing the cars in single variables could look like this: \n",
    "car1 = \"Ford\"  \n",
    "car2 = \"Volvo\"  \n",
    "car3 = \"BMW\"  \n",
    "However, what if you want to loop through the cars and find a specific one? And what if you had not 3 cars, but 300?  \n",
    "The solution is an array!  \n",
    "An array can hold many values under a single name, and you can access the values by referring to an index number.  "
   ]
  },
  {
   "cell_type": "markdown",
   "id": "45b76364",
   "metadata": {},
   "source": [
    "### Access the Elements of an Array\n",
    "**You refer to an array element by referring to the index number**"
   ]
  },
  {
   "cell_type": "markdown",
   "id": "86c9c498",
   "metadata": {},
   "source": [
    "Get the value of the first array item:"
   ]
  },
  {
   "cell_type": "code",
   "execution_count": 2,
   "id": "aa93eb0d",
   "metadata": {},
   "outputs": [
    {
     "data": {
      "text/plain": [
       "'Ford'"
      ]
     },
     "execution_count": 2,
     "metadata": {},
     "output_type": "execute_result"
    }
   ],
   "source": [
    "cars[0]"
   ]
  },
  {
   "cell_type": "markdown",
   "id": "c61857ed",
   "metadata": {},
   "source": [
    "Modify the value of the first array item:"
   ]
  },
  {
   "cell_type": "code",
   "execution_count": 3,
   "id": "174334a8",
   "metadata": {},
   "outputs": [
    {
     "data": {
      "text/plain": [
       "['Toyota', 'Volvo', 'BMW']"
      ]
     },
     "execution_count": 3,
     "metadata": {},
     "output_type": "execute_result"
    }
   ],
   "source": [
    "cars[0] = \"Toyota\"\n",
    "cars #Fords will be replaced with Toyota"
   ]
  },
  {
   "cell_type": "markdown",
   "id": "9a357c28",
   "metadata": {},
   "source": [
    "### The Length of an Array\n",
    "Use the len() method to return the length of an array (the number of elements in an array).  \n",
    "**Note:** Since the indexing start from zero, the length of an array is always one more than the highest array index."
   ]
  },
  {
   "cell_type": "code",
   "execution_count": 4,
   "id": "f4c90115",
   "metadata": {},
   "outputs": [
    {
     "data": {
      "text/plain": [
       "3"
      ]
     },
     "execution_count": 4,
     "metadata": {},
     "output_type": "execute_result"
    }
   ],
   "source": [
    "#finding length of cars array\n",
    "len(cars)"
   ]
  },
  {
   "cell_type": "markdown",
   "id": "16972a7c",
   "metadata": {},
   "source": [
    "### Looping Array Elements\n",
    "You can use the for in loop to loop through all the elements of an array"
   ]
  },
  {
   "cell_type": "code",
   "execution_count": 5,
   "id": "19e9a65a",
   "metadata": {},
   "outputs": [
    {
     "name": "stdout",
     "output_type": "stream",
     "text": [
      "Toyota\n",
      "Volvo\n",
      "BMW\n"
     ]
    }
   ],
   "source": [
    "#Print each item in the cars\n",
    "for x in cars:\n",
    "    print(x)"
   ]
  },
  {
   "cell_type": "markdown",
   "id": "e1c670ae",
   "metadata": {},
   "source": [
    "### Adding Array Elements\n",
    "You can use the append() method to add an element to an array"
   ]
  },
  {
   "cell_type": "code",
   "execution_count": 6,
   "id": "e8ef65c1",
   "metadata": {},
   "outputs": [
    {
     "data": {
      "text/plain": [
       "['Toyota', 'Volvo', 'BMW', 'Honda']"
      ]
     },
     "execution_count": 6,
     "metadata": {},
     "output_type": "execute_result"
    }
   ],
   "source": [
    "#Add one more element to the cars array\n",
    "cars.append(\"Honda\")\n",
    "cars"
   ]
  },
  {
   "cell_type": "markdown",
   "id": "2c9c4ea5",
   "metadata": {},
   "source": [
    "**Remarks:**\n",
    "1. Unlike in the list where we append an element without puting it into square brackets\n",
    "1. You cannot use extend method in here since it takes each element of the string word by word "
   ]
  },
  {
   "cell_type": "markdown",
   "id": "26597b89",
   "metadata": {},
   "source": [
    "### Removing Array Elements"
   ]
  },
  {
   "cell_type": "markdown",
   "id": "d93406dd",
   "metadata": {},
   "source": [
    "You can use the pop() method to remove an element from the array."
   ]
  },
  {
   "cell_type": "code",
   "execution_count": 7,
   "id": "32deef7a",
   "metadata": {},
   "outputs": [
    {
     "data": {
      "text/plain": [
       "['Toyota', 'BMW', 'Honda']"
      ]
     },
     "execution_count": 7,
     "metadata": {},
     "output_type": "execute_result"
    }
   ],
   "source": [
    "#Delete the second element of the cars array\n",
    "cars.pop(1)\n",
    "cars"
   ]
  },
  {
   "cell_type": "markdown",
   "id": "3eaae86d",
   "metadata": {},
   "source": [
    "You can also use the remove() method to remove an element from the array. The list's remove() method only removes the first occurrence of the specified value."
   ]
  },
  {
   "cell_type": "code",
   "execution_count": 8,
   "id": "9f8ff117",
   "metadata": {},
   "outputs": [
    {
     "data": {
      "text/plain": [
       "['BMW', 'Honda']"
      ]
     },
     "execution_count": 8,
     "metadata": {},
     "output_type": "execute_result"
    }
   ],
   "source": [
    "#Delete the element that has the value \"Toyota\"\n",
    "cars.remove(\"Toyota\")\n",
    "cars"
   ]
  },
  {
   "cell_type": "markdown",
   "id": "5bf339b2",
   "metadata": {},
   "source": [
    "The End"
   ]
  }
 ],
 "metadata": {
  "kernelspec": {
   "display_name": "Python 3",
   "language": "python",
   "name": "python3"
  },
  "language_info": {
   "codemirror_mode": {
    "name": "ipython",
    "version": 3
   },
   "file_extension": ".py",
   "mimetype": "text/x-python",
   "name": "python",
   "nbconvert_exporter": "python",
   "pygments_lexer": "ipython3",
   "version": "3.8.8"
  }
 },
 "nbformat": 4,
 "nbformat_minor": 5
}
