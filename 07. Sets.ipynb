{
 "cells": [
  {
   "cell_type": "markdown",
   "id": "23cdc862",
   "metadata": {},
   "source": [
    "# Sets\n",
    "A Set is an unordered collection data type that is iterable, mutable, and has no duplicate elements."
   ]
  },
  {
   "cell_type": "code",
   "execution_count": 1,
   "id": "4f6cc21c",
   "metadata": {},
   "outputs": [
    {
     "name": "stdout",
     "output_type": "stream",
     "text": [
      "set()\n",
      "<class 'set'>\n"
     ]
    }
   ],
   "source": [
    "#Defining an empty set\n",
    "set_var=set()\n",
    "print(set_var)\n",
    "print(type(set_var))"
   ]
  },
  {
   "cell_type": "markdown",
   "id": "88059450",
   "metadata": {},
   "source": [
    "You can denote a set with a pair of curly brackets { }. Python will automatically remove duplicate items:"
   ]
  },
  {
   "cell_type": "code",
   "execution_count": 2,
   "id": "00cb97ac",
   "metadata": {},
   "outputs": [
    {
     "data": {
      "text/plain": [
       "{1, 2, 3, 4, 5, 6}"
      ]
     },
     "execution_count": 2,
     "metadata": {},
     "output_type": "execute_result"
    }
   ],
   "source": [
    "#Set with numeric values\n",
    "set_var={1,2,3,3,4,5,6}\n",
    "set_var"
   ]
  },
  {
   "cell_type": "code",
   "execution_count": 3,
   "id": "b2737573",
   "metadata": {},
   "outputs": [
    {
     "data": {
      "text/plain": [
       "{'Avengers', 'Hitman', 'Ironman'}"
      ]
     },
     "execution_count": 3,
     "metadata": {},
     "output_type": "execute_result"
    }
   ],
   "source": [
    "#Set with non-numeric values\n",
    "set_var={\"Avengers\",\"Ironman\",\"Hitman\"}\n",
    "set_var"
   ]
  },
  {
   "cell_type": "code",
   "execution_count": 4,
   "id": "b6704009",
   "metadata": {},
   "outputs": [
    {
     "data": {
      "text/plain": [
       "{'R&B', 'disco', 'hard rock', 'pop', 'rock', 'soul'}"
      ]
     },
     "execution_count": 4,
     "metadata": {},
     "output_type": "execute_result"
    }
   ],
   "source": [
    "#set of music genres\n",
    "set1={\"pop\",\"rock\",\"soul\",\"hard rock\",\"rock\",\"R&B\",\"rock\",\"disco\"}\n",
    "set1 #duplicate values are removed"
   ]
  },
  {
   "cell_type": "markdown",
   "id": "dbf726db",
   "metadata": {},
   "source": [
    "You can also create **a set from a list** as follows:"
   ]
  },
  {
   "cell_type": "code",
   "execution_count": 5,
   "id": "d0df2ded",
   "metadata": {},
   "outputs": [
    {
     "data": {
      "text/plain": [
       "{10.0,\n",
       " 1982,\n",
       " '30-Nov-82',\n",
       " 46.0,\n",
       " 65,\n",
       " None,\n",
       " 'michael jackson',\n",
       " 'oo:42:19',\n",
       " 'pop, rock, R&B',\n",
       " 'thriller'}"
      ]
     },
     "execution_count": 5,
     "metadata": {},
     "output_type": "execute_result"
    }
   ],
   "source": [
    "#Converting a list into set\n",
    "album_list=[\"michael jackson\",\"thriller\",1982,\"oo:42:19\", \"pop, rock, R&B\", 46.0, 65, \"30-Nov-82\",None, 10.0]\n",
    "album_set=set(album_list)\n",
    "album_set"
   ]
  },
  {
   "cell_type": "markdown",
   "id": "324870da",
   "metadata": {},
   "source": [
    "## Set Operations"
   ]
  },
  {
   "cell_type": "code",
   "execution_count": 6,
   "id": "ea64cf0c",
   "metadata": {},
   "outputs": [
    {
     "data": {
      "text/plain": [
       "{'AC/DC', 'back in black', 'thriller'}"
      ]
     },
     "execution_count": 6,
     "metadata": {},
     "output_type": "execute_result"
    }
   ],
   "source": [
    "#Sample set for performing operations\n",
    "A=set([\"thriller\",\"back in black\",\"AC/DC\"])\n",
    "A"
   ]
  },
  {
   "cell_type": "markdown",
   "id": "514645e3",
   "metadata": {},
   "source": [
    "**Indexing doesn't work for sets:**"
   ]
  },
  {
   "cell_type": "code",
   "execution_count": 7,
   "id": "45322821",
   "metadata": {},
   "outputs": [
    {
     "ename": "TypeError",
     "evalue": "'set' object is not subscriptable",
     "output_type": "error",
     "traceback": [
      "\u001b[1;31m---------------------------------------------------------------------------\u001b[0m",
      "\u001b[1;31mTypeError\u001b[0m                                 Traceback (most recent call last)",
      "\u001b[1;32m<ipython-input-7-e3954f2f61a0>\u001b[0m in \u001b[0;36m<module>\u001b[1;34m\u001b[0m\n\u001b[1;32m----> 1\u001b[1;33m \u001b[0mA\u001b[0m\u001b[1;33m[\u001b[0m\u001b[1;36m0\u001b[0m\u001b[1;33m]\u001b[0m \u001b[1;31m#doesnt give us \"thriller\"\u001b[0m\u001b[1;33m\u001b[0m\u001b[1;33m\u001b[0m\u001b[0m\n\u001b[0m",
      "\u001b[1;31mTypeError\u001b[0m: 'set' object is not subscriptable"
     ]
    }
   ],
   "source": [
    "A[0] #doesnt give us \"thriller\""
   ]
  },
  {
   "cell_type": "code",
   "execution_count": 8,
   "id": "96d2c48a",
   "metadata": {},
   "outputs": [
    {
     "ename": "TypeError",
     "evalue": "'set' object is not subscriptable",
     "output_type": "error",
     "traceback": [
      "\u001b[1;31m---------------------------------------------------------------------------\u001b[0m",
      "\u001b[1;31mTypeError\u001b[0m                                 Traceback (most recent call last)",
      "\u001b[1;32m<ipython-input-8-c2fb5e3b8649>\u001b[0m in \u001b[0;36m<module>\u001b[1;34m\u001b[0m\n\u001b[1;32m----> 1\u001b[1;33m \u001b[0mA\u001b[0m\u001b[1;33m[\u001b[0m\u001b[1;34m'back in '\u001b[0m\u001b[1;33m]\u001b[0m \u001b[1;31m#doesn't return 1 in here\u001b[0m\u001b[1;33m\u001b[0m\u001b[1;33m\u001b[0m\u001b[0m\n\u001b[0m",
      "\u001b[1;31mTypeError\u001b[0m: 'set' object is not subscriptable"
     ]
    }
   ],
   "source": [
    "A['back in '] #doesn't return 1 in here"
   ]
  },
  {
   "cell_type": "markdown",
   "id": "5b83ff67",
   "metadata": {},
   "source": [
    "We can add an element to a set using the **add()** method:"
   ]
  },
  {
   "cell_type": "code",
   "execution_count": 9,
   "id": "32e90fb5",
   "metadata": {},
   "outputs": [
    {
     "data": {
      "text/plain": [
       "{'AC/DC', 'NSYNC', 'back in black', 'thriller'}"
      ]
     },
     "execution_count": 9,
     "metadata": {},
     "output_type": "execute_result"
    }
   ],
   "source": [
    "A.add(\"NSYNC\")\n",
    "A"
   ]
  },
  {
   "cell_type": "markdown",
   "id": "f389596e",
   "metadata": {},
   "source": [
    "If we add the same element twice, nothing will happen as there can be no duplicates in a set:"
   ]
  },
  {
   "cell_type": "code",
   "execution_count": 10,
   "id": "5f9a0024",
   "metadata": {},
   "outputs": [
    {
     "data": {
      "text/plain": [
       "{'AC/DC', 'NSYNC', 'back in black', 'thriller'}"
      ]
     },
     "execution_count": 10,
     "metadata": {},
     "output_type": "execute_result"
    }
   ],
   "source": [
    "A.add(\"NSYNC\")\n",
    "A"
   ]
  },
  {
   "cell_type": "markdown",
   "id": "e85b1011",
   "metadata": {},
   "source": [
    "We can remove an item from a set using the **remove()** method:"
   ]
  },
  {
   "cell_type": "code",
   "execution_count": 11,
   "id": "2957f75c",
   "metadata": {},
   "outputs": [
    {
     "data": {
      "text/plain": [
       "{'AC/DC', 'back in black', 'thriller'}"
      ]
     },
     "execution_count": 11,
     "metadata": {},
     "output_type": "execute_result"
    }
   ],
   "source": [
    "A.remove(\"NSYNC\")\n",
    "A"
   ]
  },
  {
   "cell_type": "markdown",
   "id": "46c60b59",
   "metadata": {},
   "source": [
    "We can verify if an element is in the set using the **in** command:"
   ]
  },
  {
   "cell_type": "code",
   "execution_count": 12,
   "id": "f7ea811a",
   "metadata": {},
   "outputs": [
    {
     "data": {
      "text/plain": [
       "True"
      ]
     },
     "execution_count": 12,
     "metadata": {},
     "output_type": "execute_result"
    }
   ],
   "source": [
    "\"AC/DC\" in A"
   ]
  },
  {
   "cell_type": "code",
   "execution_count": 13,
   "id": "5b20ce7b",
   "metadata": {},
   "outputs": [
    {
     "data": {
      "text/plain": [
       "False"
      ]
     },
     "execution_count": 13,
     "metadata": {},
     "output_type": "execute_result"
    }
   ],
   "source": [
    "\"NSYNC\" in A"
   ]
  },
  {
   "cell_type": "markdown",
   "id": "911861e5",
   "metadata": {},
   "source": [
    "## Sets Logic Operations\n",
    "Remember that with sets you can check the difference between sets, as well as the symmetric difference, intersection, and union:"
   ]
  },
  {
   "cell_type": "code",
   "execution_count": 14,
   "id": "0264d015",
   "metadata": {},
   "outputs": [],
   "source": [
    "# Sample Set\n",
    "album_set1 = set([\"Thriller\", 'AC/DC', 'Back in Black'])\n",
    "album_set2 = set([ \"AC/DC\", \"Back in Black\", \"The Dark Side of the Moon\"])"
   ]
  },
  {
   "cell_type": "code",
   "execution_count": 15,
   "id": "48a6cc0c",
   "metadata": {},
   "outputs": [
    {
     "data": {
      "text/plain": [
       "({'AC/DC', 'Back in Black', 'Thriller'},\n",
       " {'AC/DC', 'Back in Black', 'The Dark Side of the Moon'})"
      ]
     },
     "execution_count": 15,
     "metadata": {},
     "output_type": "execute_result"
    }
   ],
   "source": [
    "#Print two sets\n",
    "album_set1, album_set2"
   ]
  },
  {
   "cell_type": "markdown",
   "id": "1e169235",
   "metadata": {},
   "source": [
    "You can find the intersect of two sets as follow using **&** :"
   ]
  },
  {
   "cell_type": "code",
   "execution_count": 16,
   "id": "c8af0a88",
   "metadata": {},
   "outputs": [
    {
     "data": {
      "text/plain": [
       "{'AC/DC', 'Back in Black'}"
      ]
     },
     "execution_count": 16,
     "metadata": {},
     "output_type": "execute_result"
    }
   ],
   "source": [
    "album_set1&album_set2"
   ]
  },
  {
   "cell_type": "markdown",
   "id": "bee11065",
   "metadata": {},
   "source": [
    "You can also find the intersect of two sets as follow using **interesect()** :"
   ]
  },
  {
   "cell_type": "code",
   "execution_count": 17,
   "id": "905d518c",
   "metadata": {},
   "outputs": [
    {
     "data": {
      "text/plain": [
       "{'AC/DC', 'Back in Black'}"
      ]
     },
     "execution_count": 17,
     "metadata": {},
     "output_type": "execute_result"
    }
   ],
   "source": [
    "album_set1.intersection(album_set2)"
   ]
  },
  {
   "cell_type": "code",
   "execution_count": 18,
   "id": "b09af702",
   "metadata": {},
   "outputs": [
    {
     "data": {
      "text/plain": [
       "{'AC/DC', 'Back in Black'}"
      ]
     },
     "execution_count": 18,
     "metadata": {},
     "output_type": "execute_result"
    }
   ],
   "source": [
    "album_set2.intersection(album_set1) #gives same as above"
   ]
  },
  {
   "cell_type": "markdown",
   "id": "0b042709",
   "metadata": {},
   "source": [
    "We can find union of two sets using **|** operator:"
   ]
  },
  {
   "cell_type": "code",
   "execution_count": 19,
   "id": "b11e497b",
   "metadata": {},
   "outputs": [
    {
     "data": {
      "text/plain": [
       "{'AC/DC', 'Back in Black', 'The Dark Side of the Moon', 'Thriller'}"
      ]
     },
     "execution_count": 19,
     "metadata": {},
     "output_type": "execute_result"
    }
   ],
   "source": [
    "album_set1 | album_set2"
   ]
  },
  {
   "cell_type": "code",
   "execution_count": 20,
   "id": "6911c80d",
   "metadata": {},
   "outputs": [
    {
     "data": {
      "text/plain": [
       "{'AC/DC', 'Back in Black', 'The Dark Side of the Moon', 'Thriller'}"
      ]
     },
     "execution_count": 20,
     "metadata": {},
     "output_type": "execute_result"
    }
   ],
   "source": [
    "album_set2 | album_set1 #same as above"
   ]
  },
  {
   "cell_type": "markdown",
   "id": "4697c525",
   "metadata": {},
   "source": [
    "We can also find the union of two function using **union()** function:"
   ]
  },
  {
   "cell_type": "code",
   "execution_count": 21,
   "id": "bd0b70df",
   "metadata": {},
   "outputs": [
    {
     "data": {
      "text/plain": [
       "{'AC/DC', 'Back in Black', 'The Dark Side of the Moon', 'Thriller'}"
      ]
     },
     "execution_count": 21,
     "metadata": {},
     "output_type": "execute_result"
    }
   ],
   "source": [
    "album_set1.union(album_set2)"
   ]
  },
  {
   "cell_type": "code",
   "execution_count": 22,
   "id": "d94628c8",
   "metadata": {},
   "outputs": [
    {
     "data": {
      "text/plain": [
       "{'AC/DC', 'Back in Black', 'The Dark Side of the Moon', 'Thriller'}"
      ]
     },
     "execution_count": 22,
     "metadata": {},
     "output_type": "execute_result"
    }
   ],
   "source": [
    "album_set2.union(album_set1) #same as above"
   ]
  },
  {
   "cell_type": "markdown",
   "id": "eed05ebc",
   "metadata": {},
   "source": [
    "We can find the difference between two sets, the **difference()** method:"
   ]
  },
  {
   "cell_type": "code",
   "execution_count": 23,
   "id": "4b528149",
   "metadata": {},
   "outputs": [
    {
     "data": {
      "text/plain": [
       "{'Thriller'}"
      ]
     },
     "execution_count": 23,
     "metadata": {},
     "output_type": "execute_result"
    }
   ],
   "source": [
    "album_set1.difference(album_set2) #gives the element which are in album_set1 but not in album_set2"
   ]
  },
  {
   "cell_type": "code",
   "execution_count": 24,
   "id": "446264fa",
   "metadata": {},
   "outputs": [
    {
     "data": {
      "text/plain": [
       "{'The Dark Side of the Moon'}"
      ]
     },
     "execution_count": 24,
     "metadata": {},
     "output_type": "execute_result"
    }
   ],
   "source": [
    "album_set2.difference(album_set1) #gives the element which are in album_set2 but not in album_set1"
   ]
  },
  {
   "cell_type": "markdown",
   "id": "dd99764f",
   "metadata": {},
   "source": [
    "We can also use **-** operator for finding the difference:"
   ]
  },
  {
   "cell_type": "code",
   "execution_count": 25,
   "id": "4566da6a",
   "metadata": {},
   "outputs": [
    {
     "data": {
      "text/plain": [
       "{'Thriller'}"
      ]
     },
     "execution_count": 25,
     "metadata": {},
     "output_type": "execute_result"
    }
   ],
   "source": [
    "album_set1-album_set2 #gives the element which are in album_set1 but not in album_set2"
   ]
  },
  {
   "cell_type": "code",
   "execution_count": 26,
   "id": "c92b7c0a",
   "metadata": {},
   "outputs": [
    {
     "data": {
      "text/plain": [
       "{'The Dark Side of the Moon'}"
      ]
     },
     "execution_count": 26,
     "metadata": {},
     "output_type": "execute_result"
    }
   ],
   "source": [
    "album_set2-album_set1 #gives the element which are in album_set2 but not in album_set1"
   ]
  },
  {
   "cell_type": "markdown",
   "id": "98fc030b",
   "metadata": {},
   "source": [
    "We can symmetric difference between two sets using **(A-B)|(B-A)** :"
   ]
  },
  {
   "cell_type": "code",
   "execution_count": 27,
   "id": "b825da62",
   "metadata": {},
   "outputs": [
    {
     "data": {
      "text/plain": [
       "{'The Dark Side of the Moon', 'Thriller'}"
      ]
     },
     "execution_count": 27,
     "metadata": {},
     "output_type": "execute_result"
    }
   ],
   "source": [
    "(album_set1-album_set2)|(album_set2-album_set1) #gives element which are only in either album_set1 or album_set2"
   ]
  },
  {
   "cell_type": "markdown",
   "id": "521bb1b2",
   "metadata": {},
   "source": [
    "And you can check if a set is a superset or subset of another set, respectively, like this:"
   ]
  },
  {
   "cell_type": "code",
   "execution_count": 28,
   "id": "7d2fafbb",
   "metadata": {},
   "outputs": [
    {
     "data": {
      "text/plain": [
       "False"
      ]
     },
     "execution_count": 28,
     "metadata": {},
     "output_type": "execute_result"
    }
   ],
   "source": [
    "#Check if superset\n",
    "set(album_set1).issuperset(album_set2)"
   ]
  },
  {
   "cell_type": "code",
   "execution_count": 29,
   "id": "cdb4cc0e",
   "metadata": {},
   "outputs": [
    {
     "data": {
      "text/plain": [
       "False"
      ]
     },
     "execution_count": 29,
     "metadata": {},
     "output_type": "execute_result"
    }
   ],
   "source": [
    "#Check if subset\n",
    "set(album_set2).issubset(album_set1)"
   ]
  },
  {
   "cell_type": "markdown",
   "id": "ac3e9b08",
   "metadata": {},
   "source": [
    "Here is an example where **issubset()** and **issuperset()** return true:"
   ]
  },
  {
   "cell_type": "code",
   "execution_count": 30,
   "id": "46fe4c97",
   "metadata": {},
   "outputs": [
    {
     "data": {
      "text/plain": [
       "True"
      ]
     },
     "execution_count": 30,
     "metadata": {},
     "output_type": "execute_result"
    }
   ],
   "source": [
    "#Check if subset\n",
    "set({\"Back in Black\", \"AC/DC\"}).issubset(album_set1)"
   ]
  },
  {
   "cell_type": "code",
   "execution_count": 31,
   "id": "6516e7dd",
   "metadata": {},
   "outputs": [
    {
     "data": {
      "text/plain": [
       "True"
      ]
     },
     "execution_count": 31,
     "metadata": {},
     "output_type": "execute_result"
    }
   ],
   "source": [
    " #Check if superset\n",
    "album_set1.issuperset({\"Back in Black\", \"AC/DC\"})"
   ]
  },
  {
   "cell_type": "markdown",
   "id": "78f1d91a",
   "metadata": {},
   "source": [
    "The End"
   ]
  }
 ],
 "metadata": {
  "kernelspec": {
   "display_name": "Python 3",
   "language": "python",
   "name": "python3"
  },
  "language_info": {
   "codemirror_mode": {
    "name": "ipython",
    "version": 3
   },
   "file_extension": ".py",
   "mimetype": "text/x-python",
   "name": "python",
   "nbconvert_exporter": "python",
   "pygments_lexer": "ipython3",
   "version": "3.8.8"
  }
 },
 "nbformat": 4,
 "nbformat_minor": 5
}
