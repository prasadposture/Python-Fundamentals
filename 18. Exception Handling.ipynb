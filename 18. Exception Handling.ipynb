{
 "cells": [
  {
   "cell_type": "markdown",
   "id": "f711832c",
   "metadata": {},
   "source": [
    "# Exception Handling"
   ]
  },
  {
   "cell_type": "markdown",
   "id": "23d9c93a",
   "metadata": {},
   "source": [
    "**Python Exception :** An exception can be defined as an unusual condition in a program resulting in the\n",
    "interruption in the flow of the program. Whenever an exception occurs, the program stops the execution,\n",
    "and thus the further code is not executed. Therefore, an exception is the run-time errors that are unable to\n",
    "handle to Python script. An exception is a Python object that represents an error."
   ]
  },
  {
   "cell_type": "markdown",
   "id": "8296a245",
   "metadata": {},
   "source": [
    "**3 Types of Error**\n",
    "1) Compile Time  \n",
    "2) Logical  \n",
    "3) Run Time    \n",
    "can be handled using exception handling"
   ]
  },
  {
   "cell_type": "markdown",
   "id": "541a86ac",
   "metadata": {},
   "source": [
    "**We need exception handling for executing the preceding code even if previous one gives an error.**  \n"
   ]
  },
  {
   "cell_type": "markdown",
   "id": "c4f4b397",
   "metadata": {},
   "source": [
    "We will see few examples where we will be running into errors then we will find ways to execute the remaining code after the error has occurred."
   ]
  },
  {
   "cell_type": "code",
   "execution_count": 1,
   "id": "dd96bcef",
   "metadata": {},
   "outputs": [
    {
     "ename": "IndexError",
     "evalue": "list index out of range",
     "output_type": "error",
     "traceback": [
      "\u001b[1;31m---------------------------------------------------------------------------\u001b[0m",
      "\u001b[1;31mIndexError\u001b[0m                                Traceback (most recent call last)",
      "\u001b[1;32m<ipython-input-1-c60f413b6ada>\u001b[0m in \u001b[0;36m<module>\u001b[1;34m\u001b[0m\n\u001b[0;32m      1\u001b[0m \u001b[0mlst\u001b[0m\u001b[1;33m=\u001b[0m\u001b[1;33m[\u001b[0m\u001b[1;36m1\u001b[0m\u001b[1;33m,\u001b[0m\u001b[1;36m2\u001b[0m\u001b[1;33m,\u001b[0m\u001b[1;36m3\u001b[0m\u001b[1;33m,\u001b[0m\u001b[1;36m4\u001b[0m\u001b[1;33m]\u001b[0m\u001b[1;33m\u001b[0m\u001b[1;33m\u001b[0m\u001b[0m\n\u001b[1;32m----> 2\u001b[1;33m \u001b[0mlst\u001b[0m\u001b[1;33m[\u001b[0m\u001b[1;36m4\u001b[0m\u001b[1;33m]\u001b[0m \u001b[1;31m#Index Error\u001b[0m\u001b[1;33m\u001b[0m\u001b[1;33m\u001b[0m\u001b[0m\n\u001b[0m",
      "\u001b[1;31mIndexError\u001b[0m: list index out of range"
     ]
    }
   ],
   "source": [
    "lst=[1,2,3,4]\n",
    "lst[4] #Index Error"
   ]
  },
  {
   "cell_type": "code",
   "execution_count": null,
   "id": "e6f890d5",
   "metadata": {},
   "outputs": [],
   "source": [
    "lstt[0] #throws error since lstt[0] is not defined in the workspace"
   ]
  },
  {
   "cell_type": "code",
   "execution_count": null,
   "id": "24a6705f",
   "metadata": {},
   "outputs": [],
   "source": [
    "#Dividing a by b\n",
    "a=5\n",
    "b=2\n",
    "print(a/b)\n",
    "print(\"bye\")\n",
    "#code runs just fine"
   ]
  },
  {
   "cell_type": "code",
   "execution_count": null,
   "id": "a0b83909",
   "metadata": {},
   "outputs": [],
   "source": [
    "#Dividing by zero : Throws ZeroDivisionError since we can't divide by zero\n",
    "a=5\n",
    "b=0\n",
    "print(a/b)\n",
    "print('bye')# this part won't be excecuted"
   ]
  },
  {
   "cell_type": "markdown",
   "id": "1ef53dbe",
   "metadata": {},
   "source": [
    "**The try-except statement:** If the Python program contains suspicious code that may throw the exception,\n",
    "we must place that code in the try block. The try block must be followed with the except statement, which\n",
    "contains a block of code that will be executed if there is some exception in the try block."
   ]
  },
  {
   "cell_type": "markdown",
   "id": "a14ee07f",
   "metadata": {},
   "source": [
    "Handling the erro by usin `try and except`"
   ]
  },
  {
   "cell_type": "code",
   "execution_count": null,
   "id": "f5d62a57",
   "metadata": {},
   "outputs": [],
   "source": [
    "a=5\n",
    "b=0\n",
    "try:\n",
    "    print(a/b) #part that likely will cause error\n",
    "except Exception:\n",
    "    print(\"you can not divide a number by zero\") #part to be executed if we run into exception\n",
    "print('bye') #part to be executed anyways"
   ]
  },
  {
   "cell_type": "code",
   "execution_count": null,
   "id": "23488e0c",
   "metadata": {},
   "outputs": [],
   "source": [
    "a=5\n",
    "b=2\n",
    "try:\n",
    "    print(a/b) #won't cause any error\n",
    "except Exception:\n",
    "    print(\"you can not divide a number by zero\") #won't be executed since we didn't run into error\n",
    "print('bye') #will be printed"
   ]
  },
  {
   "cell_type": "markdown",
   "id": "5c5ada79",
   "metadata": {},
   "source": [
    "Getting the type of error:"
   ]
  },
  {
   "cell_type": "code",
   "execution_count": 2,
   "id": "4202fbc6",
   "metadata": {},
   "outputs": [
    {
     "name": "stdout",
     "output_type": "stream",
     "text": [
      "you can not divide a number by zero: division by zero\n",
      "bye\n"
     ]
    }
   ],
   "source": [
    "a=5\n",
    "b=0\n",
    "try:\n",
    "    print(a/b)\n",
    "except Exception as e: #taking exception as e\n",
    "    print(\"you can not divide a number by zero:\",e) #printing the error \n",
    "print('bye')"
   ]
  },
  {
   "cell_type": "code",
   "execution_count": 3,
   "id": "c846374c",
   "metadata": {},
   "outputs": [
    {
     "name": "stdout",
     "output_type": "stream",
     "text": [
      "division by zero\n",
      "bye\n"
     ]
    }
   ],
   "source": [
    "a=5\n",
    "b=0\n",
    "try:\n",
    "    print(a/b)\n",
    "except Exception as e:\n",
    "    print(e) #printing the error\n",
    "print('bye')"
   ]
  },
  {
   "cell_type": "markdown",
   "id": "5264e3fd",
   "metadata": {},
   "source": [
    "Although this has some limitations; suppose we are opening a file and performing some operation on it which will likely cause error, and if it throws error the file won't be closed."
   ]
  },
  {
   "cell_type": "code",
   "execution_count": 4,
   "id": "7b43b57f",
   "metadata": {},
   "outputs": [
    {
     "name": "stdout",
     "output_type": "stream",
     "text": [
      "resource open\n",
      "2.5\n",
      "resource closed\n"
     ]
    }
   ],
   "source": [
    "a=5\n",
    "b=2\n",
    "try:\n",
    "    print('resource open') #opening the file\n",
    "    print(a/b) #won't give error\n",
    "    print('resource closed') #closing the file\n",
    "except Exception as e:\n",
    "    print(\"you can not divide a number by zero\",e)"
   ]
  },
  {
   "cell_type": "code",
   "execution_count": 5,
   "id": "25971aec",
   "metadata": {},
   "outputs": [
    {
     "name": "stdout",
     "output_type": "stream",
     "text": [
      "resource open\n",
      "you can not divide a number by zero division by zero\n"
     ]
    }
   ],
   "source": [
    "a=5\n",
    "b=0\n",
    "try:\n",
    "    print('resource open') #opening the file\n",
    "    print(a/b) #this will throw error\n",
    "    print('resource closed') #this part won't be executed i.e. file won't be closed\n",
    "except Exception as e:\n",
    "    print(\"you can not divide a number by zero\",e) #since this part is in the exception block , it will be executed."
   ]
  },
  {
   "cell_type": "code",
   "execution_count": 6,
   "id": "b184bc7d",
   "metadata": {},
   "outputs": [
    {
     "name": "stdout",
     "output_type": "stream",
     "text": [
      "resource open\n",
      "you can not divide a number by zero division by zero\n",
      "resource closed\n"
     ]
    }
   ],
   "source": [
    "#solution?\n",
    "a=5\n",
    "b=0\n",
    "try:\n",
    "    print('resource open') #opening the file\n",
    "    print(a/b) #part that throws error\n",
    "except Exception as e:\n",
    "    print(\"you can not divide a number by zero\",e) #it's in exception block : anyways will be executed\n",
    "    print(\"resource closed\") #since in exception block it'll be executed."
   ]
  },
  {
   "cell_type": "markdown",
   "id": "da8c1e9f",
   "metadata": {},
   "source": [
    "But this is only possible if the try block gets an error, if it doesn't, then the exception part won't be executed and the file won't be closed."
   ]
  },
  {
   "cell_type": "code",
   "execution_count": 7,
   "id": "843e8dd4",
   "metadata": {},
   "outputs": [
    {
     "name": "stdout",
     "output_type": "stream",
     "text": [
      "resource open\n",
      "2.5\n"
     ]
    }
   ],
   "source": [
    "a=5\n",
    "b=2\n",
    "try:\n",
    "    print('resource open') #opening the file\n",
    "    print(a/b) #will executed succesfully\n",
    "except Exception as e:\n",
    "    print(\"you can not divide a number by zero\",e) #won't be executed\n",
    "    print(\"resource closed\") #in exception block so won't be executed, file won't be closed."
   ]
  },
  {
   "cell_type": "markdown",
   "id": "3833ef37",
   "metadata": {},
   "source": [
    "So are we gonna execute resource-closed-code twice? Although we can do that we won't! it's not a good programming practice.  \n",
    "In such cases we will use `finally`.\n"
   ]
  },
  {
   "cell_type": "code",
   "execution_count": 8,
   "id": "daf2a1ff",
   "metadata": {},
   "outputs": [
    {
     "name": "stdout",
     "output_type": "stream",
     "text": [
      "resource open\n",
      "2.5\n",
      "resource closed\n"
     ]
    }
   ],
   "source": [
    "a=5\n",
    "b=2\n",
    "try:\n",
    "    print('resource open')\n",
    "    print(a/b)\n",
    "except Exception as e:\n",
    "    print(\"you can not divide a number by zero\",e)\n",
    "finally:\n",
    "    print(\"resource closed\") #Everything works fine"
   ]
  },
  {
   "cell_type": "markdown",
   "id": "2e76db10",
   "metadata": {},
   "source": [
    "**The try...finally block:** Python provides the optional finally statement, which is used with\n",
    "the try statement. It is executed no matter what exception occurs and used to release the external resource.\n",
    "The finally block provides a guarantee of the execution. We can use the finally block with the try block in\n",
    "which we can pace the necessary code, which must be executed before the try statement throws an\n",
    "exception."
   ]
  },
  {
   "cell_type": "code",
   "execution_count": 9,
   "id": "0216d489",
   "metadata": {},
   "outputs": [
    {
     "name": "stdout",
     "output_type": "stream",
     "text": [
      "resource open\n",
      "you can not divide a number by zero division by zero\n",
      "resource closed\n"
     ]
    }
   ],
   "source": [
    "a=5\n",
    "b=0\n",
    "try:\n",
    "    print('resource open')\n",
    "    print(a/b)\n",
    "except Exception as e:\n",
    "    print(\"you can not divide a number by zero\",e)\n",
    "finally:\n",
    "    print(\"resource closed\")"
   ]
  },
  {
   "cell_type": "markdown",
   "id": "2a3bc24c",
   "metadata": {},
   "source": [
    "Now, take an integer as a user input just after the division and print that integer."
   ]
  },
  {
   "cell_type": "code",
   "execution_count": 10,
   "id": "8be08365",
   "metadata": {},
   "outputs": [
    {
     "name": "stdout",
     "output_type": "stream",
     "text": [
      "resource open\n",
      "2.5\n",
      "Enter a number:\n",
      "you can not divide a number by zero invalid literal for int() with base 10: ''\n",
      "resource closed\n"
     ]
    }
   ],
   "source": [
    "a=5\n",
    "b=2\n",
    "try:\n",
    "    print('resource open')\n",
    "    print(a/b) #won't cause any error\n",
    "    n=int(input(\"Enter a number:\")) #inputing something else than an integer will throw error\n",
    "    print(n)\n",
    "except Exception as e:\n",
    "    print(\"you can not divide a number by zero\",e)\n",
    "finally:\n",
    "    print(\"resource closed\")"
   ]
  },
  {
   "cell_type": "markdown",
   "id": "f236e2d9",
   "metadata": {},
   "source": [
    "In here, our code prints zero division error instead of invalid literal error"
   ]
  },
  {
   "cell_type": "code",
   "execution_count": 11,
   "id": "ae224498",
   "metadata": {},
   "outputs": [
    {
     "name": "stdout",
     "output_type": "stream",
     "text": [
      "Enter a number:Prasad\n"
     ]
    },
    {
     "ename": "ValueError",
     "evalue": "invalid literal for int() with base 10: 'Prasad'",
     "output_type": "error",
     "traceback": [
      "\u001b[1;31m---------------------------------------------------------------------------\u001b[0m",
      "\u001b[1;31mValueError\u001b[0m                                Traceback (most recent call last)",
      "\u001b[1;32m<ipython-input-11-9288dc7e6265>\u001b[0m in \u001b[0;36m<module>\u001b[1;34m\u001b[0m\n\u001b[0;32m      1\u001b[0m \u001b[1;31m#the error for literl\u001b[0m\u001b[1;33m\u001b[0m\u001b[1;33m\u001b[0m\u001b[1;33m\u001b[0m\u001b[0m\n\u001b[1;32m----> 2\u001b[1;33m \u001b[0mn\u001b[0m\u001b[1;33m=\u001b[0m\u001b[0mint\u001b[0m\u001b[1;33m(\u001b[0m\u001b[0minput\u001b[0m\u001b[1;33m(\u001b[0m\u001b[1;34m\"Enter a number:\"\u001b[0m\u001b[1;33m)\u001b[0m\u001b[1;33m)\u001b[0m \u001b[1;31m#Entering string instead of integer\u001b[0m\u001b[1;33m\u001b[0m\u001b[1;33m\u001b[0m\u001b[0m\n\u001b[0m\u001b[0;32m      3\u001b[0m \u001b[0mprint\u001b[0m\u001b[1;33m(\u001b[0m\u001b[0mn\u001b[0m\u001b[1;33m)\u001b[0m\u001b[1;33m\u001b[0m\u001b[1;33m\u001b[0m\u001b[0m\n",
      "\u001b[1;31mValueError\u001b[0m: invalid literal for int() with base 10: 'Prasad'"
     ]
    }
   ],
   "source": [
    "#the error for literl\n",
    "n=int(input(\"Enter a number:\")) #Entering string instead of integer\n",
    "print(n)"
   ]
  },
  {
   "cell_type": "markdown",
   "id": "42ca2350",
   "metadata": {},
   "source": [
    "We can overcome this difficulty of multiple possible errors by using multiple `except` blocks while taking all possible errors into account."
   ]
  },
  {
   "cell_type": "code",
   "execution_count": 12,
   "id": "626afb5f",
   "metadata": {},
   "outputs": [
    {
     "name": "stdout",
     "output_type": "stream",
     "text": [
      "resource open\n",
      "2.5\n",
      "Enter a number:Prasad\n",
      "Invalid input\n",
      "resource closed\n"
     ]
    }
   ],
   "source": [
    "a=5\n",
    "b=2\n",
    "try:\n",
    "    print('resource open')\n",
    "    print(a/b) #will worm fine\n",
    "    n=int(input(\"Enter a number:\")) #entering string instead of number\n",
    "    print(n)\n",
    "except ZeroDivisionError as e:\n",
    "    print(\"you can not divide a number by zero\",e)\n",
    "except ValueError as e:\n",
    "    print(\"Invalid input\")\n",
    "except Exception as e: #if we don't know what kind of error we have got in here\n",
    "    print(\"Something wen't wrong\")\n",
    "finally:\n",
    "    print(\"resource closed\")"
   ]
  },
  {
   "cell_type": "markdown",
   "id": "31041cfd",
   "metadata": {},
   "source": [
    "**Raising exceptions :** An exception can be raised forcefully by using the raise clause in Python. It is useful\n",
    "in the scenario where we need to raise an exception to stop the execution of the program."
   ]
  },
  {
   "cell_type": "markdown",
   "id": "85050b40",
   "metadata": {},
   "source": [
    "Write a program that only adds numbers lesser than or equal to 100 and raises exception if the the number is greater than 100."
   ]
  },
  {
   "cell_type": "code",
   "execution_count": 13,
   "id": "40ddb012",
   "metadata": {},
   "outputs": [
    {
     "ename": "Exception",
     "evalue": "the value b was greater than 100",
     "output_type": "error",
     "traceback": [
      "\u001b[1;31m---------------------------------------------------------------------------\u001b[0m",
      "\u001b[1;31mException\u001b[0m                                 Traceback (most recent call last)",
      "\u001b[1;32m<ipython-input-13-adf836b1d0a1>\u001b[0m in \u001b[0;36m<module>\u001b[1;34m\u001b[0m\n\u001b[0;32m      7\u001b[0m         \u001b[0mprint\u001b[0m\u001b[1;33m(\u001b[0m\u001b[0ma\u001b[0m\u001b[1;33m+\u001b[0m\u001b[0mb\u001b[0m\u001b[1;33m)\u001b[0m\u001b[1;33m\u001b[0m\u001b[1;33m\u001b[0m\u001b[0m\n\u001b[0;32m      8\u001b[0m \u001b[1;33m\u001b[0m\u001b[0m\n\u001b[1;32m----> 9\u001b[1;33m \u001b[0madd_nos_upto\u001b[0m\u001b[1;33m(\u001b[0m\u001b[1;36m10\u001b[0m\u001b[1;33m,\u001b[0m\u001b[1;36m555\u001b[0m\u001b[1;33m)\u001b[0m \u001b[1;31m#555>100 so that our program raises and exception\u001b[0m\u001b[1;33m\u001b[0m\u001b[1;33m\u001b[0m\u001b[0m\n\u001b[0m",
      "\u001b[1;32m<ipython-input-13-adf836b1d0a1>\u001b[0m in \u001b[0;36madd_nos_upto\u001b[1;34m(a, b)\u001b[0m\n\u001b[0;32m      3\u001b[0m         \u001b[1;32mraise\u001b[0m \u001b[0mException\u001b[0m\u001b[1;33m(\u001b[0m\u001b[1;34m\"the value a was greater than 100\"\u001b[0m\u001b[1;33m)\u001b[0m \u001b[1;31m#rasing exception\u001b[0m\u001b[1;33m\u001b[0m\u001b[1;33m\u001b[0m\u001b[0m\n\u001b[0;32m      4\u001b[0m     \u001b[1;32mif\u001b[0m \u001b[0mb\u001b[0m\u001b[1;33m>\u001b[0m\u001b[1;36m100\u001b[0m\u001b[1;33m:\u001b[0m\u001b[1;33m\u001b[0m\u001b[1;33m\u001b[0m\u001b[0m\n\u001b[1;32m----> 5\u001b[1;33m         \u001b[1;32mraise\u001b[0m \u001b[0mException\u001b[0m\u001b[1;33m(\u001b[0m\u001b[1;34m\"the value b was greater than 100\"\u001b[0m\u001b[1;33m)\u001b[0m \u001b[1;31m#raising exception\u001b[0m\u001b[1;33m\u001b[0m\u001b[1;33m\u001b[0m\u001b[0m\n\u001b[0m\u001b[0;32m      6\u001b[0m     \u001b[1;32melse\u001b[0m\u001b[1;33m:\u001b[0m\u001b[1;33m\u001b[0m\u001b[1;33m\u001b[0m\u001b[0m\n\u001b[0;32m      7\u001b[0m         \u001b[0mprint\u001b[0m\u001b[1;33m(\u001b[0m\u001b[0ma\u001b[0m\u001b[1;33m+\u001b[0m\u001b[0mb\u001b[0m\u001b[1;33m)\u001b[0m\u001b[1;33m\u001b[0m\u001b[1;33m\u001b[0m\u001b[0m\n",
      "\u001b[1;31mException\u001b[0m: the value b was greater than 100"
     ]
    }
   ],
   "source": [
    "def add_nos_upto(a,b):\n",
    "    if a>100:\n",
    "        raise Exception(\"the value a was greater than 100\") #rasing exception\n",
    "    if b>100:\n",
    "        raise Exception(\"the value b was greater than 100\") #raising exception\n",
    "    else:\n",
    "        print(a+b)\n",
    "        \n",
    "add_nos_upto(10,555) #555>100 so that our program raises and exception"
   ]
  },
  {
   "cell_type": "code",
   "execution_count": 14,
   "id": "d9676a9b",
   "metadata": {},
   "outputs": [
    {
     "name": "stdout",
     "output_type": "stream",
     "text": [
      "100\n"
     ]
    }
   ],
   "source": [
    "def add_nos_upto(a,b):\n",
    "    if a>100:\n",
    "        raise Exception(\"the value a was greater than 100\") #rasing exception\n",
    "    if b>100:\n",
    "        raise Exception(\"the value b was greater than 100\") #raising exception\n",
    "    else:\n",
    "        print(a+b)\n",
    "        \n",
    "add_nos_upto(10,90) #no exceptions raise"
   ]
  },
  {
   "cell_type": "markdown",
   "id": "5257b35d",
   "metadata": {},
   "source": [
    "The End"
   ]
  }
 ],
 "metadata": {
  "kernelspec": {
   "display_name": "Python 3",
   "language": "python",
   "name": "python3"
  }
 },
 "nbformat": 4,
 "nbformat_minor": 5
}
