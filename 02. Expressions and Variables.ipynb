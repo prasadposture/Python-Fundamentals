{
 "cells": [
  {
   "cell_type": "markdown",
   "id": "e79badca",
   "metadata": {},
   "source": [
    "# Expressions and Variables"
   ]
  },
  {
   "cell_type": "markdown",
   "id": "89a21c33",
   "metadata": {},
   "source": [
    "## Expressions\n",
    "Expressions in Python can include operations among compatible types (e.g., integers and floats). For example, basic arithmetic operations  \n",
    "like adding multiple numbers:"
   ]
  },
  {
   "cell_type": "code",
   "execution_count": 1,
   "id": "9ba5d882",
   "metadata": {},
   "outputs": [
    {
     "data": {
      "text/plain": [
       "141"
      ]
     },
     "execution_count": 1,
     "metadata": {},
     "output_type": "execute_result"
    }
   ],
   "source": [
    " #Addition operation expression\n",
    "42 + 50 + 18 + 31"
   ]
  },
  {
   "cell_type": "markdown",
   "id": "3953e4d6",
   "metadata": {},
   "source": [
    "We can perform subtraction operations using the minus operator. In this case the result is a negative number:"
   ]
  },
  {
   "cell_type": "code",
   "execution_count": 2,
   "id": "91bc116d",
   "metadata": {},
   "outputs": [
    {
     "data": {
      "text/plain": [
       "-10"
      ]
     },
     "execution_count": 2,
     "metadata": {},
     "output_type": "execute_result"
    }
   ],
   "source": [
    "#Substraction operation expression\n",
    "40-50"
   ]
  },
  {
   "cell_type": "markdown",
   "id": "2342afe4",
   "metadata": {},
   "source": [
    "We can do multiplication using an asterisk:"
   ]
  },
  {
   "cell_type": "code",
   "execution_count": 3,
   "id": "6292edc7",
   "metadata": {},
   "outputs": [
    {
     "data": {
      "text/plain": [
       "25"
      ]
     },
     "execution_count": 3,
     "metadata": {},
     "output_type": "execute_result"
    }
   ],
   "source": [
    "#Multiplication operation expression\n",
    "5 * 5"
   ]
  },
  {
   "cell_type": "markdown",
   "id": "ca9e477d",
   "metadata": {},
   "source": [
    "We can find a power of a number using double asterix **"
   ]
  },
  {
   "cell_type": "code",
   "execution_count": 4,
   "id": "cc0868c0",
   "metadata": {},
   "outputs": [
    {
     "data": {
      "text/plain": [
       "8"
      ]
     },
     "execution_count": 4,
     "metadata": {},
     "output_type": "execute_result"
    }
   ],
   "source": [
    "2**3 #gives 2 raise to 3"
   ]
  },
  {
   "cell_type": "code",
   "execution_count": 5,
   "id": "592841ee",
   "metadata": {},
   "outputs": [
    {
     "data": {
      "text/plain": [
       "625"
      ]
     },
     "execution_count": 5,
     "metadata": {},
     "output_type": "execute_result"
    }
   ],
   "source": [
    "25**2 #square of 25"
   ]
  },
  {
   "cell_type": "markdown",
   "id": "ac088b57",
   "metadata": {},
   "source": [
    "We can also perform division with the forward slash:"
   ]
  },
  {
   "cell_type": "code",
   "execution_count": 6,
   "id": "b96e0a08",
   "metadata": {},
   "outputs": [
    {
     "data": {
      "text/plain": [
       "5.0"
      ]
     },
     "execution_count": 6,
     "metadata": {},
     "output_type": "execute_result"
    }
   ],
   "source": [
    " #Division operation expression\n",
    "25 / 5"
   ]
  },
  {
   "cell_type": "code",
   "execution_count": 7,
   "id": "04448ef8",
   "metadata": {},
   "outputs": [
    {
     "data": {
      "text/plain": [
       "4.166666666666667"
      ]
     },
     "execution_count": 7,
     "metadata": {},
     "output_type": "execute_result"
    }
   ],
   "source": [
    "#Division operation expression\n",
    "25 / 6"
   ]
  },
  {
   "cell_type": "markdown",
   "id": "69defc42",
   "metadata": {},
   "source": [
    "As seen in the Exercise above, we can use the double slash for integer division, where the result is rounded down to the nearest integer i.e. the double slash gives the quotient"
   ]
  },
  {
   "cell_type": "code",
   "execution_count": 8,
   "id": "a6ba8651",
   "metadata": {},
   "outputs": [
    {
     "data": {
      "text/plain": [
       "5"
      ]
     },
     "execution_count": 8,
     "metadata": {},
     "output_type": "execute_result"
    }
   ],
   "source": [
    "25//5"
   ]
  },
  {
   "cell_type": "code",
   "execution_count": 9,
   "id": "ff9c73d2",
   "metadata": {},
   "outputs": [
    {
     "data": {
      "text/plain": [
       "5"
      ]
     },
     "execution_count": 9,
     "metadata": {},
     "output_type": "execute_result"
    }
   ],
   "source": [
    "26//5"
   ]
  },
  {
   "cell_type": "markdown",
   "id": "d21264d3",
   "metadata": {},
   "source": [
    "We can use % operator for getting the remainder after division"
   ]
  },
  {
   "cell_type": "code",
   "execution_count": 10,
   "id": "ec4801d6",
   "metadata": {},
   "outputs": [
    {
     "data": {
      "text/plain": [
       "1"
      ]
     },
     "execution_count": 10,
     "metadata": {},
     "output_type": "execute_result"
    }
   ],
   "source": [
    "23%2 #gives the remainder when we divide 23 by 2"
   ]
  },
  {
   "cell_type": "code",
   "execution_count": 11,
   "id": "ff9c1eed",
   "metadata": {},
   "outputs": [
    {
     "data": {
      "text/plain": [
       "5"
      ]
     },
     "execution_count": 11,
     "metadata": {},
     "output_type": "execute_result"
    }
   ],
   "source": [
    "37%8 #gives the remainder when we divide 37 by 8"
   ]
  },
  {
   "cell_type": "markdown",
   "id": "88bd3919",
   "metadata": {},
   "source": [
    "One can use all these operators to write an expression"
   ]
  },
  {
   "cell_type": "code",
   "execution_count": 12,
   "id": "833ab7ce",
   "metadata": {},
   "outputs": [
    {
     "data": {
      "text/plain": [
       "368.0"
      ]
     },
     "execution_count": 12,
     "metadata": {},
     "output_type": "execute_result"
    }
   ],
   "source": [
    "(30 + 2) * 60/5-2**4 #it follows the BODMAS rule"
   ]
  },
  {
   "cell_type": "markdown",
   "id": "027a3a97",
   "metadata": {},
   "source": [
    "You can check the datatype of the output you get after performing an operation:"
   ]
  },
  {
   "cell_type": "code",
   "execution_count": 13,
   "id": "9d8a68e7",
   "metadata": {},
   "outputs": [
    {
     "data": {
      "text/plain": [
       "float"
      ]
     },
     "execution_count": 13,
     "metadata": {},
     "output_type": "execute_result"
    }
   ],
   "source": [
    "type(6/2)"
   ]
  },
  {
   "cell_type": "code",
   "execution_count": 14,
   "id": "eaf8cd95",
   "metadata": {},
   "outputs": [
    {
     "data": {
      "text/plain": [
       "int"
      ]
     },
     "execution_count": 14,
     "metadata": {},
     "output_type": "execute_result"
    }
   ],
   "source": [
    "type(6//2)"
   ]
  },
  {
   "cell_type": "markdown",
   "id": "18f51ba2",
   "metadata": {},
   "source": [
    "## Variables  \n",
    "Just like with most programming languages, we can store values in variables, so we can use them later on. For example:"
   ]
  },
  {
   "cell_type": "code",
   "execution_count": 15,
   "id": "4d53621a",
   "metadata": {},
   "outputs": [],
   "source": [
    "#store value into variable\n",
    "x=31+34/17-54*8"
   ]
  },
  {
   "cell_type": "code",
   "execution_count": 16,
   "id": "cd67508b",
   "metadata": {},
   "outputs": [
    {
     "data": {
      "text/plain": [
       "-399.0"
      ]
     },
     "execution_count": 16,
     "metadata": {},
     "output_type": "execute_result"
    }
   ],
   "source": [
    "#print the value in the variable\n",
    "x"
   ]
  },
  {
   "cell_type": "markdown",
   "id": "35bcd84a",
   "metadata": {},
   "source": [
    "we can also perform operation x and save the results into new variable"
   ]
  },
  {
   "cell_type": "code",
   "execution_count": 17,
   "id": "8e846860",
   "metadata": {},
   "outputs": [
    {
     "data": {
      "text/plain": [
       "-6.65"
      ]
     },
     "execution_count": 17,
     "metadata": {},
     "output_type": "execute_result"
    }
   ],
   "source": [
    "y=x/60\n",
    "y"
   ]
  },
  {
   "cell_type": "markdown",
   "id": "9e2d0d56",
   "metadata": {},
   "source": [
    "If we save a value to an existing variable, the new value will overwrite the previous value:"
   ]
  },
  {
   "cell_type": "code",
   "execution_count": 18,
   "id": "cd949c07",
   "metadata": {},
   "outputs": [
    {
     "data": {
      "text/plain": [
       "-6.65"
      ]
     },
     "execution_count": 18,
     "metadata": {},
     "output_type": "execute_result"
    }
   ],
   "source": [
    "x=x/60\n",
    "x"
   ]
  },
  {
   "cell_type": "code",
   "execution_count": 19,
   "id": "318a6706",
   "metadata": {},
   "outputs": [
    {
     "data": {
      "text/plain": [
       "16"
      ]
     },
     "execution_count": 19,
     "metadata": {},
     "output_type": "execute_result"
    }
   ],
   "source": [
    "x=4\n",
    "y=x*4\n",
    "x=y\n",
    "x"
   ]
  },
  {
   "cell_type": "markdown",
   "id": "c5411e03",
   "metadata": {},
   "source": [
    "It's a good practice to use meaningful variable names, so you and others can read the code and understand it more easily:"
   ]
  },
  {
   "cell_type": "code",
   "execution_count": 20,
   "id": "92c138e2",
   "metadata": {},
   "outputs": [
    {
     "data": {
      "text/plain": [
       "100"
      ]
     },
     "execution_count": 20,
     "metadata": {},
     "output_type": "execute_result"
    }
   ],
   "source": [
    "total_min=12+34+54\n",
    "total_min\n",
    "#here you'll understand that the output is indicating total minutes"
   ]
  },
  {
   "cell_type": "code",
   "execution_count": 21,
   "id": "61ca74db",
   "metadata": {},
   "outputs": [
    {
     "data": {
      "text/plain": [
       "1.6666666666666667"
      ]
     },
     "execution_count": 21,
     "metadata": {},
     "output_type": "execute_result"
    }
   ],
   "source": [
    "total_hours = total_min / 60 #Total length of albums in hours\n",
    "total_hours"
   ]
  },
  {
   "cell_type": "markdown",
   "id": "bf888482",
   "metadata": {},
   "source": [
    "In the cells above we added the length of three albums in minutes and stored it in total_min. We then divided it by 60 to calculate total\n",
    "length total_hours in hours. You can also do it all at once in a single expression, as long as you use parenthesis to add the albums length\n",
    "before you divide, as shown below."
   ]
  },
  {
   "cell_type": "code",
   "execution_count": 22,
   "id": "ec76b7e5",
   "metadata": {},
   "outputs": [
    {
     "data": {
      "text/plain": [
       "2.3666666666666667"
      ]
     },
     "execution_count": 22,
     "metadata": {},
     "output_type": "execute_result"
    }
   ],
   "source": [
    "#Complicate expression\n",
    "total_hours = (43 + 42 + 57) / 60 #Total hours in a single expression\n",
    "total_hours"
   ]
  },
  {
   "cell_type": "markdown",
   "id": "f79b3475",
   "metadata": {},
   "source": [
    "If you'd rather have total hours as an integer, you can of course replace the floating point division with integer division (i.e., //)."
   ]
  },
  {
   "cell_type": "code",
   "execution_count": 23,
   "id": "6751943e",
   "metadata": {},
   "outputs": [
    {
     "data": {
      "text/plain": [
       "2"
      ]
     },
     "execution_count": 23,
     "metadata": {},
     "output_type": "execute_result"
    }
   ],
   "source": [
    "#Complicate expression\n",
    "total_hours = (43 + 42 + 57) // 60 #Total hours in a single expression\n",
    "total_hours"
   ]
  },
  {
   "cell_type": "markdown",
   "id": "a7d09b6c",
   "metadata": {},
   "source": [
    "The End"
   ]
  }
 ],
 "metadata": {
  "kernelspec": {
   "display_name": "Python 3",
   "language": "python",
   "name": "python3"
  },
  "language_info": {
   "codemirror_mode": {
    "name": "ipython",
    "version": 3
   },
   "file_extension": ".py",
   "mimetype": "text/x-python",
   "name": "python",
   "nbconvert_exporter": "python",
   "pygments_lexer": "ipython3",
   "version": "3.8.8"
  }
 },
 "nbformat": 4,
 "nbformat_minor": 5
}
