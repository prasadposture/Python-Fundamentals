{
 "cells": [
  {
   "cell_type": "markdown",
   "id": "ec3b9c4f",
   "metadata": {},
   "source": [
    "# Global and Local Variables"
   ]
  },
  {
   "cell_type": "markdown",
   "id": "95d866b8",
   "metadata": {},
   "source": [
    "### Global Variable\n",
    "Global variables are those variables which are declared outside of all the functions or block and can be accessed globally in a program. It can be accessed by any function present in the program. "
   ]
  },
  {
   "cell_type": "code",
   "execution_count": 1,
   "id": "5adb21dd",
   "metadata": {},
   "outputs": [
    {
     "name": "stdout",
     "output_type": "stream",
     "text": [
      "global\n",
      "global\n"
     ]
    }
   ],
   "source": [
    "x=\"global\"\n",
    "def fun():\n",
    "    print(x)\n",
    "fun() # variable inside function\n",
    "print(x) #variable outside the function"
   ]
  },
  {
   "cell_type": "markdown",
   "id": "d8fc7440",
   "metadata": {},
   "source": [
    "We can access a single global variable in multiple functions"
   ]
  },
  {
   "cell_type": "code",
   "execution_count": 2,
   "id": "28f7a245",
   "metadata": {},
   "outputs": [
    {
     "name": "stdout",
     "output_type": "stream",
     "text": [
      "4\n",
      "5\n"
     ]
    }
   ],
   "source": [
    "x=2 #global variable\n",
    "def fun1():\n",
    "    print(x+2)\n",
    "def fun2():\n",
    "    print(x+3)\n",
    "fun1()\n",
    "fun2()"
   ]
  },
  {
   "cell_type": "markdown",
   "id": "9c91d241",
   "metadata": {},
   "source": [
    "We cannot directly modify the global variables by using function"
   ]
  },
  {
   "cell_type": "code",
   "execution_count": 3,
   "id": "71e2e00b",
   "metadata": {},
   "outputs": [
    {
     "data": {
      "text/plain": [
       "4"
      ]
     },
     "execution_count": 3,
     "metadata": {},
     "output_type": "execute_result"
    }
   ],
   "source": [
    "# modifying outside the function\n",
    "x=x*2\n",
    "x"
   ]
  },
  {
   "cell_type": "code",
   "execution_count": 4,
   "id": "a756b91f",
   "metadata": {},
   "outputs": [
    {
     "ename": "UnboundLocalError",
     "evalue": "local variable 'x' referenced before assignment",
     "output_type": "error",
     "traceback": [
      "\u001b[1;31m---------------------------------------------------------------------------\u001b[0m",
      "\u001b[1;31mUnboundLocalError\u001b[0m                         Traceback (most recent call last)",
      "\u001b[1;32m<ipython-input-4-16877a06ddb0>\u001b[0m in \u001b[0;36m<module>\u001b[1;34m\u001b[0m\n\u001b[0;32m      3\u001b[0m     \u001b[0mx\u001b[0m\u001b[1;33m=\u001b[0m\u001b[0mx\u001b[0m\u001b[1;33m*\u001b[0m\u001b[1;36m2\u001b[0m \u001b[1;31m# modify inside the function\u001b[0m\u001b[1;33m\u001b[0m\u001b[1;33m\u001b[0m\u001b[0m\n\u001b[0;32m      4\u001b[0m     \u001b[0mprint\u001b[0m\u001b[1;33m(\u001b[0m\u001b[0mx\u001b[0m\u001b[1;33m)\u001b[0m\u001b[1;33m\u001b[0m\u001b[1;33m\u001b[0m\u001b[0m\n\u001b[1;32m----> 5\u001b[1;33m \u001b[0mfun\u001b[0m\u001b[1;33m(\u001b[0m\u001b[1;33m)\u001b[0m \u001b[1;31m# throws error\u001b[0m\u001b[1;33m\u001b[0m\u001b[1;33m\u001b[0m\u001b[0m\n\u001b[0m",
      "\u001b[1;32m<ipython-input-4-16877a06ddb0>\u001b[0m in \u001b[0;36mfun\u001b[1;34m()\u001b[0m\n\u001b[0;32m      1\u001b[0m \u001b[0mx\u001b[0m\u001b[1;33m=\u001b[0m\u001b[1;34m\"global\"\u001b[0m\u001b[1;33m\u001b[0m\u001b[1;33m\u001b[0m\u001b[0m\n\u001b[0;32m      2\u001b[0m \u001b[1;32mdef\u001b[0m \u001b[0mfun\u001b[0m\u001b[1;33m(\u001b[0m\u001b[1;33m)\u001b[0m\u001b[1;33m:\u001b[0m\u001b[1;33m\u001b[0m\u001b[1;33m\u001b[0m\u001b[0m\n\u001b[1;32m----> 3\u001b[1;33m     \u001b[0mx\u001b[0m\u001b[1;33m=\u001b[0m\u001b[0mx\u001b[0m\u001b[1;33m*\u001b[0m\u001b[1;36m2\u001b[0m \u001b[1;31m# modify inside the function\u001b[0m\u001b[1;33m\u001b[0m\u001b[1;33m\u001b[0m\u001b[0m\n\u001b[0m\u001b[0;32m      4\u001b[0m     \u001b[0mprint\u001b[0m\u001b[1;33m(\u001b[0m\u001b[0mx\u001b[0m\u001b[1;33m)\u001b[0m\u001b[1;33m\u001b[0m\u001b[1;33m\u001b[0m\u001b[0m\n\u001b[0;32m      5\u001b[0m \u001b[0mfun\u001b[0m\u001b[1;33m(\u001b[0m\u001b[1;33m)\u001b[0m \u001b[1;31m# throws error\u001b[0m\u001b[1;33m\u001b[0m\u001b[1;33m\u001b[0m\u001b[0m\n",
      "\u001b[1;31mUnboundLocalError\u001b[0m: local variable 'x' referenced before assignment"
     ]
    }
   ],
   "source": [
    "x=\"global\"\n",
    "def fun():\n",
    "    x=x*2 # modify inside the function\n",
    "    print(x)\n",
    "fun() # throws error"
   ]
  },
  {
   "cell_type": "markdown",
   "id": "4952851b",
   "metadata": {},
   "source": [
    "We can use keyword `global` in the function for modifying the global variable"
   ]
  },
  {
   "cell_type": "code",
   "execution_count": 5,
   "id": "544fbc37",
   "metadata": {},
   "outputs": [
    {
     "name": "stdout",
     "output_type": "stream",
     "text": [
      "globalglobal\n"
     ]
    }
   ],
   "source": [
    "x=\"global\"\n",
    "def fun():\n",
    "    global x # using global\n",
    "    x=x*2 # modify inside the function\n",
    "    print(x)\n",
    "fun()"
   ]
  },
  {
   "cell_type": "markdown",
   "id": "18bca7ac",
   "metadata": {},
   "source": [
    "### Local Variable\n",
    "Variables that are declared within or inside a function block are known as Local variables. These variables can only be accessed within the function in which they are declared."
   ]
  },
  {
   "cell_type": "code",
   "execution_count": 6,
   "id": "f74c6c24",
   "metadata": {},
   "outputs": [],
   "source": [
    "global_lang='DataSciece' #global variable\n",
    "def var_scope_test():\n",
    "    local_lang='python' #llocal variable\n",
    "    print(local_lang)"
   ]
  },
  {
   "cell_type": "code",
   "execution_count": 7,
   "id": "2676d4c3",
   "metadata": {},
   "outputs": [
    {
     "name": "stdout",
     "output_type": "stream",
     "text": [
      "python\n"
     ]
    }
   ],
   "source": [
    "var_scope_test()"
   ]
  },
  {
   "cell_type": "markdown",
   "id": "e484a8b5",
   "metadata": {},
   "source": [
    "You cannot access the local variable outside the function like global variable"
   ]
  },
  {
   "cell_type": "code",
   "execution_count": 8,
   "id": "afacdeb9",
   "metadata": {},
   "outputs": [
    {
     "name": "stdout",
     "output_type": "stream",
     "text": [
      "DataSciece\n"
     ]
    }
   ],
   "source": [
    "print(global_lang) #acessing the global variable"
   ]
  },
  {
   "cell_type": "code",
   "execution_count": 9,
   "id": "b6465857",
   "metadata": {},
   "outputs": [
    {
     "ename": "NameError",
     "evalue": "name 'local_lang' is not defined",
     "output_type": "error",
     "traceback": [
      "\u001b[1;31m---------------------------------------------------------------------------\u001b[0m",
      "\u001b[1;31mNameError\u001b[0m                                 Traceback (most recent call last)",
      "\u001b[1;32m<ipython-input-9-5c202eeb7493>\u001b[0m in \u001b[0;36m<module>\u001b[1;34m\u001b[0m\n\u001b[1;32m----> 1\u001b[1;33m \u001b[0mprint\u001b[0m\u001b[1;33m(\u001b[0m\u001b[0mlocal_lang\u001b[0m\u001b[1;33m)\u001b[0m \u001b[1;31m#acessing the local variable outside the funtion throws error\u001b[0m\u001b[1;33m\u001b[0m\u001b[1;33m\u001b[0m\u001b[0m\n\u001b[0m",
      "\u001b[1;31mNameError\u001b[0m: name 'local_lang' is not defined"
     ]
    }
   ],
   "source": [
    "print(local_lang) #acessing the local variable outside the funtion throws error"
   ]
  },
  {
   "cell_type": "markdown",
   "id": "810bd7aa",
   "metadata": {},
   "source": [
    "You cannot access the local variable inside other functions."
   ]
  },
  {
   "cell_type": "code",
   "execution_count": 10,
   "id": "e90f49d8",
   "metadata": {},
   "outputs": [],
   "source": [
    "def fun1():\n",
    "    local_var=999\n",
    "    print(\"value is:\",local_var)\n",
    "    \n",
    "def fun2():\n",
    "    print(\"value is:\", local_var)"
   ]
  },
  {
   "cell_type": "code",
   "execution_count": 11,
   "id": "83267952",
   "metadata": {},
   "outputs": [
    {
     "name": "stdout",
     "output_type": "stream",
     "text": [
      "value is: 999\n"
     ]
    }
   ],
   "source": [
    "fun1() #local variable is defined in this function hence accessible to it"
   ]
  },
  {
   "cell_type": "code",
   "execution_count": 12,
   "id": "ff480686",
   "metadata": {},
   "outputs": [
    {
     "ename": "NameError",
     "evalue": "name 'local_var' is not defined",
     "output_type": "error",
     "traceback": [
      "\u001b[1;31m---------------------------------------------------------------------------\u001b[0m",
      "\u001b[1;31mNameError\u001b[0m                                 Traceback (most recent call last)",
      "\u001b[1;32m<ipython-input-12-cc4a7e19ae2c>\u001b[0m in \u001b[0;36m<module>\u001b[1;34m\u001b[0m\n\u001b[1;32m----> 1\u001b[1;33m \u001b[0mfun2\u001b[0m\u001b[1;33m(\u001b[0m\u001b[1;33m)\u001b[0m\u001b[1;31m#since the variable you are defining is in the function fun1() and you cannot acces that one from here\u001b[0m\u001b[1;33m\u001b[0m\u001b[1;33m\u001b[0m\u001b[0m\n\u001b[0m\u001b[0;32m      2\u001b[0m \u001b[1;31m#it throws error\u001b[0m\u001b[1;33m\u001b[0m\u001b[1;33m\u001b[0m\u001b[1;33m\u001b[0m\u001b[0m\n",
      "\u001b[1;32m<ipython-input-10-5524b6ee5abd>\u001b[0m in \u001b[0;36mfun2\u001b[1;34m()\u001b[0m\n\u001b[0;32m      4\u001b[0m \u001b[1;33m\u001b[0m\u001b[0m\n\u001b[0;32m      5\u001b[0m \u001b[1;32mdef\u001b[0m \u001b[0mfun2\u001b[0m\u001b[1;33m(\u001b[0m\u001b[1;33m)\u001b[0m\u001b[1;33m:\u001b[0m\u001b[1;33m\u001b[0m\u001b[1;33m\u001b[0m\u001b[0m\n\u001b[1;32m----> 6\u001b[1;33m     \u001b[0mprint\u001b[0m\u001b[1;33m(\u001b[0m\u001b[1;34m\"value is:\"\u001b[0m\u001b[1;33m,\u001b[0m \u001b[0mlocal_var\u001b[0m\u001b[1;33m)\u001b[0m\u001b[1;33m\u001b[0m\u001b[1;33m\u001b[0m\u001b[0m\n\u001b[0m",
      "\u001b[1;31mNameError\u001b[0m: name 'local_var' is not defined"
     ]
    }
   ],
   "source": [
    "fun2()#since the variable you are defining is in the function fun1() and you cannot acces that one from here \n",
    "#it throws error"
   ]
  },
  {
   "cell_type": "markdown",
   "id": "30df7983",
   "metadata": {},
   "source": [
    "We can use same name for the variable inside and outside of the function and our code can run just fine"
   ]
  },
  {
   "cell_type": "code",
   "execution_count": 13,
   "id": "ec4846cf",
   "metadata": {},
   "outputs": [],
   "source": [
    "def my_fun():\n",
    "    x=10 # x inside the function\n",
    "    print(\"value inside the body of the function:\",x)\n",
    "x=20 # xoutside the function"
   ]
  },
  {
   "cell_type": "code",
   "execution_count": 14,
   "id": "81b5fa69",
   "metadata": {},
   "outputs": [
    {
     "name": "stdout",
     "output_type": "stream",
     "text": [
      "value inside the body of the function: 10\n"
     ]
    }
   ],
   "source": [
    "my_fun()"
   ]
  },
  {
   "cell_type": "code",
   "execution_count": 15,
   "id": "9819370a",
   "metadata": {},
   "outputs": [
    {
     "name": "stdout",
     "output_type": "stream",
     "text": [
      "value outside the body of the function: 20\n"
     ]
    }
   ],
   "source": [
    "print(\"value outside the body of the function:\",x)"
   ]
  },
  {
   "cell_type": "markdown",
   "id": "5fd1fe74",
   "metadata": {},
   "source": [
    "Look athe following two examples for understanding the scope of the  global and local variables."
   ]
  },
  {
   "cell_type": "code",
   "execution_count": 16,
   "id": "485c6c7d",
   "metadata": {},
   "outputs": [],
   "source": [
    "global_var=9\n",
    "def fun1():\n",
    "    print(\"value in the 1st function:\",global_var)\n",
    "    \n",
    "def fun2():\n",
    "    global_var=999 #we arent modifying the global variable, the scope still remains limmited to the local variable\n",
    "    print(\"value in the 2nd function\", global_var)\n",
    "    \n",
    "def fun3():\n",
    "    print(\"value in the 3rd function:\",global_var)\n",
    "    "
   ]
  },
  {
   "cell_type": "code",
   "execution_count": 17,
   "id": "72ba1944",
   "metadata": {},
   "outputs": [
    {
     "name": "stdout",
     "output_type": "stream",
     "text": [
      "value in the 1st function: 9\n",
      "value in the 2nd function 999\n",
      "value in the 3rd function: 9\n"
     ]
    }
   ],
   "source": [
    "fun1()\n",
    "fun2()\n",
    "fun3()"
   ]
  },
  {
   "cell_type": "code",
   "execution_count": 18,
   "id": "bda02ab2",
   "metadata": {},
   "outputs": [],
   "source": [
    "global_var=9\n",
    "def fun1():\n",
    "    print(\"value in the 1st function:\",global_var)\n",
    "    \n",
    "def fun2():\n",
    "    global global_var\n",
    "    global_var=999 #we are modifying the global variable here\n",
    "    print(\"value in the 2nd function\", global_var)\n",
    "    \n",
    "def fun3():\n",
    "    print(\"value in the 3rd function:\",global_var) #this gives the modified output"
   ]
  },
  {
   "cell_type": "code",
   "execution_count": 19,
   "id": "fa182bec",
   "metadata": {},
   "outputs": [
    {
     "name": "stdout",
     "output_type": "stream",
     "text": [
      "value in the 1st function: 9\n",
      "value in the 2nd function 999\n",
      "value in the 3rd function: 999\n"
     ]
    }
   ],
   "source": [
    "fun1()\n",
    "fun2()\n",
    "fun3()"
   ]
  },
  {
   "cell_type": "markdown",
   "id": "43195d93",
   "metadata": {},
   "source": [
    "The End"
   ]
  }
 ],
 "metadata": {
  "kernelspec": {
   "display_name": "Python 3",
   "language": "python",
   "name": "python3"
  },
  "language_info": {
   "codemirror_mode": {
    "name": "ipython",
    "version": 3
   },
   "file_extension": ".py",
   "mimetype": "text/x-python",
   "name": "python",
   "nbconvert_exporter": "python",
   "pygments_lexer": "ipython3",
   "version": "3.8.8"
  }
 },
 "nbformat": 4,
 "nbformat_minor": 5
}
