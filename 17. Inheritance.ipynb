{
 "cells": [
  {
   "cell_type": "markdown",
   "id": "a6c3808b",
   "metadata": {},
   "source": [
    "# Inheritance\n",
    "Inheritance allows us to define a class that inherits all the methods and properties from\n",
    "another class. Parent class is the class being inherited from, also called base class. Child class is the class\n",
    "that inherits from another class, also called derived class."
   ]
  },
  {
   "cell_type": "code",
   "execution_count": 1,
   "id": "be7020e1",
   "metadata": {},
   "outputs": [],
   "source": [
    "#inheriting the properties of a class\n",
    "class A:#superclass or parent class\n",
    "    def feature1(self):\n",
    "        print('Feature 1 working')\n",
    "    def feature2(self):\n",
    "        print('Feature 2 working')\n",
    "class B(A): #child class or derived class\n",
    "    def feature3(self):\n",
    "        print('Feature 3 working')\n",
    "    def feature4(self):\n",
    "        print('Feature 1 working')"
   ]
  },
  {
   "cell_type": "code",
   "execution_count": 2,
   "id": "034851c3",
   "metadata": {},
   "outputs": [
    {
     "name": "stdout",
     "output_type": "stream",
     "text": [
      "Feature 1 working\n",
      "Feature 2 working\n"
     ]
    }
   ],
   "source": [
    "#methods defined within A\n",
    "a1=A()\n",
    "a1.feature1()\n",
    "a1.feature2()"
   ]
  },
  {
   "cell_type": "code",
   "execution_count": 3,
   "id": "50b6c448",
   "metadata": {},
   "outputs": [
    {
     "name": "stdout",
     "output_type": "stream",
     "text": [
      "Feature 3 working\n",
      "Feature 1 working\n"
     ]
    }
   ],
   "source": [
    "#Methods defined within B\n",
    "b1=B()\n",
    "b1.feature3()\n",
    "b1.feature4()"
   ]
  },
  {
   "cell_type": "code",
   "execution_count": 4,
   "id": "ccf781ec",
   "metadata": {},
   "outputs": [
    {
     "name": "stdout",
     "output_type": "stream",
     "text": [
      "Feature 1 working\n",
      "Feature 2 working\n"
     ]
    }
   ],
   "source": [
    "#Methods defined within A and inherited by B\n",
    "b1=B()\n",
    "b1.feature1()\n",
    "b1.feature2()"
   ]
  },
  {
   "cell_type": "markdown",
   "id": "1360d47c",
   "metadata": {},
   "source": [
    "### Types of Inheritance\n",
    "1. Single Inheritance\n",
    "2. Multi-level Inheritance\n",
    "3. Multiple Inheritance\n",
    "4. Hierarchical Inheritance\n",
    "5. Hybrid Inheritance"
   ]
  },
  {
   "cell_type": "markdown",
   "id": "586710dd",
   "metadata": {},
   "source": [
    "#### 1. Single Inheritance\n",
    "Single inheritance enables a derived class to inherit properties from a single parent\n",
    "class, thus enabling code reusability and the addition of new features to existing code"
   ]
  },
  {
   "cell_type": "code",
   "execution_count": 5,
   "id": "aae2a5b6",
   "metadata": {},
   "outputs": [],
   "source": [
    "#single inheretance example\n",
    "#base class\n",
    "class Vehicle:\n",
    "    def Vehicle_info(self):\n",
    "        print(\"Inside vehicle class\")\n",
    "#derived class\n",
    "class Car(Vehicle):\n",
    "    def Car_info(self):\n",
    "        print('inside the car class')"
   ]
  },
  {
   "cell_type": "code",
   "execution_count": 6,
   "id": "601f571c",
   "metadata": {},
   "outputs": [
    {
     "name": "stdout",
     "output_type": "stream",
     "text": [
      "inside the car class\n",
      "Inside vehicle class\n"
     ]
    }
   ],
   "source": [
    "#create object\n",
    "f1=Car() #using derived class\n",
    "f1.Car_info() #method from derived class\n",
    "f1.Vehicle_info() #method from base class inherited by derived class"
   ]
  },
  {
   "cell_type": "markdown",
   "id": "80f365ee",
   "metadata": {},
   "source": [
    "#### 2. Multi-level Inheritance\n",
    "In multilevel inheritance, features of the base class and the derived class are\n",
    "further inherited into the new derived class. This is similar to a relationship representing a child and\n",
    "grandfather."
   ]
  },
  {
   "cell_type": "code",
   "execution_count": 7,
   "id": "43e807a7",
   "metadata": {},
   "outputs": [],
   "source": [
    "#multilevel inheretance\n",
    "#base class\n",
    "class Vehicle:\n",
    "    def Vehicle_info(self):\n",
    "        print('Inside Vehicle class')\n",
    "#child class 1\n",
    "class Car(Vehicle):\n",
    "    def Car_info(self):\n",
    "        print(\"Inside Car class\")\n",
    "#child class 2\n",
    "class SportsCar(Car):\n",
    "    def sports_car_info(self):\n",
    "        print(\"Inside the SportsCar class\")"
   ]
  },
  {
   "cell_type": "code",
   "execution_count": 8,
   "id": "59061a82",
   "metadata": {},
   "outputs": [
    {
     "name": "stdout",
     "output_type": "stream",
     "text": [
      "Inside Vehicle class\n",
      "Inside Car class\n",
      "Inside the SportsCar class\n"
     ]
    }
   ],
   "source": [
    "#create object of sportscar\n",
    "s_car=SportsCar()\n",
    "#access vehicle and car info from SportsCar class\n",
    "s_car.Vehicle_info() #method inherited by sportscar class\n",
    "s_car.Car_info()#method inherited by sportscar clas\n",
    "s_car.sports_car_info() #method defined withing the sportcar class"
   ]
  },
  {
   "cell_type": "markdown",
   "id": "603f0b60",
   "metadata": {},
   "source": [
    "#### 3. Multiple Inheritance\n",
    "When a class can be derived from more than one base class this type of inheritance\n",
    "is called multiple inheritance. In multiple inheritance, all the features of the base classes are inherited into\n",
    "the derived class.\n"
   ]
  },
  {
   "cell_type": "code",
   "execution_count": 9,
   "id": "3fa63261",
   "metadata": {},
   "outputs": [],
   "source": [
    "#Multiple Inheretance\n",
    "#Base Class 1\n",
    "class Person:\n",
    "    def person_info(self,name,age):\n",
    "        print(\"inside person classs\")\n",
    "        print(\"Name:\",name,\"Age:\",age)\n",
    "#Base Class 2\n",
    "class Company:\n",
    "    def company_info(self,company_names,location):\n",
    "        print(\"Inside Company class\")\n",
    "        print(\"Name:\",company_names,\"Location:\",location)\n",
    "#Derived Class\n",
    "class Employee(Person, Company):\n",
    "    def Employee_info(self,salary,skills):\n",
    "        print(\"Inside Employee class\")\n",
    "        print(\"Salary:\", salary,\"Skills:\",skills)"
   ]
  },
  {
   "cell_type": "code",
   "execution_count": 10,
   "id": "bbb9165e",
   "metadata": {},
   "outputs": [
    {
     "name": "stdout",
     "output_type": "stream",
     "text": [
      "inside person classs\n",
      "Name: Prasad Age: 21\n",
      "Inside Company class\n",
      "Name: BMW Location: Mumbai\n",
      "Inside Employee class\n",
      "Salary: 19000 Skills: Machine Learning\n"
     ]
    }
   ],
   "source": [
    "#Creating an object using derived class\n",
    "emp=Employee()\n",
    "emp.person_info(\"Prasad\", 21) #accessing the method of base class\n",
    "emp.company_info(\"BMW\",\"Mumbai\") #accessing the method of base class\n",
    "emp.Employee_info(19000,\"Machine Learning\")"
   ]
  },
  {
   "cell_type": "markdown",
   "id": "1b90081b",
   "metadata": {},
   "source": [
    "#### 4. Hierarchical Inheritance\n",
    "When more than one derived classes are created from a single base this type of\n",
    "inheritance is called hierarchical inheritance. In this program, we have a parent (base) class and two child\n",
    "(derived) classes."
   ]
  },
  {
   "cell_type": "code",
   "execution_count": 11,
   "id": "7efcde61",
   "metadata": {},
   "outputs": [],
   "source": [
    "#Heirearchial Inheretance\n",
    "#Base Class\n",
    "class Vehicle:\n",
    "    def info(self):\n",
    "        print(\"this is a Vehicle\")\n",
    "#Derived Class 1\n",
    "class Car(Vehicle):\n",
    "    def Car_info(self,name):\n",
    "        print(\"Car name is:\",name)\n",
    "#Derived Class 2\n",
    "class Truck(Vehicle):\n",
    "    def truck_info(self,name):\n",
    "        print(\"truck name is:\",name)"
   ]
  },
  {
   "cell_type": "code",
   "execution_count": 12,
   "id": "25e4dd3d",
   "metadata": {},
   "outputs": [
    {
     "name": "stdout",
     "output_type": "stream",
     "text": [
      "this is a Vehicle\n",
      "Car name is: BMW\n"
     ]
    }
   ],
   "source": [
    "#Object 1\n",
    "obj1=Car()\n",
    "obj1.info()\n",
    "obj1.Car_info(\"BMW\")"
   ]
  },
  {
   "cell_type": "code",
   "execution_count": 13,
   "id": "38efe733",
   "metadata": {},
   "outputs": [
    {
     "name": "stdout",
     "output_type": "stream",
     "text": [
      "this is a Vehicle\n",
      "truck name is: ABC\n"
     ]
    }
   ],
   "source": [
    "#Object 2\n",
    "obj2=Truck()\n",
    "obj2.info()\n",
    "obj2.truck_info(\"ABC\")"
   ]
  },
  {
   "cell_type": "markdown",
   "id": "c80f28f8",
   "metadata": {},
   "source": [
    "#### 5. Hybrid Inheritance\n",
    "Inheritance consisting of multiple types of inheritance is called hybrid inheritance."
   ]
  },
  {
   "cell_type": "code",
   "execution_count": 14,
   "id": "d272d8bd",
   "metadata": {},
   "outputs": [],
   "source": [
    "#Hybrbid Class\n",
    "#base class\n",
    "class Vehicle:\n",
    "    def vehicle_info(self):\n",
    "        print(\"Inside Vehicle class\")\n",
    "#child class 1\n",
    "class Car(Vehicle):\n",
    "    def car_info(self):\n",
    "        print(\"Inside Car class\")\n",
    "#child class 2\n",
    "class Truck(Vehicle):\n",
    "    def truck_info(self):\n",
    "        print(\"Inside the truck class\")\n",
    "#grandchild class\n",
    "class SportsCar(Car,Truck):\n",
    "    def sports_car_info(self):\n",
    "        print(\"Inside SportsCar class\")"
   ]
  },
  {
   "cell_type": "code",
   "execution_count": 15,
   "id": "985fcf7b",
   "metadata": {},
   "outputs": [
    {
     "name": "stdout",
     "output_type": "stream",
     "text": [
      "Inside the truck class\n",
      "Inside Car class\n",
      "Inside SportsCar class\n",
      "Inside Vehicle class\n"
     ]
    }
   ],
   "source": [
    "#Creating Object with Grandchild class\n",
    "c1=SportsCar()\n",
    "c1.truck_info()\n",
    "c1.car_info()\n",
    "c1.sports_car_info()\n",
    "c1.vehicle_info()"
   ]
  },
  {
   "cell_type": "markdown",
   "id": "c3a8ba9e",
   "metadata": {},
   "source": [
    "### Constructor in Inheritance"
   ]
  },
  {
   "cell_type": "code",
   "execution_count": 16,
   "id": "4dbf07c9",
   "metadata": {},
   "outputs": [],
   "source": [
    "class A:\n",
    "    def __init__(self):\n",
    "        print(\"in it A\")\n",
    "    def feature1(self):\n",
    "        print(\"Feature 1 is working\")\n",
    "    def feature3(self):\n",
    "        print(\"Feature 2 is working\")\n",
    "class B(A):\n",
    "    def feature3(self):\n",
    "        print(\"Feature 3 is working\")\n",
    "    def feature4(self):\n",
    "        print(\"Feature 4 is working\")"
   ]
  },
  {
   "cell_type": "code",
   "execution_count": 17,
   "id": "fff33f37",
   "metadata": {},
   "outputs": [
    {
     "name": "stdout",
     "output_type": "stream",
     "text": [
      "in it A\n",
      "in it A\n"
     ]
    }
   ],
   "source": [
    "#Creating object\n",
    "b1=B()\n",
    "b1.__init__() #the __init__() method has been inherited"
   ]
  },
  {
   "cell_type": "code",
   "execution_count": 18,
   "id": "bd2cfd6d",
   "metadata": {},
   "outputs": [],
   "source": [
    "#__init__() within the derive class\n",
    "class A:\n",
    "    def __init__(self):\n",
    "        print(\"in A init\")\n",
    "    def feature1(self):\n",
    "        print(\"Feature 1 working\")\n",
    "    def feature2(self):\n",
    "        print(\"Feature 2 working\")\n",
    "class B(A):\n",
    "    def __init__(self):\n",
    "        print(\"in B init\")\n",
    "    def feature3(self):\n",
    "        print(\"Feature 3 working\")\n",
    "    def feature4(self):\n",
    "        print(\"Feature 4 working\")"
   ]
  },
  {
   "cell_type": "code",
   "execution_count": 19,
   "id": "9f17e10b",
   "metadata": {},
   "outputs": [
    {
     "name": "stdout",
     "output_type": "stream",
     "text": [
      "in B init\n",
      "in B init\n"
     ]
    }
   ],
   "source": [
    "b1=B()\n",
    "b1.__init__()\n",
    "#if the __init__() method is defined within the derived class it only acesses it"
   ]
  },
  {
   "cell_type": "markdown",
   "id": "3afb1401",
   "metadata": {},
   "source": [
    "How to access `__init__()` method of parent class?  \n",
    "We use keyword `super().__init__()`"
   ]
  },
  {
   "cell_type": "code",
   "execution_count": 20,
   "id": "d2a7ba74",
   "metadata": {},
   "outputs": [
    {
     "name": "stdout",
     "output_type": "stream",
     "text": [
      "in A init\n",
      "in B init\n"
     ]
    }
   ],
   "source": [
    "#callling init of class of A when it is present in B\n",
    "#using keyword super().__init__()\n",
    "\n",
    "class A:\n",
    "    def __init__(self):\n",
    "        print(\"in A init\")\n",
    "    def feature1(self):\n",
    "        print(\"Feature 1 working\")\n",
    "    def feature2(self):\n",
    "        print(\"Feature 2 working\")\n",
    "class B(A):\n",
    "    def __init__(self):\n",
    "        super().__init__()\n",
    "        print(\"in B init\")\n",
    "    def feature3(self):\n",
    "        print(\"Feature 3 working\")\n",
    "    def feature4(self):\n",
    "        print(\"Feature 4 working\")\n",
    "b1=B()\n",
    "#first it accesses the method of class A\n",
    "#then it accesses the method of class B"
   ]
  },
  {
   "cell_type": "markdown",
   "id": "6198535d",
   "metadata": {},
   "source": [
    "See the example below for more clear understanding:"
   ]
  },
  {
   "cell_type": "code",
   "execution_count": 21,
   "id": "53fb1e90",
   "metadata": {},
   "outputs": [],
   "source": [
    "class Bird:\n",
    "    def __init__(self):\n",
    "        print(\"Bird is ready\")\n",
    "    def whoisThis(self):\n",
    "        print(\"Bird\")\n",
    "    def swim(self):\n",
    "        print(\"Swim Faster\")\n",
    "class Penguin(Bird):\n",
    "    def __init__(self):\n",
    "        super().__init__()\n",
    "        print(\"Penguin is ready\")\n",
    "    def whoisThis(self):\n",
    "        print(\"Penguin\")\n",
    "    def run(self):\n",
    "        print(\"Runs faster\")"
   ]
  },
  {
   "cell_type": "code",
   "execution_count": 22,
   "id": "5a17e0d5",
   "metadata": {},
   "outputs": [
    {
     "name": "stdout",
     "output_type": "stream",
     "text": [
      "Bird is ready\n",
      "Penguin is ready\n",
      "Penguin\n",
      "Swim Faster\n",
      "Runs faster\n"
     ]
    }
   ],
   "source": [
    "#Creating Object\n",
    "p=Penguin() #init of Bird class then Penguin class\n",
    "p.whoisThis()\n",
    "p.swim()\n",
    "p.run()"
   ]
  },
  {
   "cell_type": "markdown",
   "id": "5e6ac0f6",
   "metadata": {},
   "source": [
    "Constructor Multilevel Inheritance"
   ]
  },
  {
   "cell_type": "code",
   "execution_count": 23,
   "id": "d5bd1397",
   "metadata": {},
   "outputs": [
    {
     "name": "stdout",
     "output_type": "stream",
     "text": [
      "in B init\n"
     ]
    }
   ],
   "source": [
    "#in Multilevel Inheretance (without super().__init__())\n",
    "class A:\n",
    "    def __init__(self):\n",
    "        print(\"in A init\")\n",
    "    def feature1(self):\n",
    "        print(\"Feature 1 working\")\n",
    "    def feature2(self):\n",
    "        print(\"Feature 2 working\")\n",
    "class B(A):\n",
    "    def __init__(self):\n",
    "        print(\"in B init\")\n",
    "    def feature3(self):\n",
    "        print(\"Feature 3 working\")\n",
    "    def feature4(self):\n",
    "        print(\"Feature 4 working\")\n",
    "class C(B):\n",
    "    def feature5(self):\n",
    "        print(\"Feature 5 is working\")\n",
    "c1=C()"
   ]
  },
  {
   "cell_type": "code",
   "execution_count": 24,
   "id": "cc8a0ff7",
   "metadata": {},
   "outputs": [
    {
     "name": "stdout",
     "output_type": "stream",
     "text": [
      "in A init\n",
      "in B init\n"
     ]
    }
   ],
   "source": [
    "#in Multilevel Inheretance with super().__init__()\n",
    "class A:\n",
    "    def __init__(self):\n",
    "        print(\"in A init\")\n",
    "    def feature1(self):\n",
    "        print(\"Feature 1 working\")\n",
    "    def feature2(self):\n",
    "        print(\"Feature 2 working\")\n",
    "class B(A):\n",
    "    def __init__(self):\n",
    "        super().__init__()\n",
    "        print(\"in B init\")\n",
    "    def feature3(self):\n",
    "        print(\"Feature 3 working\")\n",
    "    def feature4(self):\n",
    "        print(\"Feature 4 working\")\n",
    "class C(B):\n",
    "    def feature5(self):\n",
    "        print(\"Feature 5 is working\")\n",
    "c1=C()"
   ]
  },
  {
   "cell_type": "markdown",
   "id": "39c55461",
   "metadata": {},
   "source": [
    "### Method Resolution Order (MRO)\n",
    "It is the order in which method is searched for in a classes heirarchy. It explores the classes inherited in dervied class from left to right. eg C(A,B) in here first it goes to A if the `__init__()` isn't present there it moves forward to B."
   ]
  },
  {
   "cell_type": "code",
   "execution_count": 25,
   "id": "a596757f",
   "metadata": {},
   "outputs": [
    {
     "name": "stdout",
     "output_type": "stream",
     "text": [
      "in A init\n",
      "in C init\n"
     ]
    }
   ],
   "source": [
    "#Example\n",
    "class A:\n",
    "    def __init__(self):\n",
    "        print(\"in A init\")\n",
    "    def feature1(self):\n",
    "        print(\"Feature 1 working\")\n",
    "    def feature2(self):\n",
    "        print(\"Feature 2 working\")\n",
    "class B:\n",
    "    def __init__(self):\n",
    "        print(\"in B init\")\n",
    "    def feature3(self):\n",
    "        print(\"Feature 3 working\")\n",
    "    def feature4(self):\n",
    "        print(\"Feature 4 working\")\n",
    "class C(A,B):\n",
    "    def __init__(self):\n",
    "        super().__init__()\n",
    "        print(\"in C init\")\n",
    "c1=C()"
   ]
  },
  {
   "cell_type": "code",
   "execution_count": 26,
   "id": "7c3298b5",
   "metadata": {},
   "outputs": [
    {
     "name": "stdout",
     "output_type": "stream",
     "text": [
      "in B init\n",
      "in C init\n"
     ]
    }
   ],
   "source": [
    "#When init is not present in A but in B\n",
    "class A:\n",
    "    def feature1(self):\n",
    "        print(\"Feature 1 working\")\n",
    "    def feature2(self):\n",
    "        print(\"Feature 2 working\")\n",
    "class B:\n",
    "    def __init__(self):\n",
    "        print(\"in B init\")\n",
    "    def feature3(self):\n",
    "        print(\"Feature 3 working\")\n",
    "    def feature4(self):\n",
    "        print(\"Feature 4 working\")\n",
    "class C(A,B):\n",
    "    def __init__(self):\n",
    "        super().__init__()\n",
    "        print(\"in C init\")\n",
    "c1=C()\n",
    "#it goes directly to B"
   ]
  },
  {
   "cell_type": "markdown",
   "id": "2a16da7d",
   "metadata": {},
   "source": [
    "**MRO for methods/features**"
   ]
  },
  {
   "cell_type": "code",
   "execution_count": 27,
   "id": "1cbdaee4",
   "metadata": {},
   "outputs": [
    {
     "name": "stdout",
     "output_type": "stream",
     "text": [
      "in A init\n",
      "in C init\n",
      "Feature 1-A working\n"
     ]
    }
   ],
   "source": [
    "class A:\n",
    "    def __init__(self):\n",
    "        print(\"in A init\")\n",
    "    def feature1(self):\n",
    "        print(\"Feature 1-A working\")\n",
    "    def feature2(self):\n",
    "        print(\"Feature 2 working\")\n",
    "class B:\n",
    "    def __init__(self):\n",
    "        print(\"in B init\")\n",
    "    def feature1(self):\n",
    "        print(\"Feature 1-B working\")\n",
    "    def feature4(self):\n",
    "        print(\"Feature 4 working\")\n",
    "class C(A,B):\n",
    "    def __init__(self):\n",
    "        super().__init__()\n",
    "        print(\"in C init\")\n",
    "c1=C()\n",
    "c1.feature1()"
   ]
  },
  {
   "cell_type": "markdown",
   "id": "2fdc3eb2",
   "metadata": {},
   "source": [
    "Using a `super()` for methods"
   ]
  },
  {
   "cell_type": "code",
   "execution_count": 28,
   "id": "c3300c51",
   "metadata": {},
   "outputs": [
    {
     "name": "stdout",
     "output_type": "stream",
     "text": [
      "in A init\n",
      "in C init\n",
      "Feature 2 working\n"
     ]
    }
   ],
   "source": [
    "#using a super for methods\n",
    "class A:\n",
    "    def __init__(self):\n",
    "        print(\"in A init\")\n",
    "    def feature1(self):\n",
    "        print(\"Feature 1-A working\")\n",
    "    def feature2(self):\n",
    "        print(\"Feature 2 working\")\n",
    "class B:\n",
    "    def __init__(self):\n",
    "        print(\"in B init\")\n",
    "    def feature1(self):\n",
    "        print(\"Feature 1-B working\")\n",
    "    def feature4(self):\n",
    "        print(\"Feature 4 working\")\n",
    "class C(A,B):\n",
    "    def __init__(self):\n",
    "        super().__init__()\n",
    "        print(\"in C init\")\n",
    "    def feat(self):\n",
    "        super().feature2()\n",
    "c1=C()\n",
    "c1.feat()"
   ]
  },
  {
   "cell_type": "markdown",
   "id": "3fa51674",
   "metadata": {},
   "source": [
    "### Data Enacapsulation"
   ]
  },
  {
   "cell_type": "markdown",
   "id": "e05eb338",
   "metadata": {},
   "source": [
    "In python, encapsulation is a method of wrapping data and functions into a single entity,\n",
    "for example, a class, encapsulates all the data (method and variables)\n",
    "Encapsulation means the internal representation of an object is generally hidden from outside of the object's definition\n",
    "using OOP in python, we can restrict access to methods and variables\n",
    "this prevents data from direct modification which is called encapsulation \n",
    "in python, we denote private attributes using underscore as the prefix i.e. single or double__."
   ]
  },
  {
   "cell_type": "code",
   "execution_count": 29,
   "id": "c17d2be6",
   "metadata": {},
   "outputs": [
    {
     "name": "stdout",
     "output_type": "stream",
     "text": [
      "Selling Price 900\n",
      "Selling Price 900\n",
      "Selling Price 1000\n"
     ]
    }
   ],
   "source": [
    "#Example 1: Data Encapsulation\n",
    "class Computer:\n",
    "    def __init__(self):\n",
    "        self.__maxprice=900\n",
    "    def sell(self):\n",
    "        print(\"Selling Price {}\".format(self.__maxprice))\n",
    "    def setMaxPrice(self,price):\n",
    "        self.__maxprice=price\n",
    "c=Computer()\n",
    "c.sell()\n",
    "#change the price\n",
    "c.__maxprice=1000\n",
    "c.sell()\n",
    "#using the setter function\n",
    "c.setMaxPrice(1000)\n",
    "c.sell()"
   ]
  },
  {
   "cell_type": "code",
   "execution_count": 30,
   "id": "5c2f1bf2",
   "metadata": {},
   "outputs": [
    {
     "name": "stdout",
     "output_type": "stream",
     "text": [
      "Name is Bella and salary is 60000\n",
      "Bella\n"
     ]
    },
    {
     "ename": "AttributeError",
     "evalue": "'Employee' object has no attribute '__salary'",
     "output_type": "error",
     "traceback": [
      "\u001b[1;31m---------------------------------------------------------------------------\u001b[0m",
      "\u001b[1;31mAttributeError\u001b[0m                            Traceback (most recent call last)",
      "\u001b[1;32m<ipython-input-30-6776d5163a1d>\u001b[0m in \u001b[0;36m<module>\u001b[1;34m\u001b[0m\n\u001b[0;32m     10\u001b[0m \u001b[0mE\u001b[0m\u001b[1;33m.\u001b[0m\u001b[0mshow\u001b[0m\u001b[1;33m(\u001b[0m\u001b[1;33m)\u001b[0m\u001b[1;33m\u001b[0m\u001b[1;33m\u001b[0m\u001b[0m\n\u001b[0;32m     11\u001b[0m \u001b[0mprint\u001b[0m\u001b[1;33m(\u001b[0m\u001b[0mE\u001b[0m\u001b[1;33m.\u001b[0m\u001b[0mname\u001b[0m\u001b[1;33m)\u001b[0m\u001b[1;33m\u001b[0m\u001b[1;33m\u001b[0m\u001b[0m\n\u001b[1;32m---> 12\u001b[1;33m \u001b[0mprint\u001b[0m\u001b[1;33m(\u001b[0m\u001b[0mE\u001b[0m\u001b[1;33m.\u001b[0m\u001b[0m__salary\u001b[0m\u001b[1;33m)\u001b[0m\u001b[1;33m\u001b[0m\u001b[1;33m\u001b[0m\u001b[0m\n\u001b[0m\u001b[0;32m     13\u001b[0m \u001b[1;31m#AttributeError: 'Employee' object has no attribute '__salary'\u001b[0m\u001b[1;33m\u001b[0m\u001b[1;33m\u001b[0m\u001b[1;33m\u001b[0m\u001b[0m\n",
      "\u001b[1;31mAttributeError\u001b[0m: 'Employee' object has no attribute '__salary'"
     ]
    }
   ],
   "source": [
    "#Example 2: Data Encapsulation\n",
    "class Employee:\n",
    "    def __init__(self,name,salary):\n",
    "        self.name=name\n",
    "        self.__salary=salary\n",
    "    def show(self):\n",
    "        print(\"Name is\",self.name,\"and salary is\",self.__salary)\n",
    "#Outside class\n",
    "E=Employee(\"Bella\",60000)\n",
    "E.show()\n",
    "print(E.name)\n",
    "print(E.__salary)\n",
    "#AttributeError: 'Employee' object has no attribute '__salary'"
   ]
  },
  {
   "cell_type": "markdown",
   "id": "6ae9ff21",
   "metadata": {},
   "source": [
    "Sometimes we dont want specific instance variable of the parent class to be inherited by the child class  we can make those instance variables of the parent class private, which wont be available to the child class\n",
    "we can do so by adding double underscore before its name."
   ]
  },
  {
   "cell_type": "code",
   "execution_count": 31,
   "id": "98981283",
   "metadata": {},
   "outputs": [
    {
     "name": "stdout",
     "output_type": "stream",
     "text": [
      "21\n"
     ]
    },
    {
     "ename": "AttributeError",
     "evalue": "'D' object has no attribute 'd'",
     "output_type": "error",
     "traceback": [
      "\u001b[1;31m---------------------------------------------------------------------------\u001b[0m",
      "\u001b[1;31mAttributeError\u001b[0m                            Traceback (most recent call last)",
      "\u001b[1;32m<ipython-input-31-4220ba2fe8e3>\u001b[0m in \u001b[0;36m<module>\u001b[1;34m\u001b[0m\n\u001b[0;32m     12\u001b[0m \u001b[1;31m#produce an error as d is private instance variable\u001b[0m\u001b[1;33m\u001b[0m\u001b[1;33m\u001b[0m\u001b[1;33m\u001b[0m\u001b[0m\n\u001b[0;32m     13\u001b[0m \u001b[0mprint\u001b[0m\u001b[1;33m(\u001b[0m\u001b[0mo1\u001b[0m\u001b[1;33m.\u001b[0m\u001b[0mc\u001b[0m\u001b[1;33m)\u001b[0m\u001b[1;33m\u001b[0m\u001b[1;33m\u001b[0m\u001b[0m\n\u001b[1;32m---> 14\u001b[1;33m \u001b[0mprint\u001b[0m\u001b[1;33m(\u001b[0m\u001b[0mo1\u001b[0m\u001b[1;33m.\u001b[0m\u001b[0md\u001b[0m\u001b[1;33m)\u001b[0m\u001b[1;33m\u001b[0m\u001b[1;33m\u001b[0m\u001b[0m\n\u001b[0m",
      "\u001b[1;31mAttributeError\u001b[0m: 'D' object has no attribute 'd'"
     ]
    }
   ],
   "source": [
    "#Python program to demonstrate private members of the parent class\n",
    "class C:\n",
    "    def __init__(self):\n",
    "        self.c=21\n",
    "        #d is private instance variable\n",
    "        self.__d=42 #note that before d there are two \"_\"\n",
    "class D(C):\n",
    "    def __init__(self):\n",
    "        self.e=84\n",
    "        C.__init__(self)\n",
    "o1=D()\n",
    "#produce an error as d is private instance variable\n",
    "print(o1.c)\n",
    "print(o1.d)"
   ]
  },
  {
   "cell_type": "markdown",
   "id": "defe3ebb",
   "metadata": {},
   "source": [
    "### Abstract Method"
   ]
  },
  {
   "cell_type": "markdown",
   "id": "e90e2c06",
   "metadata": {},
   "source": [
    "**Abstract Classes in Python :** An abstract class can be considered as a blueprint for other classes. It allows\n",
    "you to create a set of methods that must be created within any child classes built from the abstract class. A\n",
    "class which contains one or more abstract methods is called an abstract class. An abstract method is a\n",
    "method that has a declaration but does not have an implementation. While we are designing large\n",
    "functional units we use an abstract class. When we want to provide a common interface for different\n",
    "implementations of a component, we use an abstract class."
   ]
  },
  {
   "cell_type": "markdown",
   "id": "a05dc2b4",
   "metadata": {},
   "source": [
    "**Why use Abstract Base Classes ?** By defining an abstract base class, you can define a common\n",
    "Application Program Interface(API) for a set of subclasses. This capability is especially useful in\n",
    "situations where a third-party is going to provide implementations, such as with plugins, but can also help\n",
    "you when working in a large team or with a large code-base where keeping all classes in your mind is\n",
    "difficult or not possible."
   ]
  },
  {
   "cell_type": "markdown",
   "id": "52021dcb",
   "metadata": {},
   "source": [
    "**How Abstract Base classes work ?** By default, Python does not provide abstract classes. Python comes\n",
    "with a module that provides the base for defining Abstract Base classes(ABC) and that module name is\n",
    "ABC. ABC works by decorating methods of the base class as abstract and then registering concrete\n",
    "classes as implementations of the abstract base. A method becomes abstract when decorated with the\n",
    "keyword @abstractmethod."
   ]
  },
  {
   "cell_type": "code",
   "execution_count": 32,
   "id": "031fa975",
   "metadata": {},
   "outputs": [],
   "source": [
    "from abc import ABC, abstractmethod"
   ]
  },
  {
   "cell_type": "code",
   "execution_count": 33,
   "id": "2f2a8c8e",
   "metadata": {},
   "outputs": [
    {
     "name": "stdout",
     "output_type": "stream",
     "text": [
      "this is display method\n"
     ]
    }
   ],
   "source": [
    "class A(ABC):\n",
    "    @abstractmethod\n",
    "    def display(self):\n",
    "        pass\n",
    "class B(A):\n",
    "    def display(self):\n",
    "        print(\"this is display method\")\n",
    "b=B()\n",
    "b.display()"
   ]
  },
  {
   "cell_type": "code",
   "execution_count": 34,
   "id": "24de7239",
   "metadata": {},
   "outputs": [
    {
     "name": "stdout",
     "output_type": "stream",
     "text": [
      "eat non veg\n",
      "eat veg\n"
     ]
    }
   ],
   "source": [
    "from abc import ABC, abstractmethod\n",
    "class Animal(ABC):\n",
    "    @abstractmethod\n",
    "    def eat(self):\n",
    "        pass\n",
    "class Tiger(Animal):\n",
    "    def eat(self):\n",
    "        print(\"eat non veg\")\n",
    "class Cow(Animal):\n",
    "    def eat(self):\n",
    "        print(\"eat veg\")\n",
    "t=Tiger()\n",
    "t.eat()\n",
    "c=Cow()\n",
    "c.eat()"
   ]
  },
  {
   "cell_type": "markdown",
   "id": "253c428a",
   "metadata": {},
   "source": [
    "The End"
   ]
  }
 ],
 "metadata": {
  "kernelspec": {
   "display_name": "Python 3",
   "language": "python",
   "name": "python3"
  },
  "language_info": {
   "codemirror_mode": {
    "name": "ipython",
    "version": 3
   },
   "file_extension": ".py",
   "mimetype": "text/x-python",
   "name": "python",
   "nbconvert_exporter": "python",
   "pygments_lexer": "ipython3",
   "version": "3.8.8"
  }
 },
 "nbformat": 4,
 "nbformat_minor": 5
}
