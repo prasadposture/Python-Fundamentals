{
 "cells": [
  {
   "cell_type": "markdown",
   "id": "9c9381cb",
   "metadata": {},
   "source": [
    "# Functions\n",
    "Function is a logically grouped, set of statements that perform a specific task. This typically involves taking some input, manipulating the input and returning an output.\n",
    "**Advantages of functions:**\n",
    "1. Avoid repetition of codes.\n",
    "2. Increases program readability.\n",
    "3. Divide a complex problem into simpler ones.\n",
    "4. Reduces chances of error.\n",
    "5. Modifying a program becomes easy"
   ]
  },
  {
   "cell_type": "markdown",
   "id": "25523794",
   "metadata": {},
   "source": [
    "### Types of Functions:\n",
    "1. Built-in functions are those that are already defined in Python libraries and we can call them directly. e.g. `print()`\n",
    "2. User defined functions are those that we define ourselves in our program and then call them wherever we want."
   ]
  },
  {
   "cell_type": "markdown",
   "id": "bbadba4c",
   "metadata": {},
   "source": [
    "#### How to define a function?  \n",
    "The function definition starts with the keyword `def`. It must be followed by the function name and the parenthesized list of formal parameters or arguements (these are optional). The statements that form the body of the function start at the next line and must be indented."
   ]
  },
  {
   "cell_type": "code",
   "execution_count": 1,
   "id": "67a59aff",
   "metadata": {},
   "outputs": [],
   "source": [
    "def fun():\n",
    "    print(\"Good Morning\")"
   ]
  },
  {
   "cell_type": "markdown",
   "id": "1d45787d",
   "metadata": {},
   "source": [
    "**Note:** The function doesn’t give any output until it’s called or invoked."
   ]
  },
  {
   "cell_type": "markdown",
   "id": "715a11cb",
   "metadata": {},
   "source": [
    "**Calling a function :** We mention the name of the function with paranthesis and give arguements if have defined it so."
   ]
  },
  {
   "cell_type": "code",
   "execution_count": 2,
   "id": "22260605",
   "metadata": {},
   "outputs": [
    {
     "name": "stdout",
     "output_type": "stream",
     "text": [
      "Good Morning\n"
     ]
    }
   ],
   "source": [
    "#Function with no arguements\n",
    "fun()"
   ]
  },
  {
   "cell_type": "code",
   "execution_count": 3,
   "id": "0aedc9dd",
   "metadata": {},
   "outputs": [],
   "source": [
    "#One can add multiple things they want the function to do inside the indented part\n",
    "def f():\n",
    "    print(\"something\")\n",
    "    print(\"good bye\")"
   ]
  },
  {
   "cell_type": "code",
   "execution_count": 4,
   "id": "40288eca",
   "metadata": {},
   "outputs": [
    {
     "name": "stdout",
     "output_type": "stream",
     "text": [
      "something\n",
      "good bye\n"
     ]
    }
   ],
   "source": [
    "f()"
   ]
  },
  {
   "cell_type": "markdown",
   "id": "c0ab77d1",
   "metadata": {},
   "source": [
    "Function with argument"
   ]
  },
  {
   "cell_type": "code",
   "execution_count": 5,
   "id": "bc589b46",
   "metadata": {},
   "outputs": [],
   "source": [
    "def print_txt(txt):\n",
    "    print(txt)"
   ]
  },
  {
   "cell_type": "code",
   "execution_count": 6,
   "id": "d10a6e98",
   "metadata": {},
   "outputs": [
    {
     "name": "stdout",
     "output_type": "stream",
     "text": [
      "Hello\n"
     ]
    }
   ],
   "source": [
    "print_txt('Hello')"
   ]
  },
  {
   "cell_type": "code",
   "execution_count": 7,
   "id": "ceb881e4",
   "metadata": {},
   "outputs": [
    {
     "ename": "NameError",
     "evalue": "name 'Prasad' is not defined",
     "output_type": "error",
     "traceback": [
      "\u001b[1;31m---------------------------------------------------------------------------\u001b[0m",
      "\u001b[1;31mNameError\u001b[0m                                 Traceback (most recent call last)",
      "\u001b[1;32m<ipython-input-7-fc5fbd05d137>\u001b[0m in \u001b[0;36m<module>\u001b[1;34m\u001b[0m\n\u001b[1;32m----> 1\u001b[1;33m \u001b[0mprint_txt\u001b[0m\u001b[1;33m(\u001b[0m\u001b[0mPrasad\u001b[0m\u001b[1;33m)\u001b[0m\u001b[1;33m\u001b[0m\u001b[1;33m\u001b[0m\u001b[0m\n\u001b[0m",
      "\u001b[1;31mNameError\u001b[0m: name 'Prasad' is not defined"
     ]
    }
   ],
   "source": [
    "print_txt(Prasad)"
   ]
  },
  {
   "cell_type": "markdown",
   "id": "59d5e897",
   "metadata": {},
   "source": [
    "The argument given to the function should be suitable for the task it is defined to do.\n",
    "Here the the input should be anything that `print()` can take"
   ]
  },
  {
   "cell_type": "code",
   "execution_count": 8,
   "id": "67b83d4c",
   "metadata": {},
   "outputs": [
    {
     "name": "stdout",
     "output_type": "stream",
     "text": [
      "2\n"
     ]
    }
   ],
   "source": [
    "print_txt(2) #print() takes numeric value hence it hasn't given any error"
   ]
  },
  {
   "cell_type": "code",
   "execution_count": 9,
   "id": "b1f3945d",
   "metadata": {},
   "outputs": [
    {
     "name": "stdout",
     "output_type": "stream",
     "text": [
      "Prasad\n"
     ]
    }
   ],
   "source": [
    "Prasad='Prasad'\n",
    "print_txt(Prasad)#print function takes variables therefore we didn't get any error  "
   ]
  },
  {
   "cell_type": "markdown",
   "id": "fd7709d8",
   "metadata": {},
   "source": [
    "Function with multiple arguments"
   ]
  },
  {
   "cell_type": "code",
   "execution_count": 10,
   "id": "00103aa5",
   "metadata": {},
   "outputs": [],
   "source": [
    "def add(a,b):\n",
    "    print('the sum is:',a+b)"
   ]
  },
  {
   "cell_type": "code",
   "execution_count": 11,
   "id": "4689076b",
   "metadata": {},
   "outputs": [
    {
     "name": "stdout",
     "output_type": "stream",
     "text": [
      "the sum is: 9\n"
     ]
    }
   ],
   "source": [
    "add(4,5)"
   ]
  },
  {
   "cell_type": "markdown",
   "id": "d41212ca",
   "metadata": {},
   "source": [
    "Taking user input for argument of the function"
   ]
  },
  {
   "cell_type": "code",
   "execution_count": 12,
   "id": "6e0407c2",
   "metadata": {},
   "outputs": [
    {
     "name": "stdout",
     "output_type": "stream",
     "text": [
      "Square of:7\n",
      "49\n"
     ]
    }
   ],
   "source": [
    "def square(n):\n",
    "    print(n*n)\n",
    "n=int(input('Square of:'))\n",
    "square(n)"
   ]
  },
  {
   "cell_type": "markdown",
   "id": "b97ecacd",
   "metadata": {},
   "source": [
    "If we already assigned values to the variables used in definition of the function then irrespective of the arguements we give the function will return the value it was defined for."
   ]
  },
  {
   "cell_type": "code",
   "execution_count": 13,
   "id": "4f8c0a67",
   "metadata": {},
   "outputs": [
    {
     "name": "stdout",
     "output_type": "stream",
     "text": [
      "Addition is 30\n"
     ]
    }
   ],
   "source": [
    "a=10\n",
    "b=20\n",
    "def add(x,y):\n",
    "    print(\"Addition is\",a+b)\n",
    "add(2,3) #doesn't add 2+3"
   ]
  },
  {
   "cell_type": "code",
   "execution_count": 14,
   "id": "7d9de0b7",
   "metadata": {
    "scrolled": true
   },
   "outputs": [
    {
     "ename": "TypeError",
     "evalue": "add() takes 2 positional arguments but 3 were given",
     "output_type": "error",
     "traceback": [
      "\u001b[1;31m---------------------------------------------------------------------------\u001b[0m",
      "\u001b[1;31mTypeError\u001b[0m                                 Traceback (most recent call last)",
      "\u001b[1;32m<ipython-input-14-6cf18d245e15>\u001b[0m in \u001b[0;36m<module>\u001b[1;34m\u001b[0m\n\u001b[1;32m----> 1\u001b[1;33m \u001b[0madd\u001b[0m\u001b[1;33m(\u001b[0m\u001b[1;36m4\u001b[0m\u001b[1;33m,\u001b[0m\u001b[1;36m3\u001b[0m\u001b[1;33m,\u001b[0m\u001b[1;36m2\u001b[0m\u001b[1;33m)\u001b[0m\u001b[1;33m\u001b[0m\u001b[1;33m\u001b[0m\u001b[0m\n\u001b[0m",
      "\u001b[1;31mTypeError\u001b[0m: add() takes 2 positional arguments but 3 were given"
     ]
    }
   ],
   "source": [
    "add(4,3,2)"
   ]
  },
  {
   "cell_type": "markdown",
   "id": "b9c8892c",
   "metadata": {},
   "source": [
    "**Note:** Even if the arguments given are of no use here the number of arguments give should be equal to the number argument mentioned while defining the function."
   ]
  },
  {
   "cell_type": "markdown",
   "id": "d5fd48d4",
   "metadata": {},
   "source": [
    "Define a function to check whether the given number is even or odd:"
   ]
  },
  {
   "cell_type": "code",
   "execution_count": 15,
   "id": "7fcf6ec5",
   "metadata": {},
   "outputs": [],
   "source": [
    "def is_even(i):\n",
    "    print('is inside even ?')#thid msg will always be printed to\n",
    "    print(i%2==0) #executes the condition"
   ]
  },
  {
   "cell_type": "code",
   "execution_count": 16,
   "id": "88322f97",
   "metadata": {},
   "outputs": [
    {
     "name": "stdout",
     "output_type": "stream",
     "text": [
      "is inside even ?\n",
      "False\n"
     ]
    }
   ],
   "source": [
    "is_even(5)"
   ]
  },
  {
   "cell_type": "code",
   "execution_count": 17,
   "id": "78fc6699",
   "metadata": {},
   "outputs": [
    {
     "name": "stdout",
     "output_type": "stream",
     "text": [
      "is inside even ?\n",
      "True\n"
     ]
    }
   ],
   "source": [
    "is_even(6)"
   ]
  },
  {
   "cell_type": "markdown",
   "id": "a031644c",
   "metadata": {},
   "source": [
    "Storing the output in a variable and accessing it later:"
   ]
  },
  {
   "cell_type": "code",
   "execution_count": 18,
   "id": "19d74caf",
   "metadata": {},
   "outputs": [
    {
     "name": "stdout",
     "output_type": "stream",
     "text": [
      "5\n"
     ]
    }
   ],
   "source": [
    "def add(a,b):\n",
    "    print(a+b)\n",
    "a=add(3,2) #Storing that into a variable"
   ]
  },
  {
   "cell_type": "code",
   "execution_count": 19,
   "id": "f49a3d7c",
   "metadata": {},
   "outputs": [
    {
     "name": "stdout",
     "output_type": "stream",
     "text": [
      "None\n"
     ]
    }
   ],
   "source": [
    "print(a) #accessing the value\n",
    "#it gives output as none"
   ]
  },
  {
   "cell_type": "markdown",
   "id": "fcfcc426",
   "metadata": {},
   "source": [
    "We cannot do any operations on such variable"
   ]
  },
  {
   "cell_type": "code",
   "execution_count": 20,
   "id": "ccfc9d1d",
   "metadata": {},
   "outputs": [
    {
     "ename": "TypeError",
     "evalue": "unsupported operand type(s) for +: 'NoneType' and 'int'",
     "output_type": "error",
     "traceback": [
      "\u001b[1;31m---------------------------------------------------------------------------\u001b[0m",
      "\u001b[1;31mTypeError\u001b[0m                                 Traceback (most recent call last)",
      "\u001b[1;32m<ipython-input-20-0abcb9453b49>\u001b[0m in \u001b[0;36m<module>\u001b[1;34m\u001b[0m\n\u001b[1;32m----> 1\u001b[1;33m \u001b[0mb\u001b[0m\u001b[1;33m=\u001b[0m\u001b[0ma\u001b[0m\u001b[1;33m+\u001b[0m\u001b[1;36m3\u001b[0m\u001b[1;33m\u001b[0m\u001b[1;33m\u001b[0m\u001b[0m\n\u001b[0m\u001b[0;32m      2\u001b[0m \u001b[0mb\u001b[0m \u001b[1;31m# We ended up getting an error\u001b[0m\u001b[1;33m\u001b[0m\u001b[1;33m\u001b[0m\u001b[0m\n\u001b[0;32m      3\u001b[0m \u001b[1;31m# How to store and access the output of the function?\u001b[0m\u001b[1;33m\u001b[0m\u001b[1;33m\u001b[0m\u001b[1;33m\u001b[0m\u001b[0m\n",
      "\u001b[1;31mTypeError\u001b[0m: unsupported operand type(s) for +: 'NoneType' and 'int'"
     ]
    }
   ],
   "source": [
    "b=a+3\n",
    "b # We ended up getting an error\n",
    "# How to store and access the output of the function?"
   ]
  },
  {
   "cell_type": "markdown",
   "id": "43e7ee44",
   "metadata": {},
   "source": [
    "We use the keyword `return`. Simply using `return` in our function we can later store and access any output the `return` returns."
   ]
  },
  {
   "cell_type": "code",
   "execution_count": 21,
   "id": "b20e64f6",
   "metadata": {},
   "outputs": [],
   "source": [
    "#Modifying the above example using return\n",
    "def add(a,b):\n",
    "    return a+b\n",
    "a=add(3,2) #storing the output into a variable"
   ]
  },
  {
   "cell_type": "code",
   "execution_count": 22,
   "id": "f0c2c567",
   "metadata": {},
   "outputs": [
    {
     "name": "stdout",
     "output_type": "stream",
     "text": [
      "5\n"
     ]
    }
   ],
   "source": [
    "print(a) #accessing the value\n",
    "#gives the output properly"
   ]
  },
  {
   "cell_type": "code",
   "execution_count": 23,
   "id": "510e2127",
   "metadata": {},
   "outputs": [
    {
     "data": {
      "text/plain": [
       "8"
      ]
     },
     "execution_count": 23,
     "metadata": {},
     "output_type": "execute_result"
    }
   ],
   "source": [
    "b=a+3\n",
    "b\n",
    "# Allows operations on the stored variable as well"
   ]
  },
  {
   "cell_type": "markdown",
   "id": "d6678974",
   "metadata": {},
   "source": [
    "Formal parameters are mentioned in the function definition. Actual parameters also known as arguments are passed during a function call. Function arguments are the parameters of a calling function."
   ]
  },
  {
   "cell_type": "markdown",
   "id": "01bdffcf",
   "metadata": {},
   "source": [
    "### Types of arguments\n",
    "**Default Arguments:** It is Specified using ‘=‘. It assumes default value when no value is specified.  "
   ]
  },
  {
   "cell_type": "code",
   "execution_count": 24,
   "id": "f39bb2ba",
   "metadata": {},
   "outputs": [],
   "source": [
    "def greet(name,msg=\"Good Morning\"):\n",
    "    print(\"Hello\",name+' , '+msg)"
   ]
  },
  {
   "cell_type": "code",
   "execution_count": 25,
   "id": "9f71f768",
   "metadata": {},
   "outputs": [
    {
     "name": "stdout",
     "output_type": "stream",
     "text": [
      "Hello Alan , Good Morning\n"
     ]
    }
   ],
   "source": [
    "greet(\"Alan\")#the second arguement isnt given it takes the default one"
   ]
  },
  {
   "cell_type": "code",
   "execution_count": 26,
   "id": "715c8f75",
   "metadata": {},
   "outputs": [
    {
     "name": "stdout",
     "output_type": "stream",
     "text": [
      "Hello Bruce , How do you do?\n"
     ]
    }
   ],
   "source": [
    "greet(\"Bruce\",\"How do you do?\")"
   ]
  },
  {
   "cell_type": "markdown",
   "id": "95c1427b",
   "metadata": {},
   "source": [
    "**Keyword Arguments:** The arguments are identified by the parameter names while using keyword\n",
    "arguments. We can give the arguments in any order provided you have mentioned the parameters while giving them."
   ]
  },
  {
   "cell_type": "code",
   "execution_count": 27,
   "id": "1f7e1b36",
   "metadata": {},
   "outputs": [
    {
     "name": "stdout",
     "output_type": "stream",
     "text": [
      "remainder of 10/3: 1\n"
     ]
    }
   ],
   "source": [
    "def remainder(dividend, divisor):\n",
    "    x=dividend%divisor\n",
    "    return x\n",
    "rem=remainder(divisor=3,dividend=10)\n",
    "print(\"remainder of 10/3:\",rem)"
   ]
  },
  {
   "cell_type": "code",
   "execution_count": 28,
   "id": "9aae30de",
   "metadata": {},
   "outputs": [
    {
     "data": {
      "text/plain": [
       "1"
      ]
     },
     "execution_count": 28,
     "metadata": {},
     "output_type": "execute_result"
    }
   ],
   "source": [
    "remainder(9,2)"
   ]
  },
  {
   "cell_type": "code",
   "execution_count": 29,
   "id": "440c1191",
   "metadata": {},
   "outputs": [],
   "source": [
    "def message(name,surname):\n",
    "    print(\"Hello\" , name , surname)"
   ]
  },
  {
   "cell_type": "markdown",
   "id": "4c13d2a0",
   "metadata": {},
   "source": [
    "Order of the arguments matters, when we don't mention the parameters."
   ]
  },
  {
   "cell_type": "code",
   "execution_count": 30,
   "id": "2042a503",
   "metadata": {},
   "outputs": [
    {
     "name": "stdout",
     "output_type": "stream",
     "text": [
      "Hello Prasad Posture\n"
     ]
    }
   ],
   "source": [
    "message(\"Prasad\",\"Posture\")"
   ]
  },
  {
   "cell_type": "code",
   "execution_count": 31,
   "id": "1e40783a",
   "metadata": {},
   "outputs": [
    {
     "name": "stdout",
     "output_type": "stream",
     "text": [
      "Hello Posture Prasad\n"
     ]
    }
   ],
   "source": [
    "#switching the order\n",
    "message(\"Posture\",\"Prasad\")"
   ]
  },
  {
   "cell_type": "markdown",
   "id": "597323ec",
   "metadata": {},
   "source": [
    "Order of the arguments doesn't matter when we mention the parameters."
   ]
  },
  {
   "cell_type": "code",
   "execution_count": 32,
   "id": "13f7e081",
   "metadata": {},
   "outputs": [
    {
     "name": "stdout",
     "output_type": "stream",
     "text": [
      "Hello Prasad Posture\n"
     ]
    }
   ],
   "source": [
    "message(name=\"Prasad\",surname=\"Posture\")"
   ]
  },
  {
   "cell_type": "code",
   "execution_count": 33,
   "id": "183c6354",
   "metadata": {},
   "outputs": [
    {
     "name": "stdout",
     "output_type": "stream",
     "text": [
      "Hello Prasad Posture\n"
     ]
    }
   ],
   "source": [
    "#Switching the order\n",
    "message(surname=\"Posture\",name=\"Prasad\")"
   ]
  },
  {
   "cell_type": "markdown",
   "id": "cfe77ac9",
   "metadata": {},
   "source": [
    "**Arbitrary Argument:** In case of some programs, we do not know how many arguments will be passed to the function during function call. This situation is taken care of by arbitrary arguments. An argument can be declared as an arbitrary argument by\n",
    "putting an asterisk (*) before the parameter name."
   ]
  },
  {
   "cell_type": "code",
   "execution_count": 34,
   "id": "49a505e6",
   "metadata": {},
   "outputs": [],
   "source": [
    "def addition(*numbers):\n",
    "    total=0\n",
    "    for no in numbers:\n",
    "        total=total+no\n",
    "    print(\"sum is:\", total)"
   ]
  },
  {
   "cell_type": "code",
   "execution_count": 35,
   "id": "9842627a",
   "metadata": {},
   "outputs": [
    {
     "name": "stdout",
     "output_type": "stream",
     "text": [
      "sum is: 0\n"
     ]
    }
   ],
   "source": [
    "addition()"
   ]
  },
  {
   "cell_type": "code",
   "execution_count": 36,
   "id": "0aaa8f5f",
   "metadata": {},
   "outputs": [
    {
     "name": "stdout",
     "output_type": "stream",
     "text": [
      "sum is: 122831\n"
     ]
    }
   ],
   "source": [
    "addition(23,34,21,532,122221)"
   ]
  },
  {
   "cell_type": "markdown",
   "id": "93665ee3",
   "metadata": {},
   "source": [
    "**Docstring:** One can also add docstring to the function. The docstring can be any text related to the function. It mostly talks about what the function does."
   ]
  },
  {
   "cell_type": "code",
   "execution_count": 37,
   "id": "56064ef4",
   "metadata": {},
   "outputs": [],
   "source": [
    "def addition(*numbers):\n",
    "    \"addition : adds all the numbers given as an argument\" #docstring\n",
    "    total=0\n",
    "    for no in numbers:\n",
    "        total=total+no\n",
    "    print(\"sum is:\", total)"
   ]
  },
  {
   "cell_type": "markdown",
   "id": "9a128666",
   "metadata": {},
   "source": [
    "Accessing the docstring: We use `.__doc__` with the name of the function, for accessing the information stored in the string"
   ]
  },
  {
   "cell_type": "code",
   "execution_count": 38,
   "id": "ad1a18c8",
   "metadata": {},
   "outputs": [
    {
     "data": {
      "text/plain": [
       "'addition : adds all the numbers given as an argument'"
      ]
     },
     "execution_count": 38,
     "metadata": {},
     "output_type": "execute_result"
    }
   ],
   "source": [
    "addition.__doc__"
   ]
  },
  {
   "cell_type": "markdown",
   "id": "f981b2c3",
   "metadata": {},
   "source": [
    "### Function Challenges"
   ]
  },
  {
   "cell_type": "markdown",
   "id": "8cd004fc",
   "metadata": {},
   "source": [
    "Q. Define a function for calculating the area of the circle from the radius."
   ]
  },
  {
   "cell_type": "code",
   "execution_count": 39,
   "id": "e1b12f6a",
   "metadata": {},
   "outputs": [
    {
     "name": "stdout",
     "output_type": "stream",
     "text": [
      "Area of the circle with radius 13.9 is 606.6794000000001 sq. units\n"
     ]
    }
   ],
   "source": [
    "def area_of_circle(radius):\n",
    "    area=3.14*(radius**2)\n",
    "    print(\"Area of the circle with radius {}\".format(radius),\"is {} sq. units\".format(area))\n",
    "area_of_circle(13.9)"
   ]
  },
  {
   "cell_type": "markdown",
   "id": "dbe14097",
   "metadata": {},
   "source": [
    "Q. Define a functin for converting temperature from degrees to farahneit"
   ]
  },
  {
   "cell_type": "code",
   "execution_count": 40,
   "id": "da72362e",
   "metadata": {},
   "outputs": [
    {
     "name": "stdout",
     "output_type": "stream",
     "text": [
      "35 degree celcius is equal to 95.0 degree Fahrenheit\n"
     ]
    }
   ],
   "source": [
    "def D2F(temp):\n",
    "    print(temp, \"degree celcius is equal to\", ((9/5)*temp)+32,\"degree Fahrenheit\")\n",
    "D2F(35)"
   ]
  },
  {
   "cell_type": "markdown",
   "id": "2bfd019d",
   "metadata": {},
   "source": [
    "Q. Define a function for calculating max from the given numbers (do not use inbuilt `max()` function)"
   ]
  },
  {
   "cell_type": "code",
   "execution_count": 41,
   "id": "e6cccde1",
   "metadata": {},
   "outputs": [
    {
     "name": "stdout",
     "output_type": "stream",
     "text": [
      "Maximum: 65\n"
     ]
    }
   ],
   "source": [
    "def maximum(a,b,c):\n",
    "    if a>=b and a>=c:\n",
    "        print(\"Maximum:\",a)\n",
    "    elif b>=a and b>=c:\n",
    "        print(\"Maximum:\",b)\n",
    "    else:\n",
    "        print(\"Maximum:\",c)\n",
    "maximum(43,65,12)"
   ]
  },
  {
   "cell_type": "markdown",
   "id": "6b6addcd",
   "metadata": {},
   "source": [
    "Q. Define a function that adds 10 and 20 to to any given list."
   ]
  },
  {
   "cell_type": "code",
   "execution_count": 42,
   "id": "5ea46306",
   "metadata": {},
   "outputs": [
    {
     "name": "stdout",
     "output_type": "stream",
     "text": [
      "['A', 'B', 10, 20]\n"
     ]
    }
   ],
   "source": [
    "def xappendx(List):\n",
    "    List.append(10)\n",
    "    List.append(20)\n",
    "    print(List)\n",
    "xappendx([\"A\",\"B\"])"
   ]
  },
  {
   "cell_type": "markdown",
   "id": "74092449",
   "metadata": {},
   "source": [
    "Q. Define a function that gives you list of the square till a number given as an argument."
   ]
  },
  {
   "cell_type": "code",
   "execution_count": 43,
   "id": "2e5135b6",
   "metadata": {},
   "outputs": [
    {
     "name": "stdout",
     "output_type": "stream",
     "text": [
      "[1, 4, 9, 16, 25, 36, 49]\n"
     ]
    }
   ],
   "source": [
    "#Method 1\n",
    "def square2n(n):\n",
    "    list=[]\n",
    "    i=0             #work on this function\n",
    "    while(i<n):\n",
    "        i=i+1\n",
    "        list.append(i**2)\n",
    "    print(list)\n",
    "square2n(7)"
   ]
  },
  {
   "cell_type": "code",
   "execution_count": 44,
   "id": "19427b26",
   "metadata": {},
   "outputs": [
    {
     "name": "stdout",
     "output_type": "stream",
     "text": [
      "[1, 4, 9]\n"
     ]
    }
   ],
   "source": [
    "def game(num):\n",
    "    list=[]\n",
    "    for i in range(1,num+1):\n",
    "        list.append(i*i)\n",
    "    print(list)\n",
    "game(3)"
   ]
  },
  {
   "cell_type": "markdown",
   "id": "aa3da77c",
   "metadata": {},
   "source": [
    "Q. Define a function to check whether the each number from the range 1 to 20 is even or odd."
   ]
  },
  {
   "cell_type": "code",
   "execution_count": 45,
   "id": "dafbb409",
   "metadata": {},
   "outputs": [
    {
     "name": "stdout",
     "output_type": "stream",
     "text": [
      "the number 1 is odd\n",
      " the number 2  is even\n",
      "the number 3 is odd\n",
      " the number 4  is even\n",
      "the number 5 is odd\n",
      " the number 6  is even\n",
      "the number 7 is odd\n",
      " the number 8  is even\n",
      "the number 9 is odd\n",
      " the number 10  is even\n",
      "the number 11 is odd\n",
      " the number 12  is even\n",
      "the number 13 is odd\n",
      " the number 14  is even\n",
      "the number 15 is odd\n",
      " the number 16  is even\n",
      "the number 17 is odd\n",
      " the number 18  is even\n",
      "the number 19 is odd\n",
      " the number 20  is even\n"
     ]
    }
   ],
   "source": [
    "def ceo(n):\n",
    "    if n%2==0:\n",
    "        print(\" the number\",n,\" is even\")\n",
    "    else:\n",
    "        print(\"the number\",n,\"is odd\")\n",
    "for n in range(1,21):\n",
    "    ceo(n)"
   ]
  },
  {
   "cell_type": "markdown",
   "id": "e8a50e0b",
   "metadata": {},
   "source": [
    "Q. Take age inputs from the user and define a function that show who is younger."
   ]
  },
  {
   "cell_type": "code",
   "execution_count": 46,
   "id": "475eeea7",
   "metadata": {},
   "outputs": [
    {
     "name": "stdout",
     "output_type": "stream",
     "text": [
      "Enter your age1:32\n",
      "Enter your age2:34\n",
      "Person with Age 32 years, is younger\n",
      "They are of the same age 32\n"
     ]
    }
   ],
   "source": [
    "age1=int(input(\"Enter your age1:\"))\n",
    "age2=int(input(\"Enter your age2:\"))\n",
    "def comparison(age1,age2):\n",
    "    if age1<age2:\n",
    "        print(\"Person with Age {} years, is younger\".format(age1))\n",
    "    if age1>age2:\n",
    "        print(\"Person with Age {} years, is younger\".format(age2))\n",
    "    else:\n",
    "        print(\"They are of the same age {}\".format(age1))\n",
    "comparison(age1,age2)"
   ]
  },
  {
   "cell_type": "markdown",
   "id": "5e4780b8",
   "metadata": {},
   "source": [
    "Q. Define a function which takes multiple arguments and returns them in the form of list."
   ]
  },
  {
   "cell_type": "code",
   "execution_count": 47,
   "id": "e41dbfc8",
   "metadata": {},
   "outputs": [
    {
     "name": "stdout",
     "output_type": "stream",
     "text": [
      "['mangoes', 'banana', 'watermelon']\n"
     ]
    }
   ],
   "source": [
    "def fun(*fruits):\n",
    "    list=[]\n",
    "    for x in fruits:\n",
    "        list.append(x)\n",
    "    print(list)\n",
    "fun(\"mangoes\",\"banana\",\"watermelon\")"
   ]
  },
  {
   "cell_type": "markdown",
   "id": "889ab129",
   "metadata": {},
   "source": [
    "The End"
   ]
  }
 ],
 "metadata": {
  "kernelspec": {
   "display_name": "Python 3",
   "language": "python",
   "name": "python3"
  },
  "language_info": {
   "codemirror_mode": {
    "name": "ipython",
    "version": 3
   },
   "file_extension": ".py",
   "mimetype": "text/x-python",
   "name": "python",
   "nbconvert_exporter": "python",
   "pygments_lexer": "ipython3",
   "version": "3.8.8"
  }
 },
 "nbformat": 4,
 "nbformat_minor": 5
}
