{
 "cells": [
  {
   "cell_type": "markdown",
   "id": "bebd6bcb",
   "metadata": {},
   "source": [
    "# Strings"
   ]
  },
  {
   "cell_type": "markdown",
   "id": "d08d8029",
   "metadata": {},
   "source": [
    "### What are Strings?"
   ]
  },
  {
   "cell_type": "markdown",
   "id": "9437a5e2",
   "metadata": {},
   "source": [
    "The following example shows a string contained within 2 quotation marks:"
   ]
  },
  {
   "cell_type": "code",
   "execution_count": 1,
   "id": "58c684d5",
   "metadata": {},
   "outputs": [
    {
     "data": {
      "text/plain": [
       "'Prasada Posture'"
      ]
     },
     "execution_count": 1,
     "metadata": {},
     "output_type": "execute_result"
    }
   ],
   "source": [
    "#Use quotation mark for defining a string\n",
    "\"Prasada Posture\""
   ]
  },
  {
   "cell_type": "markdown",
   "id": "b5946b6f",
   "metadata": {},
   "source": [
    "A string can be a combination of spaces and digits:"
   ]
  },
  {
   "cell_type": "code",
   "execution_count": 2,
   "id": "6c84640a",
   "metadata": {},
   "outputs": [
    {
     "data": {
      "text/plain": [
       "'1 2 3 4 5'"
      ]
     },
     "execution_count": 2,
     "metadata": {},
     "output_type": "execute_result"
    }
   ],
   "source": [
    "\"1 2 3 4 5\""
   ]
  },
  {
   "cell_type": "markdown",
   "id": "5e329bf5",
   "metadata": {},
   "source": [
    "A string can also be a combination of special characters :"
   ]
  },
  {
   "cell_type": "code",
   "execution_count": 3,
   "id": "cf15d950",
   "metadata": {},
   "outputs": [
    {
     "data": {
      "text/plain": [
       "'@e%thh*'"
      ]
     },
     "execution_count": 3,
     "metadata": {},
     "output_type": "execute_result"
    }
   ],
   "source": [
    "\"@e%thh*\""
   ]
  },
  {
   "cell_type": "markdown",
   "id": "3da4dc3a",
   "metadata": {},
   "source": [
    "We can print our string using the print statement:"
   ]
  },
  {
   "cell_type": "code",
   "execution_count": 4,
   "id": "6ed40227",
   "metadata": {},
   "outputs": [
    {
     "name": "stdout",
     "output_type": "stream",
     "text": [
      "hello!\n"
     ]
    }
   ],
   "source": [
    "print(\"hello!\")"
   ]
  },
  {
   "cell_type": "markdown",
   "id": "ba3a3eb1",
   "metadata": {},
   "source": [
    "We can bind or assign a string to another variable:"
   ]
  },
  {
   "cell_type": "code",
   "execution_count": 5,
   "id": "ab841808",
   "metadata": {},
   "outputs": [
    {
     "data": {
      "text/plain": [
       "'Michael Jackson'"
      ]
     },
     "execution_count": 5,
     "metadata": {},
     "output_type": "execute_result"
    }
   ],
   "source": [
    "name= \"Michael Jackson\"\n",
    "name"
   ]
  },
  {
   "cell_type": "markdown",
   "id": "516e0de8",
   "metadata": {},
   "source": [
    "### Indexing\n",
    "It is helpful to think of a string as an ordered sequence. Each element in the sequence can be accessed using an index represented by the array of numbers.\n",
    "**[Tip]: Because indexing starts at 0, it means the first index is on the index 0 and ll the indexing rule remains same for all types of objects i.e. list, tuple, strings etc****"
   ]
  },
  {
   "cell_type": "code",
   "execution_count": 6,
   "id": "bfb4f94a",
   "metadata": {},
   "outputs": [
    {
     "name": "stdout",
     "output_type": "stream",
     "text": [
      "M\n"
     ]
    }
   ],
   "source": [
    "print(name[0])"
   ]
  },
  {
   "cell_type": "code",
   "execution_count": 7,
   "id": "2e655613",
   "metadata": {},
   "outputs": [
    {
     "name": "stdout",
     "output_type": "stream",
     "text": [
      "s\n"
     ]
    }
   ],
   "source": [
    "print(name[12])"
   ]
  },
  {
   "cell_type": "markdown",
   "id": "3ab3344c",
   "metadata": {},
   "source": [
    "### Negative Indexing\n",
    "The last element is given by the index -1 and the numbering percets till the first element"
   ]
  },
  {
   "cell_type": "code",
   "execution_count": 8,
   "id": "ab882db6",
   "metadata": {},
   "outputs": [
    {
     "name": "stdout",
     "output_type": "stream",
     "text": [
      "n\n"
     ]
    }
   ],
   "source": [
    "#Print the last element in the string\n",
    "print(name[-1])"
   ]
  },
  {
   "cell_type": "code",
   "execution_count": 9,
   "id": "d843263d",
   "metadata": {},
   "outputs": [
    {
     "name": "stdout",
     "output_type": "stream",
     "text": [
      "M\n"
     ]
    }
   ],
   "source": [
    "#Print the first element in the string\n",
    "print(name[-15])"
   ]
  },
  {
   "cell_type": "markdown",
   "id": "ad94f2d6",
   "metadata": {},
   "source": [
    "We can find the number of characters in a string by using len function(short of length):"
   ]
  },
  {
   "cell_type": "code",
   "execution_count": 10,
   "id": "f78c4e62",
   "metadata": {},
   "outputs": [
    {
     "data": {
      "text/plain": [
       "15"
      ]
     },
     "execution_count": 10,
     "metadata": {},
     "output_type": "execute_result"
    }
   ],
   "source": [
    "len(\"Michael Jackson\") #gives number of characters including spaces"
   ]
  },
  {
   "cell_type": "markdown",
   "id": "9fbfca0a",
   "metadata": {},
   "source": [
    "### Slicing\n",
    "We can extract multiple characters from a string using slicing.\n",
    "**Formula:** string[m:n+1:p]  \n",
    "m = index number of first character you need  \n",
    "n = index number of last character you need  \n",
    "p = takes every pth element into consideration (taken 1 by default if not given)   \n",
    "**[Tip]:This slicing rule remains same for all types of objects i.e. list, tuple, strings etc**"
   ]
  },
  {
   "cell_type": "code",
   "execution_count": 11,
   "id": "e2269231",
   "metadata": {},
   "outputs": [
    {
     "data": {
      "text/plain": [
       "'Mich'"
      ]
     },
     "execution_count": 11,
     "metadata": {},
     "output_type": "execute_result"
    }
   ],
   "source": [
    "name[0:4]"
   ]
  },
  {
   "cell_type": "code",
   "execution_count": 12,
   "id": "93f26530",
   "metadata": {},
   "outputs": [
    {
     "data": {
      "text/plain": [
       "'Jack'"
      ]
     },
     "execution_count": 12,
     "metadata": {},
     "output_type": "execute_result"
    }
   ],
   "source": [
    "name[8:12]"
   ]
  },
  {
   "cell_type": "code",
   "execution_count": 13,
   "id": "de5d27c3",
   "metadata": {},
   "outputs": [
    {
     "data": {
      "text/plain": [
       "'McalJcsn'"
      ]
     },
     "execution_count": 13,
     "metadata": {},
     "output_type": "execute_result"
    }
   ],
   "source": [
    "name[::2] #if m and n are not given it looks for entire string"
   ]
  },
  {
   "cell_type": "code",
   "execution_count": 14,
   "id": "0f18da02",
   "metadata": {},
   "outputs": [
    {
     "data": {
      "text/plain": [
       "'Mca'"
      ]
     },
     "execution_count": 14,
     "metadata": {},
     "output_type": "execute_result"
    }
   ],
   "source": [
    "name[0:5:2] #gives every second element till index 4"
   ]
  },
  {
   "cell_type": "markdown",
   "id": "2cfb6723",
   "metadata": {},
   "source": [
    "### Concatenate Strings\n",
    "We can concatenate or combine strings by using the addition symbols, and the result is a new string that is a combination of both"
   ]
  },
  {
   "cell_type": "code",
   "execution_count": 15,
   "id": "d2991454",
   "metadata": {},
   "outputs": [
    {
     "data": {
      "text/plain": [
       "'Michael Jackson is the best'"
      ]
     },
     "execution_count": 15,
     "metadata": {},
     "output_type": "execute_result"
    }
   ],
   "source": [
    "statement=name+\" is the best\"\n",
    "statement"
   ]
  },
  {
   "cell_type": "markdown",
   "id": "c3ee7893",
   "metadata": {},
   "source": [
    "To replicate values of a string we simply multiply the string by the number of times we would like to replicate it. In this case, the number is three. The result is a new string, and this new string consists of three copies of the original string:"
   ]
  },
  {
   "cell_type": "code",
   "execution_count": 16,
   "id": "aa351420",
   "metadata": {},
   "outputs": [
    {
     "data": {
      "text/plain": [
       "'Michael Jackson Michael Jackson Michael Jackson Michael Jackson Michael Jackson '"
      ]
     },
     "execution_count": 16,
     "metadata": {},
     "output_type": "execute_result"
    }
   ],
   "source": [
    "#Prints the string 5 times\n",
    "5*\"Michael Jackson \" #added space at the end for seperations ;-)"
   ]
  },
  {
   "cell_type": "markdown",
   "id": "034790c9",
   "metadata": {},
   "source": [
    "You can create a new string by setting it to the original variable. Concatenated with a new string, the result is a new string that changes\n",
    "from Michael Jackson to “Michael Jackson is the best\"."
   ]
  },
  {
   "cell_type": "code",
   "execution_count": 17,
   "id": "b3f36eda",
   "metadata": {},
   "outputs": [
    {
     "data": {
      "text/plain": [
       "'Michael Jacksonis the best'"
      ]
     },
     "execution_count": 17,
     "metadata": {},
     "output_type": "execute_result"
    }
   ],
   "source": [
    "name = \"Michael Jackson\"\n",
    "name = name + \"is the best\"\n",
    "name"
   ]
  },
  {
   "cell_type": "markdown",
   "id": "bf01ad39",
   "metadata": {},
   "source": [
    "### Escape Sequences\n",
    "Back slashes represent the beginning of escape sequences. Escape sequences represent strings that may be difficult to input. For\n",
    "example, back slash \"n\" ( \\n ) represents a new line. The output is given by a new line after the back slash \"n\" is encountered"
   ]
  },
  {
   "cell_type": "code",
   "execution_count": 18,
   "id": "39e76b3f",
   "metadata": {},
   "outputs": [
    {
     "name": "stdout",
     "output_type": "stream",
     "text": [
      "michael jackson \n",
      " is the best\n"
     ]
    }
   ],
   "source": [
    "#New line escape sequence: Starts the string after \\n from the newline\n",
    "print(\"michael jackson \\n is the best\")"
   ]
  },
  {
   "cell_type": "markdown",
   "id": "cafb8665",
   "metadata": {},
   "source": [
    "Similarly, back slash \"t\"( \\t ) represents a tab:"
   ]
  },
  {
   "cell_type": "code",
   "execution_count": 19,
   "id": "f8d1f9ef",
   "metadata": {},
   "outputs": [
    {
     "name": "stdout",
     "output_type": "stream",
     "text": [
      "michael jackson \t is the best\n"
     ]
    }
   ],
   "source": [
    "print(\"michael jackson \\t is the best\")"
   ]
  },
  {
   "cell_type": "markdown",
   "id": "b14eaa03",
   "metadata": {},
   "source": [
    "### String Operations\n",
    "There are many string operation methods in Python that can be used to manipulate the data. We are going to use some basic string\n",
    "operations on the data.\n",
    "Let's try with the method upper ; this method converts lower case characters to upper case characters."
   ]
  },
  {
   "cell_type": "code",
   "execution_count": 20,
   "id": "52465804",
   "metadata": {},
   "outputs": [
    {
     "name": "stdout",
     "output_type": "stream",
     "text": [
      "WALK LIKE PYTHON; RUN LIKE C.\n"
     ]
    }
   ],
   "source": [
    "a = \"Walk Like Python; Run Like C.\" # the main string\n",
    "b = a.upper() #the using the upper method and storing it in variable b\n",
    "print(b) #printiing b"
   ]
  },
  {
   "cell_type": "markdown",
   "id": "d141cb1c",
   "metadata": {},
   "source": [
    "The method replace replaces a segment of the string, i.e. a substring with a new string. We input the part of the string we would like to\n",
    "change. The second argument is what we would like to exchange the segment with, and the result is a new string with the segment\n",
    "changed:"
   ]
  },
  {
   "cell_type": "code",
   "execution_count": 21,
   "id": "11fb8c17",
   "metadata": {},
   "outputs": [
    {
     "data": {
      "text/plain": [
       "'shisir shinde is the best'"
      ]
     },
     "execution_count": 21,
     "metadata": {},
     "output_type": "execute_result"
    }
   ],
   "source": [
    "a=\"sameer shinde is the best\"\n",
    "b=a.replace(\"sameer\", \"shisir\")\n",
    "b"
   ]
  },
  {
   "cell_type": "markdown",
   "id": "71d1a7be",
   "metadata": {},
   "source": [
    "The method find finds a sub-string. The argument is the substring you would like to find, and the output is the first index of the sequence."
   ]
  },
  {
   "cell_type": "code",
   "execution_count": 22,
   "id": "5b32ca88",
   "metadata": {},
   "outputs": [
    {
     "data": {
      "text/plain": [
       "8"
      ]
     },
     "execution_count": 22,
     "metadata": {},
     "output_type": "execute_result"
    }
   ],
   "source": [
    "name=\"michael jackson\"\n",
    "name.find(\"jack\") #finding index of \"jack\""
   ]
  },
  {
   "cell_type": "code",
   "execution_count": 23,
   "id": "fc5c36ef",
   "metadata": {},
   "outputs": [
    {
     "data": {
      "text/plain": [
       "5"
      ]
     },
     "execution_count": 23,
     "metadata": {},
     "output_type": "execute_result"
    }
   ],
   "source": [
    "name.find(\"el\")#finding \"el\""
   ]
  },
  {
   "cell_type": "markdown",
   "id": "8828a9bc",
   "metadata": {},
   "source": [
    "If the sub-string is not in the string then the output is a negative one (-1)."
   ]
  },
  {
   "cell_type": "code",
   "execution_count": 24,
   "id": "17a7783d",
   "metadata": {},
   "outputs": [
    {
     "data": {
      "text/plain": [
       "-1"
      ]
     },
     "execution_count": 24,
     "metadata": {},
     "output_type": "execute_result"
    }
   ],
   "source": [
    "name.find(\"Prasad\")"
   ]
  },
  {
   "cell_type": "markdown",
   "id": "45f48093",
   "metadata": {},
   "source": [
    "The End"
   ]
  }
 ],
 "metadata": {
  "kernelspec": {
   "display_name": "Python 3",
   "language": "python",
   "name": "python3"
  },
  "language_info": {
   "codemirror_mode": {
    "name": "ipython",
    "version": 3
   },
   "file_extension": ".py",
   "mimetype": "text/x-python",
   "name": "python",
   "nbconvert_exporter": "python",
   "pygments_lexer": "ipython3",
   "version": "3.8.8"
  }
 },
 "nbformat": 4,
 "nbformat_minor": 5
}
