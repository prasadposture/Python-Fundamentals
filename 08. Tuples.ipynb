{
 "cells": [
  {
   "cell_type": "markdown",
   "id": "f0f5aaa7",
   "metadata": {},
   "source": [
    "# Tuples \n",
    "In someways a tuple is similar to a list in terms of indexing, nested objects and repetition but a tuple is immutable unlike lists which are mutable. In Python, there are different data types: string, integer, and float. These data types can all be contained in a tuple as follows:"
   ]
  },
  {
   "cell_type": "code",
   "execution_count": 1,
   "id": "380d15b4",
   "metadata": {},
   "outputs": [
    {
     "data": {
      "text/plain": [
       "('disco', 10, 1.2)"
      ]
     },
     "execution_count": 1,
     "metadata": {},
     "output_type": "execute_result"
    }
   ],
   "source": [
    "#Create your first tuple\n",
    "tuple1=(\"disco\", 10, 1.2)\n",
    "tuple1"
   ]
  },
  {
   "cell_type": "code",
   "execution_count": 2,
   "id": "0c23210b",
   "metadata": {},
   "outputs": [
    {
     "data": {
      "text/plain": [
       "tuple"
      ]
     },
     "execution_count": 2,
     "metadata": {},
     "output_type": "execute_result"
    }
   ],
   "source": [
    "#checking the type\n",
    "type(tuple1)"
   ]
  },
  {
   "cell_type": "markdown",
   "id": "9ea2ee9d",
   "metadata": {},
   "source": [
    "### Indexing\n",
    "Each element of a tuple can be accessed via an index. Each element can be obtained by the name of the\n",
    "tuple followed by a square bracket with the index number:"
   ]
  },
  {
   "cell_type": "code",
   "execution_count": 3,
   "id": "7fd9d675",
   "metadata": {},
   "outputs": [
    {
     "name": "stdout",
     "output_type": "stream",
     "text": [
      "disco\n",
      "10\n",
      "1.2\n"
     ]
    }
   ],
   "source": [
    "#Printing variable on each index\n",
    "print(tuple1[0])\n",
    "print(tuple1[1])\n",
    "print(tuple1[2])"
   ]
  },
  {
   "cell_type": "markdown",
   "id": "80622518",
   "metadata": {},
   "source": [
    "We can print out the **type** of each value in the tuple:"
   ]
  },
  {
   "cell_type": "code",
   "execution_count": 4,
   "id": "505e9440",
   "metadata": {},
   "outputs": [
    {
     "name": "stdout",
     "output_type": "stream",
     "text": [
      "<class 'str'>\n",
      "<class 'int'>\n",
      "<class 'float'>\n"
     ]
    }
   ],
   "source": [
    "print(type(tuple1[0]))\n",
    "print(type(tuple1[1]))\n",
    "print(type(tuple1[2]))"
   ]
  },
  {
   "cell_type": "markdown",
   "id": "64bceca8",
   "metadata": {},
   "source": [
    "We can also use negative indexing for tuple."
   ]
  },
  {
   "cell_type": "code",
   "execution_count": 5,
   "id": "64b3aa17",
   "metadata": {},
   "outputs": [
    {
     "data": {
      "text/plain": [
       "1.2"
      ]
     },
     "execution_count": 5,
     "metadata": {},
     "output_type": "execute_result"
    }
   ],
   "source": [
    "#using negative index for the last element\n",
    "tuple1[-1]"
   ]
  },
  {
   "cell_type": "code",
   "execution_count": 6,
   "id": "d2c26c73",
   "metadata": {},
   "outputs": [
    {
     "data": {
      "text/plain": [
       "10"
      ]
     },
     "execution_count": 6,
     "metadata": {},
     "output_type": "execute_result"
    }
   ],
   "source": [
    "tuple1[-2]"
   ]
  },
  {
   "cell_type": "code",
   "execution_count": 7,
   "id": "659e83a0",
   "metadata": {},
   "outputs": [
    {
     "data": {
      "text/plain": [
       "'disco'"
      ]
     },
     "execution_count": 7,
     "metadata": {},
     "output_type": "execute_result"
    }
   ],
   "source": [
    "tuple1[-3]"
   ]
  },
  {
   "cell_type": "markdown",
   "id": "dd296f2b",
   "metadata": {},
   "source": [
    "### Concatenate Tuples\n",
    "We can concatenate or combine tuples by using the + sign:"
   ]
  },
  {
   "cell_type": "code",
   "execution_count": 8,
   "id": "162b0c2b",
   "metadata": {},
   "outputs": [
    {
     "data": {
      "text/plain": [
       "('disco', 10, 1.2, 'hard rock', 10)"
      ]
     },
     "execution_count": 8,
     "metadata": {},
     "output_type": "execute_result"
    }
   ],
   "source": [
    "#Concatenate two tuples\n",
    "tuple2=tuple1+(\"hard rock\", 10)\n",
    "tuple2"
   ]
  },
  {
   "cell_type": "markdown",
   "id": "6047cc1e",
   "metadata": {},
   "source": [
    "### Slicing\n",
    "We can slice tuples, obtaining new tuples with the corresponding elements:"
   ]
  },
  {
   "cell_type": "code",
   "execution_count": 9,
   "id": "4084657d",
   "metadata": {},
   "outputs": [
    {
     "data": {
      "text/plain": [
       "('disco', 10, 1.2)"
      ]
     },
     "execution_count": 9,
     "metadata": {},
     "output_type": "execute_result"
    }
   ],
   "source": [
    "#Slice from index 0 to index 2\n",
    "tuple2[0:3]"
   ]
  },
  {
   "cell_type": "code",
   "execution_count": 10,
   "id": "6f95ba53",
   "metadata": {},
   "outputs": [
    {
     "data": {
      "text/plain": [
       "('hard rock', 10)"
      ]
     },
     "execution_count": 10,
     "metadata": {},
     "output_type": "execute_result"
    }
   ],
   "source": [
    " #Slice from index 3 to index 4\n",
    "tuple2[3:5]"
   ]
  },
  {
   "cell_type": "markdown",
   "id": "a382ec60",
   "metadata": {},
   "source": [
    "We can obtain the length of a tuple using the **len()** command:"
   ]
  },
  {
   "cell_type": "code",
   "execution_count": 11,
   "id": "dbdd869d",
   "metadata": {},
   "outputs": [
    {
     "data": {
      "text/plain": [
       "5"
      ]
     },
     "execution_count": 11,
     "metadata": {},
     "output_type": "execute_result"
    }
   ],
   "source": [
    "len(tuple2)"
   ]
  },
  {
   "cell_type": "markdown",
   "id": "685043b1",
   "metadata": {},
   "source": [
    "### Sorting"
   ]
  },
  {
   "cell_type": "code",
   "execution_count": 12,
   "id": "f9281fe9",
   "metadata": {},
   "outputs": [],
   "source": [
    "#Sample Tuple\n",
    "ratings=(0,9,6,5,10,8,9,6,2)"
   ]
  },
  {
   "cell_type": "markdown",
   "id": "4125a32b",
   "metadata": {},
   "source": [
    "We can sort the values in a tuple using **sorted()** and save it to a new tuple:"
   ]
  },
  {
   "cell_type": "code",
   "execution_count": 13,
   "id": "d699bddb",
   "metadata": {},
   "outputs": [
    {
     "data": {
      "text/plain": [
       "[0, 2, 5, 6, 6, 8, 9, 9, 10]"
      ]
     },
     "execution_count": 13,
     "metadata": {},
     "output_type": "execute_result"
    }
   ],
   "source": [
    "ratingssorted=sorted(ratings)\n",
    "ratingssorted"
   ]
  },
  {
   "cell_type": "markdown",
   "id": "4bd21e6f",
   "metadata": {},
   "source": [
    "### Nested Tuple\n",
    "A tuple can contain another tuple as well as other more complex data types. This process is called 'nesting'. Consider the following tuple with several elements:"
   ]
  },
  {
   "cell_type": "code",
   "execution_count": 14,
   "id": "5158418e",
   "metadata": {},
   "outputs": [
    {
     "data": {
      "text/plain": [
       "(1, 2, ('pop', 'rock'), (3, 4), ('disco', (1, 2)))"
      ]
     },
     "execution_count": 14,
     "metadata": {},
     "output_type": "execute_result"
    }
   ],
   "source": [
    "#Creating a new tuple\n",
    "nestedT=(1,2,(\"pop\",\"rock\"),(3,4),(\"disco\",(1,2)))\n",
    "nestedT"
   ]
  },
  {
   "cell_type": "code",
   "execution_count": 15,
   "id": "476ce968",
   "metadata": {},
   "outputs": [
    {
     "name": "stdout",
     "output_type": "stream",
     "text": [
      "Element 0 of Tuple: 1\n",
      "Element 1 of Tuple: 2\n",
      "Element 2 of Tuple: ('pop', 'rock')\n",
      "Element 3 of Tuple: (3, 4)\n",
      "Element 4 of Tuple: ('disco', (1, 2))\n"
     ]
    }
   ],
   "source": [
    "#Printing element on each index\n",
    "print(\"Element 0 of Tuple:\", nestedT[0])\n",
    "print(\"Element 1 of Tuple:\", nestedT[1])\n",
    "print(\"Element 2 of Tuple:\", nestedT[2])\n",
    "print(\"Element 3 of Tuple:\", nestedT[3])\n",
    "print(\"Element 4 of Tuple:\", nestedT[4])\n"
   ]
  },
  {
   "cell_type": "code",
   "execution_count": 16,
   "id": "55ad7c92",
   "metadata": {},
   "outputs": [
    {
     "name": "stdout",
     "output_type": "stream",
     "text": [
      "element 2,0 of tuple: pop\n",
      "element 2,1 of tuple: rock\n",
      "element 3,0 of tuple: 3\n",
      "element 3,1 of tuple: 4\n",
      "element 4,0 of tuple: disco\n",
      "element 4,1 of tuple: (1, 2)\n"
     ]
    }
   ],
   "source": [
    "#Printing element on each index, including nested indexes\n",
    "print(\"element 2,0 of tuple:\", nestedT[2][0])\n",
    "print(\"element 2,1 of tuple:\", nestedT[2][1])\n",
    "print(\"element 3,0 of tuple:\", nestedT[3][0])\n",
    "print(\"element 3,1 of tuple:\", nestedT[3][1])\n",
    "print(\"element 4,0 of tuple:\", nestedT[4][0])\n",
    "print(\"element 4,1 of tuple:\", nestedT[4][1])"
   ]
  },
  {
   "cell_type": "code",
   "execution_count": 17,
   "id": "b3c2af8a",
   "metadata": {},
   "outputs": [
    {
     "data": {
      "text/plain": [
       "'r'"
      ]
     },
     "execution_count": 17,
     "metadata": {},
     "output_type": "execute_result"
    }
   ],
   "source": [
    " #Print the first element in the second nested tuples\n",
    "nestedT[2][1][0]"
   ]
  },
  {
   "cell_type": "code",
   "execution_count": 18,
   "id": "c74b9203",
   "metadata": {},
   "outputs": [
    {
     "data": {
      "text/plain": [
       "'o'"
      ]
     },
     "execution_count": 18,
     "metadata": {},
     "output_type": "execute_result"
    }
   ],
   "source": [
    "#Print the second element in the second nested tuples\n",
    "nestedT[2][1][1]"
   ]
  },
  {
   "cell_type": "code",
   "execution_count": 19,
   "id": "af8c52ed",
   "metadata": {},
   "outputs": [
    {
     "data": {
      "text/plain": [
       "'i'"
      ]
     },
     "execution_count": 19,
     "metadata": {},
     "output_type": "execute_result"
    }
   ],
   "source": [
    "#Print the first element in the second nested tuples\n",
    "nestedT[4][0][1]"
   ]
  },
  {
   "cell_type": "code",
   "execution_count": 20,
   "id": "9aac6ee5",
   "metadata": {},
   "outputs": [
    {
     "data": {
      "text/plain": [
       "2"
      ]
     },
     "execution_count": 20,
     "metadata": {},
     "output_type": "execute_result"
    }
   ],
   "source": [
    "#Print the second element in the second nested tuples\n",
    "nestedT[4][1][1]"
   ]
  },
  {
   "cell_type": "markdown",
   "id": "53f7d2bf",
   "metadata": {},
   "source": [
    "The End"
   ]
  }
 ],
 "metadata": {
  "kernelspec": {
   "display_name": "Python 3",
   "language": "python",
   "name": "python3"
  },
  "language_info": {
   "codemirror_mode": {
    "name": "ipython",
    "version": 3
   },
   "file_extension": ".py",
   "mimetype": "text/x-python",
   "name": "python",
   "nbconvert_exporter": "python",
   "pygments_lexer": "ipython3",
   "version": "3.8.8"
  }
 },
 "nbformat": 4,
 "nbformat_minor": 5
}
