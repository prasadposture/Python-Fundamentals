{
 "cells": [
  {
   "cell_type": "markdown",
   "id": "a7dca1ed",
   "metadata": {},
   "source": [
    "# Module"
   ]
  },
  {
   "cell_type": "markdown",
   "id": "31333248",
   "metadata": {},
   "source": [
    "In Python, Modules are simply files with the `. py` extension containing Python code that can be imported inside another Python Program. In simple terms, we can consider a module to be the same as a code library or a file that contains a set of functions that you want to include in your application. A Python module is a file containing Python definitions and statements. A module can define functions, classes, and variables. A module can also include runnable code. Grouping related code into a module makes the code easier to understand and use. It also makes the code logically organized."
   ]
  },
  {
   "cell_type": "markdown",
   "id": "a9d66209",
   "metadata": {},
   "source": [
    "### In-Built Modules"
   ]
  },
  {
   "cell_type": "markdown",
   "id": "7d4c50c1",
   "metadata": {},
   "source": [
    "**Importing inbuilt module :** We use keyword `import` for importing module in the workspace."
   ]
  },
  {
   "cell_type": "code",
   "execution_count": 1,
   "id": "34a73b78",
   "metadata": {},
   "outputs": [],
   "source": [
    "#importing inbuilt math module\n",
    "import math"
   ]
  },
  {
   "cell_type": "markdown",
   "id": "4f33993f",
   "metadata": {},
   "source": [
    "We use `dir()` for getting all the function in a specific module"
   ]
  },
  {
   "cell_type": "code",
   "execution_count": 2,
   "id": "c1292579",
   "metadata": {},
   "outputs": [
    {
     "name": "stdout",
     "output_type": "stream",
     "text": [
      "['__doc__', '__loader__', '__name__', '__package__', '__spec__', 'acos', 'acosh', 'asin', 'asinh', 'atan', 'atan2', 'atanh', 'ceil', 'comb', 'copysign', 'cos', 'cosh', 'degrees', 'dist', 'e', 'erf', 'erfc', 'exp', 'expm1', 'fabs', 'factorial', 'floor', 'fmod', 'frexp', 'fsum', 'gamma', 'gcd', 'hypot', 'inf', 'isclose', 'isfinite', 'isinf', 'isnan', 'isqrt', 'ldexp', 'lgamma', 'log', 'log10', 'log1p', 'log2', 'modf', 'nan', 'perm', 'pi', 'pow', 'prod', 'radians', 'remainder', 'sin', 'sinh', 'sqrt', 'tan', 'tanh', 'tau', 'trunc']\n"
     ]
    }
   ],
   "source": [
    "print(dir(math))"
   ]
  },
  {
   "cell_type": "code",
   "execution_count": 3,
   "id": "9fd7b841",
   "metadata": {},
   "outputs": [
    {
     "data": {
      "text/plain": [
       "5.0"
      ]
     },
     "execution_count": 3,
     "metadata": {},
     "output_type": "execute_result"
    }
   ],
   "source": [
    "#Squareroot using math module\n",
    "math.sqrt(25)"
   ]
  },
  {
   "cell_type": "code",
   "execution_count": 4,
   "id": "35aa8bea",
   "metadata": {},
   "outputs": [
    {
     "data": {
      "text/plain": [
       "3.141592653589793"
      ]
     },
     "execution_count": 4,
     "metadata": {},
     "output_type": "execute_result"
    }
   ],
   "source": [
    "#Value of Pi using math module\n",
    "math.pi"
   ]
  },
  {
   "cell_type": "markdown",
   "id": "08e5d5fd",
   "metadata": {},
   "source": [
    "We can also rename the module while import it into our workspace"
   ]
  },
  {
   "cell_type": "code",
   "execution_count": 5,
   "id": "340bd41f",
   "metadata": {},
   "outputs": [
    {
     "data": {
      "text/plain": [
       "7.0"
      ]
     },
     "execution_count": 5,
     "metadata": {},
     "output_type": "execute_result"
    }
   ],
   "source": [
    "import math as m #renaming\n",
    "m.sqrt(49) #squareroot using math"
   ]
  },
  {
   "cell_type": "code",
   "execution_count": 6,
   "id": "bd5de118",
   "metadata": {},
   "outputs": [
    {
     "data": {
      "text/plain": [
       "3.141592653589793"
      ]
     },
     "execution_count": 6,
     "metadata": {},
     "output_type": "execute_result"
    }
   ],
   "source": [
    "m.pi"
   ]
  },
  {
   "cell_type": "markdown",
   "id": "0ede59c3",
   "metadata": {},
   "source": [
    "We can also import specific function from the module"
   ]
  },
  {
   "cell_type": "code",
   "execution_count": 7,
   "id": "5b4e1de5",
   "metadata": {},
   "outputs": [
    {
     "data": {
      "text/plain": [
       "9.486832980505138"
      ]
     },
     "execution_count": 7,
     "metadata": {},
     "output_type": "execute_result"
    }
   ],
   "source": [
    "from math import sqrt\n",
    "sqrt(90)"
   ]
  },
  {
   "cell_type": "code",
   "execution_count": 8,
   "id": "8eeaf5a1",
   "metadata": {},
   "outputs": [
    {
     "data": {
      "text/plain": [
       "3.141592653589793"
      ]
     },
     "execution_count": 8,
     "metadata": {},
     "output_type": "execute_result"
    }
   ],
   "source": [
    "from math import pi\n",
    "pi"
   ]
  },
  {
   "cell_type": "markdown",
   "id": "ffb3ddb8",
   "metadata": {},
   "source": [
    "We can import multiple functions from the module at the same time."
   ]
  },
  {
   "cell_type": "code",
   "execution_count": 9,
   "id": "73924390",
   "metadata": {},
   "outputs": [],
   "source": [
    "from math import pi, sin, sqrt"
   ]
  },
  {
   "cell_type": "code",
   "execution_count": 10,
   "id": "d9a7fd6f",
   "metadata": {},
   "outputs": [
    {
     "data": {
      "text/plain": [
       "1.0"
      ]
     },
     "execution_count": 10,
     "metadata": {},
     "output_type": "execute_result"
    }
   ],
   "source": [
    "sin(pi/2)"
   ]
  },
  {
   "cell_type": "markdown",
   "id": "6ebc4e33",
   "metadata": {},
   "source": [
    "We can import all the functions from the module at the same time, but it is not a good programming practice."
   ]
  },
  {
   "cell_type": "code",
   "execution_count": 11,
   "id": "7cad0d1a",
   "metadata": {},
   "outputs": [],
   "source": [
    "from math import *"
   ]
  },
  {
   "cell_type": "code",
   "execution_count": 12,
   "id": "4985ffa2",
   "metadata": {},
   "outputs": [
    {
     "data": {
      "text/plain": [
       "0.9999999999999999"
      ]
     },
     "execution_count": 12,
     "metadata": {},
     "output_type": "execute_result"
    }
   ],
   "source": [
    "tan(pi/4)"
   ]
  },
  {
   "cell_type": "markdown",
   "id": "4b55da6b",
   "metadata": {},
   "source": [
    "### Custom Modules"
   ]
  },
  {
   "cell_type": "markdown",
   "id": "3724f5f2",
   "metadata": {},
   "source": [
    "**Note :** For demonstration I have created my own module my_calculator added basic functions to it and saved it with `.py` extension."
   ]
  },
  {
   "cell_type": "markdown",
   "id": "2125045a",
   "metadata": {},
   "source": [
    "Importing custom module"
   ]
  },
  {
   "cell_type": "code",
   "execution_count": 13,
   "id": "012e2bfd",
   "metadata": {},
   "outputs": [],
   "source": [
    "import my_calculator as mc"
   ]
  },
  {
   "cell_type": "markdown",
   "id": "85f43562",
   "metadata": {},
   "source": [
    "Getting the list of the functions in the module"
   ]
  },
  {
   "cell_type": "code",
   "execution_count": 14,
   "id": "ac89506e",
   "metadata": {},
   "outputs": [
    {
     "name": "stdout",
     "output_type": "stream",
     "text": [
      "['__builtins__', '__cached__', '__doc__', '__file__', '__loader__', '__name__', '__package__', '__spec__', 'add', 'divide', 'multiply', 'subtract']\n"
     ]
    }
   ],
   "source": [
    "print(dir(mc))"
   ]
  },
  {
   "cell_type": "code",
   "execution_count": 15,
   "id": "67e354e5",
   "metadata": {},
   "outputs": [
    {
     "data": {
      "text/plain": [
       "-73"
      ]
     },
     "execution_count": 15,
     "metadata": {},
     "output_type": "execute_result"
    }
   ],
   "source": [
    "mc.subtract(3,76) #subtracts 76 from 3"
   ]
  },
  {
   "cell_type": "code",
   "execution_count": 16,
   "id": "807f43bc",
   "metadata": {},
   "outputs": [
    {
     "data": {
      "text/plain": [
       "2.0"
      ]
     },
     "execution_count": 16,
     "metadata": {},
     "output_type": "execute_result"
    }
   ],
   "source": [
    "mc.divide(6,3) #divides 6 by 3"
   ]
  },
  {
   "cell_type": "markdown",
   "id": "c095defa",
   "metadata": {},
   "source": [
    "The End"
   ]
  }
 ],
 "metadata": {
  "kernelspec": {
   "display_name": "Python 3",
   "language": "python",
   "name": "python3"
  },
  "language_info": {
   "codemirror_mode": {
    "name": "ipython",
    "version": 3
   },
   "file_extension": ".py",
   "mimetype": "text/x-python",
   "name": "python",
   "nbconvert_exporter": "python",
   "pygments_lexer": "ipython3",
   "version": "3.8.8"
  }
 },
 "nbformat": 4,
 "nbformat_minor": 5
}
