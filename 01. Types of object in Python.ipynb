{
 "cells": [
  {
   "cell_type": "markdown",
   "id": "02ffba8a",
   "metadata": {},
   "source": [
    "# Types of objects in Python"
   ]
  },
  {
   "cell_type": "markdown",
   "id": "3e7cdc54",
   "metadata": {},
   "source": [
    "Python is an object-oriented language. There are many different types of objects in Python. Let's start with the most common object types:\n",
    "strings, integers and floats  \n",
    "1. Anytime you write words (text) in Python, you're using character strings (strings for short).\n",
    "2. The most common numbers, are integers (e.g. -1, 0, 100)\n",
    "3. floats, which represent real numbers (e.g. 3.14, -42.0)."
   ]
  },
  {
   "cell_type": "markdown",
   "id": "82fe90ee",
   "metadata": {},
   "source": [
    "The following code cells contain some examples: "
   ]
  },
  {
   "cell_type": "code",
   "execution_count": 1,
   "id": "a3691b7b",
   "metadata": {},
   "outputs": [
    {
     "data": {
      "text/plain": [
       "42"
      ]
     },
     "execution_count": 1,
     "metadata": {},
     "output_type": "execute_result"
    }
   ],
   "source": [
    "#integer\n",
    "42"
   ]
  },
  {
   "cell_type": "code",
   "execution_count": 3,
   "id": "9c4908ec",
   "metadata": {},
   "outputs": [
    {
     "data": {
      "text/plain": [
       "42.42"
      ]
     },
     "execution_count": 3,
     "metadata": {},
     "output_type": "execute_result"
    }
   ],
   "source": [
    "#float\n",
    "42.42"
   ]
  },
  {
   "cell_type": "code",
   "execution_count": 4,
   "id": "f66f9b3f",
   "metadata": {},
   "outputs": [
    {
     "data": {
      "text/plain": [
       "'i am excitd to learn python'"
      ]
     },
     "execution_count": 4,
     "metadata": {},
     "output_type": "execute_result"
    }
   ],
   "source": [
    "#string\n",
    "\"i am excitd to learn python\""
   ]
  },
  {
   "cell_type": "markdown",
   "id": "b4b25104",
   "metadata": {},
   "source": [
    "You can get Python to tell you the type of an expression by using the built-in **type()** function. You'll notice that Python refers to integers\n",
    "as int , floats as float , and character strings as str ."
   ]
  },
  {
   "cell_type": "code",
   "execution_count": 5,
   "id": "25b369e0",
   "metadata": {},
   "outputs": [
    {
     "data": {
      "text/plain": [
       "int"
      ]
     },
     "execution_count": 5,
     "metadata": {},
     "output_type": "execute_result"
    }
   ],
   "source": [
    "#type of 16\n",
    "type(16)"
   ]
  },
  {
   "cell_type": "code",
   "execution_count": 6,
   "id": "23c15894",
   "metadata": {},
   "outputs": [
    {
     "data": {
      "text/plain": [
       "int"
      ]
     },
     "execution_count": 6,
     "metadata": {},
     "output_type": "execute_result"
    }
   ],
   "source": [
    "type(-1)"
   ]
  },
  {
   "cell_type": "code",
   "execution_count": 6,
   "id": "f4874271",
   "metadata": {},
   "outputs": [
    {
     "data": {
      "text/plain": [
       "float"
      ]
     },
     "execution_count": 6,
     "metadata": {},
     "output_type": "execute_result"
    }
   ],
   "source": [
    "type(16.6)"
   ]
  },
  {
   "cell_type": "code",
   "execution_count": 5,
   "id": "8bddaf94",
   "metadata": {},
   "outputs": [
    {
     "data": {
      "text/plain": [
       "float"
      ]
     },
     "execution_count": 5,
     "metadata": {},
     "output_type": "execute_result"
    }
   ],
   "source": [
    "type(-1.34)"
   ]
  },
  {
   "cell_type": "code",
   "execution_count": 7,
   "id": "5c721a3b",
   "metadata": {},
   "outputs": [
    {
     "data": {
      "text/plain": [
       "str"
      ]
     },
     "execution_count": 7,
     "metadata": {},
     "output_type": "execute_result"
    }
   ],
   "source": [
    "type(\"i am excited to learn python\")"
   ]
  },
  {
   "cell_type": "markdown",
   "id": "4b82a945",
   "metadata": {},
   "source": [
    "## Integers\n",
    "Integers can be negative or positive numbers:  \n",
    "eg. -4,-14,0,2,8"
   ]
  },
  {
   "cell_type": "markdown",
   "id": "70628307",
   "metadata": {},
   "source": [
    "## Floats\n",
    "Floats represent real numbers; they are a superset of integer numbers but also include \"numbers with decimals\". There are some limitations\n",
    "when it comes to machines representing real numbers, but floating point numbers are a good representation in most cases. You can learn\n",
    "more about the specifics of floats for your runtime environment, by checking the value of sys.float_info . This will also tell you what's\n",
    "the largest and smallest number that can be represented with them.\n",
    "Once again, can test some examples with the type() function:"
   ]
  },
  {
   "cell_type": "code",
   "execution_count": 8,
   "id": "bd34a50e",
   "metadata": {},
   "outputs": [
    {
     "data": {
      "text/plain": [
       "float"
      ]
     },
     "execution_count": 8,
     "metadata": {},
     "output_type": "execute_result"
    }
   ],
   "source": [
    "#Print type of 1.0\n",
    "type(1.0)"
   ]
  },
  {
   "cell_type": "code",
   "execution_count": 10,
   "id": "17ffac3c",
   "metadata": {},
   "outputs": [
    {
     "data": {
      "text/plain": [
       "sys.float_info(max=1.7976931348623157e+308, max_exp=1024, max_10_exp=308, min=2.2250738585072014e-308, min_exp=-1021, min_10_exp=-307, dig=15, mant_dig=53, epsilon=2.220446049250313e-16, radix=2, rounds=1)"
      ]
     },
     "execution_count": 10,
     "metadata": {},
     "output_type": "execute_result"
    }
   ],
   "source": [
    "#system setting about the float\n",
    "import sys #package in python\n",
    "sys.float_info "
   ]
  },
  {
   "cell_type": "markdown",
   "id": "11f210f9",
   "metadata": {},
   "source": [
    "### Converting from one object type to a different object type\n",
    "You can change the type of the object in Python; this is called typecasting. For example, you can convert an integer into a float (e.g. 2 to\n",
    "2.0).\n",
    "Let's try it:"
   ]
  },
  {
   "cell_type": "code",
   "execution_count": null,
   "id": "e39c1667",
   "metadata": {},
   "outputs": [],
   "source": [
    "type(42)"
   ]
  },
  {
   "cell_type": "markdown",
   "id": "0397047e",
   "metadata": {},
   "source": [
    "### Converting integers to floats\n",
    "Let's cast integer 42 to float:\n"
   ]
  },
  {
   "cell_type": "code",
   "execution_count": 12,
   "id": "bac13071",
   "metadata": {},
   "outputs": [
    {
     "data": {
      "text/plain": [
       "42.0"
      ]
     },
     "execution_count": 12,
     "metadata": {},
     "output_type": "execute_result"
    }
   ],
   "source": [
    "#convert into float\n",
    "float(42)"
   ]
  },
  {
   "cell_type": "code",
   "execution_count": 13,
   "id": "5ebcee3a",
   "metadata": {},
   "outputs": [
    {
     "data": {
      "text/plain": [
       "float"
      ]
     },
     "execution_count": 13,
     "metadata": {},
     "output_type": "execute_result"
    }
   ],
   "source": [
    "type(float(42))"
   ]
  },
  {
   "cell_type": "markdown",
   "id": "4aa72eff",
   "metadata": {},
   "source": [
    "When we convert an integer into a float, we don't really change the value (i.e., the significand) of the number. However, if we cast a float into\n",
    "an integer, we could potentially lose some information. For example, if we cast the float 1.1 to integer we will get 1 and lose the decimal\n",
    "information (i.e., 0.1):"
   ]
  },
  {
   "cell_type": "code",
   "execution_count": 7,
   "id": "54e395fe",
   "metadata": {},
   "outputs": [
    {
     "data": {
      "text/plain": [
       "1"
      ]
     },
     "execution_count": 7,
     "metadata": {},
     "output_type": "execute_result"
    }
   ],
   "source": [
    "#Casting 1.1 to integer will result in loss of information\n",
    "int(1.1)"
   ]
  },
  {
   "cell_type": "markdown",
   "id": "1a2851db",
   "metadata": {},
   "source": [
    "### Converting from strings to integers or floats\n",
    "Sometimes, we can have a string that contains a number within it. If this is the case, we can cast that string that represents a number into\n",
    "an integer using int() :\n"
   ]
  },
  {
   "cell_type": "code",
   "execution_count": 2,
   "id": "92aadfa7",
   "metadata": {},
   "outputs": [
    {
     "data": {
      "text/plain": [
       "1"
      ]
     },
     "execution_count": 2,
     "metadata": {},
     "output_type": "execute_result"
    }
   ],
   "source": [
    "int(\"1\")"
   ]
  },
  {
   "cell_type": "code",
   "execution_count": 18,
   "id": "63d668b6",
   "metadata": {},
   "outputs": [
    {
     "data": {
      "text/plain": [
       "1.2"
      ]
     },
     "execution_count": 18,
     "metadata": {},
     "output_type": "execute_result"
    }
   ],
   "source": [
    "float(\"1.2\")"
   ]
  },
  {
   "cell_type": "markdown",
   "id": "62f11186",
   "metadata": {},
   "source": [
    "**[Tip:]** Note that strings can be represented with single quotes ('1.2') or double quotes (\"1.2\"), but you can't mix both (e.g., \"1.2')"
   ]
  },
  {
   "cell_type": "markdown",
   "id": "ee7a6051",
   "metadata": {},
   "source": [
    "But if you try to do so with a string that is not a perfect match for a number, you'll get an error. Try the following:"
   ]
  },
  {
   "cell_type": "code",
   "execution_count": 8,
   "id": "001923b9",
   "metadata": {},
   "outputs": [
    {
     "ename": "ValueError",
     "evalue": "invalid literal for int() with base 10: '1 or 2 people'",
     "output_type": "error",
     "traceback": [
      "\u001b[1;31m---------------------------------------------------------------------------\u001b[0m",
      "\u001b[1;31mValueError\u001b[0m                                Traceback (most recent call last)",
      "\u001b[1;32m<ipython-input-8-e75ad734edc8>\u001b[0m in \u001b[0;36m<module>\u001b[1;34m\u001b[0m\n\u001b[0;32m      1\u001b[0m \u001b[1;31m#Convert a string into aninteger with error\u001b[0m\u001b[1;33m\u001b[0m\u001b[1;33m\u001b[0m\u001b[1;33m\u001b[0m\u001b[0m\n\u001b[1;32m----> 2\u001b[1;33m \u001b[0mint\u001b[0m\u001b[1;33m(\u001b[0m\u001b[1;34m'1 or 2 people'\u001b[0m\u001b[1;33m)\u001b[0m\u001b[1;33m\u001b[0m\u001b[1;33m\u001b[0m\u001b[0m\n\u001b[0m",
      "\u001b[1;31mValueError\u001b[0m: invalid literal for int() with base 10: '1 or 2 people'"
     ]
    }
   ],
   "source": [
    "#Convert a string into aninteger with error\n",
    "int('1 or 2 people')"
   ]
  },
  {
   "cell_type": "markdown",
   "id": "cc6f13e0",
   "metadata": {},
   "source": [
    "### Converting numbers to strings\n",
    "If we can convert strings to numbers, it is only natural to assume that we can convert numbers to strings, right?\n"
   ]
  },
  {
   "cell_type": "code",
   "execution_count": 19,
   "id": "1864dc5b",
   "metadata": {},
   "outputs": [
    {
     "data": {
      "text/plain": [
       "'1'"
      ]
     },
     "execution_count": 19,
     "metadata": {},
     "output_type": "execute_result"
    }
   ],
   "source": [
    "str(1)"
   ]
  },
  {
   "cell_type": "markdown",
   "id": "34c3b089",
   "metadata": {},
   "source": [
    "And there is no reason why we shouldn't be able to make floats into strings as well:\n"
   ]
  },
  {
   "cell_type": "code",
   "execution_count": 20,
   "id": "2ff0669e",
   "metadata": {},
   "outputs": [
    {
     "data": {
      "text/plain": [
       "'1.2'"
      ]
     },
     "execution_count": 20,
     "metadata": {},
     "output_type": "execute_result"
    }
   ],
   "source": [
    "str(1.2)"
   ]
  },
  {
   "cell_type": "markdown",
   "id": "40134289",
   "metadata": {},
   "source": [
    "## Boolean data type\n",
    "Boolean is another important type in Python. An object of type Boolean can take on one of two values: True or False\n"
   ]
  },
  {
   "cell_type": "code",
   "execution_count": 21,
   "id": "b0d25afb",
   "metadata": {},
   "outputs": [
    {
     "data": {
      "text/plain": [
       "True"
      ]
     },
     "execution_count": 21,
     "metadata": {},
     "output_type": "execute_result"
    }
   ],
   "source": [
    "#Value True\n",
    "True"
   ]
  },
  {
   "cell_type": "markdown",
   "id": "325e7f45",
   "metadata": {},
   "source": [
    "Notice that the value True has an uppercase \"T\" . The same is true for False (i.e. you must use the uppercase \"F\" )."
   ]
  },
  {
   "cell_type": "code",
   "execution_count": 22,
   "id": "ae0661f2",
   "metadata": {},
   "outputs": [
    {
     "data": {
      "text/plain": [
       "False"
      ]
     },
     "execution_count": 22,
     "metadata": {},
     "output_type": "execute_result"
    }
   ],
   "source": [
    "#Value False\n",
    "False"
   ]
  },
  {
   "cell_type": "markdown",
   "id": "1d8ccefe",
   "metadata": {},
   "source": [
    "When you ask Python to display the type of a boolean object it will show bool which stands for boolean:"
   ]
  },
  {
   "cell_type": "code",
   "execution_count": 26,
   "id": "4de6d45b",
   "metadata": {},
   "outputs": [
    {
     "data": {
      "text/plain": [
       "bool"
      ]
     },
     "execution_count": 26,
     "metadata": {},
     "output_type": "execute_result"
    }
   ],
   "source": [
    "type(True)"
   ]
  },
  {
   "cell_type": "code",
   "execution_count": 27,
   "id": "a6332f53",
   "metadata": {},
   "outputs": [
    {
     "data": {
      "text/plain": [
       "bool"
      ]
     },
     "execution_count": 27,
     "metadata": {},
     "output_type": "execute_result"
    }
   ],
   "source": [
    "type(False)"
   ]
  },
  {
   "cell_type": "markdown",
   "id": "965b139f",
   "metadata": {},
   "source": [
    "We can cast boolean objects to other data types. If we cast a boolean with a value of True to an integer or float we will get a one . If we\n",
    "cast a boolean with a value of False to an integer or float we will get a zero . Similarly, if we cast a 1 to a Boolean, you get a True . And\n",
    "if we cast a 0 to a Boolean we will get a False . Let's give it a try:"
   ]
  },
  {
   "cell_type": "code",
   "execution_count": 28,
   "id": "134c56cf",
   "metadata": {},
   "outputs": [
    {
     "data": {
      "text/plain": [
       "1"
      ]
     },
     "execution_count": 28,
     "metadata": {},
     "output_type": "execute_result"
    }
   ],
   "source": [
    "#Convert True to int\n",
    "int(True)"
   ]
  },
  {
   "cell_type": "code",
   "execution_count": 29,
   "id": "22fcac2f",
   "metadata": {},
   "outputs": [
    {
     "data": {
      "text/plain": [
       "0"
      ]
     },
     "execution_count": 29,
     "metadata": {},
     "output_type": "execute_result"
    }
   ],
   "source": [
    "#Convert False to int\n",
    "int(False)"
   ]
  },
  {
   "cell_type": "code",
   "execution_count": 30,
   "id": "581240e0",
   "metadata": {},
   "outputs": [
    {
     "data": {
      "text/plain": [
       "True"
      ]
     },
     "execution_count": 30,
     "metadata": {},
     "output_type": "execute_result"
    }
   ],
   "source": [
    "bool(1)"
   ]
  },
  {
   "cell_type": "code",
   "execution_count": 9,
   "id": "56789d4d",
   "metadata": {},
   "outputs": [
    {
     "data": {
      "text/plain": [
       "False"
      ]
     },
     "execution_count": 9,
     "metadata": {},
     "output_type": "execute_result"
    }
   ],
   "source": [
    " #Convert 0 to boolean\n",
    "bool(0)"
   ]
  },
  {
   "cell_type": "code",
   "execution_count": 10,
   "id": "c83599ff",
   "metadata": {},
   "outputs": [
    {
     "data": {
      "text/plain": [
       "1.0"
      ]
     },
     "execution_count": 10,
     "metadata": {},
     "output_type": "execute_result"
    }
   ],
   "source": [
    "#Convert Trueto float\n",
    "float(True)"
   ]
  },
  {
   "cell_type": "markdown",
   "id": "776f22cf",
   "metadata": {},
   "source": [
    "The End"
   ]
  }
 ],
 "metadata": {
  "kernelspec": {
   "display_name": "Python 3",
   "language": "python",
   "name": "python3"
  },
  "language_info": {
   "codemirror_mode": {
    "name": "ipython",
    "version": 3
   },
   "file_extension": ".py",
   "mimetype": "text/x-python",
   "name": "python",
   "nbconvert_exporter": "python",
   "pygments_lexer": "ipython3",
   "version": "3.8.8"
  }
 },
 "nbformat": 4,
 "nbformat_minor": 5
}
