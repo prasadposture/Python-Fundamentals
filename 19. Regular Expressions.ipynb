{
 "cells": [
  {
   "cell_type": "markdown",
   "id": "6d6404d1",
   "metadata": {},
   "source": [
    "# Regular Expression\n",
    "Regular Expressions, also known as “regex” or “regexp”, are used to match strings\n",
    "of text such as particular characters, words, or patterns of characters. It means that we can match and\n",
    "extract any string pattern from the text with the help of regular expressions. "
   ]
  },
  {
   "cell_type": "markdown",
   "id": "57b7332a",
   "metadata": {},
   "source": [
    "### Importing `re`"
   ]
  },
  {
   "cell_type": "code",
   "execution_count": 1,
   "id": "defba12a",
   "metadata": {},
   "outputs": [],
   "source": [
    "import re"
   ]
  },
  {
   "cell_type": "markdown",
   "id": "6689cffb",
   "metadata": {},
   "source": [
    "### Match Method\n",
    "This function searches for the RE pattern at the beginning of the string and returns the\n",
    "match object of the string. The\n",
    "syntax of the match function is : re.match(pattern, string, flags)"
   ]
  },
  {
   "cell_type": "code",
   "execution_count": 2,
   "id": "a4935a23",
   "metadata": {},
   "outputs": [],
   "source": [
    "#Example\n",
    "p=re.compile(\"test\")"
   ]
  },
  {
   "cell_type": "code",
   "execution_count": 3,
   "id": "bfd7dd5b",
   "metadata": {},
   "outputs": [
    {
     "name": "stdout",
     "output_type": "stream",
     "text": [
      "<re.Match object; span=(0, 4), match='test'>\n"
     ]
    }
   ],
   "source": [
    "print(p.match('test cricket')) #returns its span using the indices"
   ]
  },
  {
   "cell_type": "code",
   "execution_count": 4,
   "id": "6453e8b5",
   "metadata": {},
   "outputs": [
    {
     "name": "stdout",
     "output_type": "stream",
     "text": [
      "None\n"
     ]
    }
   ],
   "source": [
    "print(p.match('some test')) #returns none since the test isn't at the beginning"
   ]
  },
  {
   "cell_type": "code",
   "execution_count": 5,
   "id": "a3ded5e3",
   "metadata": {},
   "outputs": [],
   "source": [
    "#Example\n",
    "p=re.compile(\"[abcde]\")"
   ]
  },
  {
   "cell_type": "code",
   "execution_count": 6,
   "id": "4efa565c",
   "metadata": {},
   "outputs": [
    {
     "name": "stdout",
     "output_type": "stream",
     "text": [
      "<re.Match object; span=(0, 1), match='a'>\n"
     ]
    }
   ],
   "source": [
    "print(p.match(\"a\"))"
   ]
  },
  {
   "cell_type": "markdown",
   "id": "ea0efd49",
   "metadata": {},
   "source": [
    "### Search Method\n",
    "This function searches for the first occurrence of the RE pattern in the given string. This\n",
    "function also returns the match object if the pattern is found else returns none. The syntax is:\n",
    "re.search(pattern, string)\n"
   ]
  },
  {
   "cell_type": "code",
   "execution_count": 7,
   "id": "4a9c0df4",
   "metadata": {},
   "outputs": [],
   "source": [
    "#Example\n",
    "p=re.compile(\"test\")"
   ]
  },
  {
   "cell_type": "code",
   "execution_count": 8,
   "id": "d69230d2",
   "metadata": {},
   "outputs": [
    {
     "name": "stdout",
     "output_type": "stream",
     "text": [
      "<re.Match object; span=(5, 9), match='test'>\n"
     ]
    }
   ],
   "source": [
    "print(p.search(\"some test\"))"
   ]
  },
  {
   "cell_type": "code",
   "execution_count": 9,
   "id": "844951eb",
   "metadata": {},
   "outputs": [
    {
     "name": "stdout",
     "output_type": "stream",
     "text": [
      "<re.Match object; span=(5, 9), match='test'>\n"
     ]
    }
   ],
   "source": [
    "print(p.search(\"some test someday\"))"
   ]
  },
  {
   "cell_type": "code",
   "execution_count": 10,
   "id": "6d67f1d4",
   "metadata": {},
   "outputs": [
    {
     "name": "stdout",
     "output_type": "stream",
     "text": [
      "<re.Match object; span=(0, 4), match='test'>\n"
     ]
    }
   ],
   "source": [
    "print(p.search(\"test cricket\"))"
   ]
  },
  {
   "cell_type": "code",
   "execution_count": 11,
   "id": "df9ed3e5",
   "metadata": {},
   "outputs": [],
   "source": [
    "#Example\n",
    "p=re.compile('[a-z A-Z]') #alphabets from A-Z in lower and upper case"
   ]
  },
  {
   "cell_type": "code",
   "execution_count": 12,
   "id": "2ace8d53",
   "metadata": {},
   "outputs": [
    {
     "name": "stdout",
     "output_type": "stream",
     "text": [
      "<re.Match object; span=(3, 4), match='e'>\n"
     ]
    }
   ],
   "source": [
    "print(p.search(\"123ew\"))"
   ]
  },
  {
   "cell_type": "code",
   "execution_count": 13,
   "id": "53ac341b",
   "metadata": {},
   "outputs": [
    {
     "name": "stdout",
     "output_type": "stream",
     "text": [
      "<re.Match object; span=(3, 4), match='h'>\n"
     ]
    }
   ],
   "source": [
    "print(p.search(\"232h34a\"))"
   ]
  },
  {
   "cell_type": "markdown",
   "id": "919de3b6",
   "metadata": {},
   "source": [
    "### Findall Method\n",
    "This function will return all the occurrences of the RE pattern in the string. The syntax of\n",
    "findall is: re.findall(pattern, string)"
   ]
  },
  {
   "cell_type": "code",
   "execution_count": 14,
   "id": "1505a6e0",
   "metadata": {},
   "outputs": [],
   "source": [
    "#Example\n",
    "p=re.compile('[a-z A-Z]')"
   ]
  },
  {
   "cell_type": "code",
   "execution_count": 15,
   "id": "5e990d68",
   "metadata": {},
   "outputs": [
    {
     "name": "stdout",
     "output_type": "stream",
     "text": [
      "['J', 'G']\n"
     ]
    }
   ],
   "source": [
    "print(p.findall(\"123J73974G\")) #searches all similiar pattern not just one unlike search\n",
    "#returns the elements matched"
   ]
  },
  {
   "cell_type": "markdown",
   "id": "8ed0e014",
   "metadata": {},
   "source": [
    "Let's see few more examples for getting the concepts more clear."
   ]
  },
  {
   "cell_type": "code",
   "execution_count": 16,
   "id": "9206a462",
   "metadata": {},
   "outputs": [],
   "source": [
    "#Example\n",
    "p=re.compile('[^0-9]')#all except 0-9"
   ]
  },
  {
   "cell_type": "code",
   "execution_count": 17,
   "id": "0e2cee0a",
   "metadata": {},
   "outputs": [
    {
     "name": "stdout",
     "output_type": "stream",
     "text": [
      "None\n"
     ]
    }
   ],
   "source": [
    "#match\n",
    "print(p.match(\"123432d\"))"
   ]
  },
  {
   "cell_type": "code",
   "execution_count": 18,
   "id": "0271a91f",
   "metadata": {},
   "outputs": [
    {
     "name": "stdout",
     "output_type": "stream",
     "text": [
      "<re.Match object; span=(0, 1), match='A'>\n"
     ]
    }
   ],
   "source": [
    "#match\n",
    "print(p.match(\"AA2323fr\"))"
   ]
  },
  {
   "cell_type": "code",
   "execution_count": 19,
   "id": "c5acaa0a",
   "metadata": {},
   "outputs": [
    {
     "name": "stdout",
     "output_type": "stream",
     "text": [
      "<re.Match object; span=(3, 4), match='P'>\n"
     ]
    }
   ],
   "source": [
    "#search\n",
    "print(p.search(\"123Prasad\"))"
   ]
  },
  {
   "cell_type": "code",
   "execution_count": 20,
   "id": "83b5cc87",
   "metadata": {},
   "outputs": [
    {
     "name": "stdout",
     "output_type": "stream",
     "text": [
      "['g', 'c', 'g', 'v', 's', 'j']\n"
     ]
    }
   ],
   "source": [
    "#findall\n",
    "print(p.findall(\"gc12312342gv2sj\"))"
   ]
  },
  {
   "cell_type": "code",
   "execution_count": 21,
   "id": "d312df00",
   "metadata": {},
   "outputs": [],
   "source": [
    "#Example\n",
    "p=re.compile('ca*t') #for the repeatattion of starred word from 0 to n times"
   ]
  },
  {
   "cell_type": "code",
   "execution_count": 22,
   "id": "f24c8b8e",
   "metadata": {},
   "outputs": [
    {
     "name": "stdout",
     "output_type": "stream",
     "text": [
      "<re.Match object; span=(0, 2), match='ct'>\n"
     ]
    }
   ],
   "source": [
    "print(p.match('ct')) #a 0 zero times"
   ]
  },
  {
   "cell_type": "code",
   "execution_count": 23,
   "id": "cae21957",
   "metadata": {},
   "outputs": [
    {
     "name": "stdout",
     "output_type": "stream",
     "text": [
      "<re.Match object; span=(0, 3), match='cat'>\n"
     ]
    }
   ],
   "source": [
    "print(p.match(\"catg\")) #a once"
   ]
  },
  {
   "cell_type": "code",
   "execution_count": 24,
   "id": "ab8e16c5",
   "metadata": {},
   "outputs": [
    {
     "name": "stdout",
     "output_type": "stream",
     "text": [
      "<re.Match object; span=(0, 5), match='caaat'>\n"
     ]
    }
   ],
   "source": [
    "print(p.match(\"caaat\"))"
   ]
  },
  {
   "cell_type": "code",
   "execution_count": 25,
   "id": "4eddcd60",
   "metadata": {},
   "outputs": [
    {
     "name": "stdout",
     "output_type": "stream",
     "text": [
      "None\n"
     ]
    }
   ],
   "source": [
    "print(p.match(\"cbt\")) #totally differnt string"
   ]
  },
  {
   "cell_type": "code",
   "execution_count": 26,
   "id": "c78dacbf",
   "metadata": {},
   "outputs": [
    {
     "name": "stdout",
     "output_type": "stream",
     "text": [
      "None\n"
     ]
    }
   ],
   "source": [
    "print(p.match(\"avscat\"))"
   ]
  },
  {
   "cell_type": "code",
   "execution_count": 27,
   "id": "9d4c71e7",
   "metadata": {},
   "outputs": [
    {
     "name": "stdout",
     "output_type": "stream",
     "text": [
      "<re.Match object; span=(3, 9), match='caaaat'>\n"
     ]
    }
   ],
   "source": [
    "print(p.search(\"asdcaaaat\"))"
   ]
  },
  {
   "cell_type": "code",
   "execution_count": 28,
   "id": "ad413471",
   "metadata": {},
   "outputs": [
    {
     "name": "stdout",
     "output_type": "stream",
     "text": [
      "['ct', 'caat', 'cat']\n"
     ]
    }
   ],
   "source": [
    "print(p.findall(\"ctasacaatcathjshbfCatCThbfhr\")) #finds all the similiar patterns from the string and returns it in the form of lists."
   ]
  },
  {
   "cell_type": "markdown",
   "id": "936ecd6e",
   "metadata": {},
   "source": [
    "The End"
   ]
  }
 ],
 "metadata": {
  "kernelspec": {
   "display_name": "Python 3",
   "language": "python",
   "name": "python3"
  },
  "language_info": {
   "codemirror_mode": {
    "name": "ipython",
    "version": 3
   },
   "file_extension": ".py",
   "mimetype": "text/x-python",
   "name": "python",
   "nbconvert_exporter": "python",
   "pygments_lexer": "ipython3",
   "version": "3.8.8"
  }
 },
 "nbformat": 4,
 "nbformat_minor": 5
}
