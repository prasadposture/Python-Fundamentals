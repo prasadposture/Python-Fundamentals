{
 "cells": [
  {
   "cell_type": "markdown",
   "id": "3ab71dd8",
   "metadata": {},
   "source": [
    "# Lists"
   ]
  },
  {
   "cell_type": "markdown",
   "id": "f0e4bff5",
   "metadata": {},
   "source": [
    "### Definition of Lists\n",
    "A list in Python is a sequenced collection of different objects such as integers, strings, and even other lists as well.\n",
    "To create a list, type the list within square brackets [ ] , with your content inside the parenthesis and separated by commas."
   ]
  },
  {
   "cell_type": "code",
   "execution_count": 1,
   "id": "1b3a605e",
   "metadata": {},
   "outputs": [
    {
     "data": {
      "text/plain": [
       "['apple', 'banana', 'cherry']"
      ]
     },
     "execution_count": 1,
     "metadata": {},
     "output_type": "execute_result"
    }
   ],
   "source": [
    "#Creating a list\n",
    "L=[\"apple\",\"banana\",\"cherry\"]\n",
    "L"
   ]
  },
  {
   "cell_type": "markdown",
   "id": "901b983e",
   "metadata": {},
   "source": [
    "### Indexing\n",
    "The address of each element within a list is called an index. An index is used to access and refer to items within a list."
   ]
  },
  {
   "cell_type": "code",
   "execution_count": 2,
   "id": "407e194b",
   "metadata": {},
   "outputs": [
    {
     "name": "stdout",
     "output_type": "stream",
     "text": [
      "apple\n",
      "banana\n",
      "cherry\n",
      "cherry\n",
      "banana\n",
      "apple\n"
     ]
    }
   ],
   "source": [
    "L=[\"apple\",\"banana\",\"cherry\"]\n",
    "# Positive Indexing\n",
    "print(L[0])\n",
    "print(L[1])\n",
    "print(L[2])\n",
    "# Negative Indexing\n",
    "print(L[-1])\n",
    "print(L[-2])\n",
    "print(L[-3])"
   ]
  },
  {
   "cell_type": "markdown",
   "id": "3aa011a4",
   "metadata": {},
   "source": [
    "### List Content\n",
    "Lists can contain strings, floats, and integers. We can nest other lists, and we can also nest tuples and other data structures. The same\n",
    "indexing conventions apply for nesting:"
   ]
  },
  {
   "cell_type": "code",
   "execution_count": 3,
   "id": "2a077a03",
   "metadata": {},
   "outputs": [
    {
     "data": {
      "text/plain": [
       "['Prasad Posture', 10.1, 1982, [1, 2], ('a', 1)]"
      ]
     },
     "execution_count": 3,
     "metadata": {},
     "output_type": "execute_result"
    }
   ],
   "source": [
    "#Example\n",
    "[\"Prasad Posture\", 10.1, 1982, [1,2], (\"a\",1)]  #(\"a\",1) is a tuple"
   ]
  },
  {
   "cell_type": "markdown",
   "id": "4c452454",
   "metadata": {},
   "source": [
    "### List Operations"
   ]
  },
  {
   "cell_type": "markdown",
   "id": "2a6c03df",
   "metadata": {},
   "source": [
    "**Slicing:** We can also perform slicing in lists and extract part it."
   ]
  },
  {
   "cell_type": "code",
   "execution_count": 4,
   "id": "f0ba5efe",
   "metadata": {},
   "outputs": [
    {
     "data": {
      "text/plain": [
       "['kiwi', 35.45, 6, 'green kiwi', 25]"
      ]
     },
     "execution_count": 4,
     "metadata": {},
     "output_type": "execute_result"
    }
   ],
   "source": [
    "#Example\n",
    "L=[\"kiwi\",35.45,6,\"green kiwi\",25]\n",
    "L"
   ]
  },
  {
   "cell_type": "code",
   "execution_count": 5,
   "id": "a7c8c0d0",
   "metadata": {},
   "outputs": [
    {
     "data": {
      "text/plain": [
       "[35.45, 6, 'green kiwi']"
      ]
     },
     "execution_count": 5,
     "metadata": {},
     "output_type": "execute_result"
    }
   ],
   "source": [
    "#List Slicing\n",
    "L[1:4] #L[m,n+1] gives elements of L from index m to n"
   ]
  },
  {
   "cell_type": "markdown",
   "id": "9fd9b959",
   "metadata": {},
   "source": [
    "**Extend:** This method is used for adding **multiple** elements in the list."
   ]
  },
  {
   "cell_type": "code",
   "execution_count": 6,
   "id": "e6508b61",
   "metadata": {},
   "outputs": [
    {
     "data": {
      "text/plain": [
       "['kiwi', 35.45, 6, 'green kiwi', 25, 'fruit', 10]"
      ]
     },
     "execution_count": 6,
     "metadata": {},
     "output_type": "execute_result"
    }
   ],
   "source": [
    "L.extend([\"fruit\",10]) #adding two elements to the L\n",
    "L"
   ]
  },
  {
   "cell_type": "markdown",
   "id": "8fdbf53c",
   "metadata": {},
   "source": [
    "**Append:** This is method is used for adding a **single** element at a time."
   ]
  },
  {
   "cell_type": "code",
   "execution_count": 7,
   "id": "5a7c8d41",
   "metadata": {},
   "outputs": [
    {
     "data": {
      "text/plain": [
       "['kivi', 35.45, 6, 'green kivi', 25, ['fruit', 10]]"
      ]
     },
     "execution_count": 7,
     "metadata": {},
     "output_type": "execute_result"
    }
   ],
   "source": [
    "L=[\"kivi\",35.45,6,\"green kivi\",25]\n",
    "L.append([\"fruit\",10])\n",
    "L #you can see in the output that a list has been added rather than two elements"
   ]
  },
  {
   "cell_type": "markdown",
   "id": "4c889cfd",
   "metadata": {},
   "source": [
    "**As lists are mutable, we can change them.**"
   ]
  },
  {
   "cell_type": "markdown",
   "id": "d49b6cae",
   "metadata": {},
   "source": [
    "Changing the element based on the index:"
   ]
  },
  {
   "cell_type": "code",
   "execution_count": 8,
   "id": "cc7c3355",
   "metadata": {},
   "outputs": [
    {
     "data": {
      "text/plain": [
       "['Banana', 35.45, 6, 'green kivi', 25]"
      ]
     },
     "execution_count": 8,
     "metadata": {},
     "output_type": "execute_result"
    }
   ],
   "source": [
    "#Example\n",
    "L=[\"kivi\",35.45,6,\"green kivi\",25] #before\n",
    "L[0]=\"Banana\"\n",
    "L #after: \"kivi\" has been changed to \"Banana\""
   ]
  },
  {
   "cell_type": "markdown",
   "id": "11bc7701",
   "metadata": {},
   "source": [
    "There are several methods to remove items from a list:"
   ]
  },
  {
   "cell_type": "markdown",
   "id": "8aa53dd6",
   "metadata": {},
   "source": [
    "**Delete:** We can also delete an element of a list using the del command."
   ]
  },
  {
   "cell_type": "code",
   "execution_count": 9,
   "id": "3e12ffe6",
   "metadata": {},
   "outputs": [
    {
     "name": "stdout",
     "output_type": "stream",
     "text": [
      "before: ['Hi', 10, 1.2]\n",
      "after change: [10, 1.2]\n"
     ]
    }
   ],
   "source": [
    "#Example\n",
    "A=[\"Hi\", 10, 1.2]\n",
    "print('before:',A)\n",
    "del(A[0]) #deleting the element\n",
    "print('after change:', A)"
   ]
  },
  {
   "cell_type": "markdown",
   "id": "6faa2747",
   "metadata": {},
   "source": [
    "**Remove:** This method removes the specified item."
   ]
  },
  {
   "cell_type": "code",
   "execution_count": 10,
   "id": "3c410eea",
   "metadata": {},
   "outputs": [
    {
     "data": {
      "text/plain": [
       "['apple', 'cherry']"
      ]
     },
     "execution_count": 10,
     "metadata": {},
     "output_type": "execute_result"
    }
   ],
   "source": [
    "#Example\n",
    "L = [\"apple\", \"banana\", \"cherry\"]\n",
    "L.remove(\"banana\")\n",
    "L"
   ]
  },
  {
   "cell_type": "markdown",
   "id": "968eeef7",
   "metadata": {},
   "source": [
    "**Split:** We can convert a string to a list using split . For example, the method split translates every group of characters separated by a\n",
    "space into an element in a list."
   ]
  },
  {
   "cell_type": "code",
   "execution_count": 11,
   "id": "af228843",
   "metadata": {},
   "outputs": [
    {
     "data": {
      "text/plain": [
       "['prasad', 'posture']"
      ]
     },
     "execution_count": 11,
     "metadata": {},
     "output_type": "execute_result"
    }
   ],
   "source": [
    "#Example\n",
    "'prasad posture'.split()"
   ]
  },
  {
   "cell_type": "markdown",
   "id": "097c8c9d",
   "metadata": {},
   "source": [
    "**Copy:** When we set one variable B equal to A, both A and B are referencing the same list in memory."
   ]
  },
  {
   "cell_type": "code",
   "execution_count": 12,
   "id": "83ddce68",
   "metadata": {},
   "outputs": [
    {
     "name": "stdout",
     "output_type": "stream",
     "text": [
      "A: ['Virat Kohli', 18, 11]\n",
      "B: ['Virat Kohli', 18, 11]\n"
     ]
    }
   ],
   "source": [
    "A=[\"Virat Kohli\",18,11]\n",
    "B=A\n",
    "print(\"A:\",B)\n",
    "print(\"B:\",A)"
   ]
  },
  {
   "cell_type": "markdown",
   "id": "8bf9871b",
   "metadata": {},
   "source": [
    "The End"
   ]
  }
 ],
 "metadata": {
  "kernelspec": {
   "display_name": "Python 3",
   "language": "python",
   "name": "python3"
  },
  "language_info": {
   "codemirror_mode": {
    "name": "ipython",
    "version": 3
   },
   "file_extension": ".py",
   "mimetype": "text/x-python",
   "name": "python",
   "nbconvert_exporter": "python",
   "pygments_lexer": "ipython3",
   "version": "3.8.8"
  }
 },
 "nbformat": 4,
 "nbformat_minor": 5
}
