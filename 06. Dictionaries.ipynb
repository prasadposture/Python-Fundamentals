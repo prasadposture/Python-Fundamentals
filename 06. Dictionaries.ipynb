{
 "cells": [
  {
   "cell_type": "markdown",
   "id": "f04d22fd",
   "metadata": {},
   "source": [
    "# Dictionaries"
   ]
  },
  {
   "cell_type": "markdown",
   "id": "908d2b74",
   "metadata": {},
   "source": [
    "### What are Dictionaries?\n",
    "A dictionary consists of keys and values. It is helpful to compare a dictionary to a list. Instead of being indexed numerically like a list,\n",
    "dictionaries have keys. These keys are the keys that are used to access values within a dictionary."
   ]
  },
  {
   "cell_type": "code",
   "execution_count": 1,
   "id": "84d5a0da",
   "metadata": {},
   "outputs": [
    {
     "data": {
      "text/plain": [
       "{'key1': 1,\n",
       " 'key2': '2',\n",
       " 'key3': [3, 3, 3],\n",
       " 'key4': (4, 4, 4),\n",
       " 'key5': 5,\n",
       " (0, 1): 6,\n",
       " 1: 6.7,\n",
       " 2.43: '7'}"
      ]
     },
     "execution_count": 1,
     "metadata": {},
     "output_type": "execute_result"
    }
   ],
   "source": [
    "#Example\n",
    "Dict={\"key1\":1,\"key2\":\"2\", \"key3\":[3,3,3],\"key4\":(4,4,4),\"key5\":5,(0,1):6,1:6.7,2.43:\"7\"} #value can be any kind of data structure\n",
    "Dict"
   ]
  },
  {
   "cell_type": "markdown",
   "id": "6d6f7a36",
   "metadata": {},
   "source": [
    "The keys can be strings:"
   ]
  },
  {
   "cell_type": "code",
   "execution_count": 2,
   "id": "0423319f",
   "metadata": {},
   "outputs": [
    {
     "data": {
      "text/plain": [
       "1"
      ]
     },
     "execution_count": 2,
     "metadata": {},
     "output_type": "execute_result"
    }
   ],
   "source": [
    "#Access the value by the key\n",
    "Dict[\"key1\"]"
   ]
  },
  {
   "cell_type": "markdown",
   "id": "904c113b",
   "metadata": {},
   "source": [
    "The keys can be any immutable object such as a tuple:"
   ]
  },
  {
   "cell_type": "code",
   "execution_count": 3,
   "id": "956757d1",
   "metadata": {},
   "outputs": [
    {
     "data": {
      "text/plain": [
       "6"
      ]
     },
     "execution_count": 3,
     "metadata": {},
     "output_type": "execute_result"
    }
   ],
   "source": [
    "#Access the value by the key\n",
    "Dict[(0,1)]"
   ]
  },
  {
   "cell_type": "code",
   "execution_count": 4,
   "id": "8c7c4c4a",
   "metadata": {},
   "outputs": [
    {
     "data": {
      "text/plain": [
       "'7'"
      ]
     },
     "execution_count": 4,
     "metadata": {},
     "output_type": "execute_result"
    }
   ],
   "source": [
    "#Float as a key\n",
    "Dict[(2.43)]"
   ]
  },
  {
   "cell_type": "markdown",
   "id": "54999946",
   "metadata": {},
   "source": [
    "Each key is separated from its value by a colon \" : \". Commas separate the items, and the whole dictionary is enclosed in curly braces. An\n",
    "empty dictionary without any items is written with just two curly braces, like this \" {} \"."
   ]
  },
  {
   "cell_type": "code",
   "execution_count": 5,
   "id": "a6a32c64",
   "metadata": {},
   "outputs": [
    {
     "data": {
      "text/plain": [
       "{'thriller': '1982', 'back in balck': '1980', 'the bodyguard': '1992'}"
      ]
     },
     "execution_count": 5,
     "metadata": {},
     "output_type": "execute_result"
    }
   ],
   "source": [
    "#Creating a sample dictionary\n",
    "release_year_dict={\"thriller\":\"1982\",\"back in balck\":\"1980\",\"the bodyguard\":\"1992\"}\n",
    "release_year_dict"
   ]
  },
  {
   "cell_type": "markdown",
   "id": "6627e849",
   "metadata": {},
   "source": [
    "In summary, like a list, a dictionary holds a sequence of elements. Each element is represented by a key and its corresponding value.\n",
    "Dictionaries are created with two curly braces containing keys and values separated by a colon. For every key, there can only be one single\n",
    "value, however, multiple keys can hold the same value. Keys can only be strings, numbers, or tuples, but values can be any data type."
   ]
  },
  {
   "cell_type": "markdown",
   "id": "d26440d9",
   "metadata": {},
   "source": [
    "### Keys"
   ]
  },
  {
   "cell_type": "markdown",
   "id": "e52fb9c5",
   "metadata": {},
   "source": [
    "**Getting all the keys of the dictionary:**"
   ]
  },
  {
   "cell_type": "code",
   "execution_count": 6,
   "id": "444ca9e7",
   "metadata": {},
   "outputs": [
    {
     "data": {
      "text/plain": [
       "dict_keys(['thriller', 'back in balck', 'the bodyguard'])"
      ]
     },
     "execution_count": 6,
     "metadata": {},
     "output_type": "execute_result"
    }
   ],
   "source": [
    "release_year_dict.keys()"
   ]
  },
  {
   "cell_type": "markdown",
   "id": "a8310b19",
   "metadata": {},
   "source": [
    "**You can retrieve the values based on the names:**"
   ]
  },
  {
   "cell_type": "code",
   "execution_count": 7,
   "id": "6b1ac628",
   "metadata": {},
   "outputs": [
    {
     "data": {
      "text/plain": [
       "'1982'"
      ]
     },
     "execution_count": 7,
     "metadata": {},
     "output_type": "execute_result"
    }
   ],
   "source": [
    "#Get value by keys\n",
    "release_year_dict['thriller']"
   ]
  },
  {
   "cell_type": "code",
   "execution_count": 8,
   "id": "f65e1a8b",
   "metadata": {},
   "outputs": [
    {
     "data": {
      "text/plain": [
       "'1992'"
      ]
     },
     "execution_count": 8,
     "metadata": {},
     "output_type": "execute_result"
    }
   ],
   "source": [
    "release_year_dict['the bodyguard']"
   ]
  },
  {
   "cell_type": "markdown",
   "id": "e4dc0db2",
   "metadata": {},
   "source": [
    "**Getting all the values of the dictionary:**"
   ]
  },
  {
   "cell_type": "code",
   "execution_count": 9,
   "id": "914d241f",
   "metadata": {},
   "outputs": [
    {
     "data": {
      "text/plain": [
       "dict_values(['1982', '1980', '1992'])"
      ]
     },
     "execution_count": 9,
     "metadata": {},
     "output_type": "execute_result"
    }
   ],
   "source": [
    "release_year_dict.values()"
   ]
  },
  {
   "cell_type": "markdown",
   "id": "6c140c0e",
   "metadata": {},
   "source": [
    "**We can add a new entry to the dictinary:**"
   ]
  },
  {
   "cell_type": "code",
   "execution_count": 10,
   "id": "d48da697",
   "metadata": {},
   "outputs": [
    {
     "data": {
      "text/plain": [
       "{'thriller': '1982',\n",
       " 'back in balck': '1980',\n",
       " 'the bodyguard': '1992',\n",
       " 'graduation': '2007'}"
      ]
     },
     "execution_count": 10,
     "metadata": {},
     "output_type": "execute_result"
    }
   ],
   "source": [
    "#Append value with key into dictionary\n",
    "release_year_dict[\"graduation\"]=\"2007\"\n",
    "release_year_dict"
   ]
  },
  {
   "cell_type": "markdown",
   "id": "b187f5a3",
   "metadata": {},
   "source": [
    "**We can delete an entry from the dictionary:**"
   ]
  },
  {
   "cell_type": "code",
   "execution_count": 11,
   "id": "665e7e15",
   "metadata": {},
   "outputs": [
    {
     "data": {
      "text/plain": [
       "{'back in balck': '1980', 'the bodyguard': '1992', 'graduation': '2007'}"
      ]
     },
     "execution_count": 11,
     "metadata": {},
     "output_type": "execute_result"
    }
   ],
   "source": [
    "#Delete entries by key\n",
    "del(release_year_dict[\"thriller\"])\n",
    "release_year_dict"
   ]
  },
  {
   "cell_type": "markdown",
   "id": "9b082edc",
   "metadata": {},
   "source": [
    "**We can verify if an element is present in the dictionary:**"
   ]
  },
  {
   "cell_type": "code",
   "execution_count": 12,
   "id": "090413b1",
   "metadata": {},
   "outputs": [
    {
     "data": {
      "text/plain": [
       "True"
      ]
     },
     "execution_count": 12,
     "metadata": {},
     "output_type": "execute_result"
    }
   ],
   "source": [
    "\"the bodyguard\" in release_year_dict"
   ]
  },
  {
   "cell_type": "code",
   "execution_count": 13,
   "id": "68a30f37",
   "metadata": {},
   "outputs": [
    {
     "data": {
      "text/plain": [
       "False"
      ]
     },
     "execution_count": 13,
     "metadata": {},
     "output_type": "execute_result"
    }
   ],
   "source": [
    "\"avengers\" in release_year_dict"
   ]
  },
  {
   "cell_type": "code",
   "execution_count": 14,
   "id": "a7c486db",
   "metadata": {},
   "outputs": [
    {
     "data": {
      "text/plain": [
       "False"
      ]
     },
     "execution_count": 14,
     "metadata": {},
     "output_type": "execute_result"
    }
   ],
   "source": [
    "\"thriller\" in release_year_dict #since we have already deleted it"
   ]
  },
  {
   "cell_type": "markdown",
   "id": "763cb327",
   "metadata": {},
   "source": [
    "The End"
   ]
  }
 ],
 "metadata": {
  "kernelspec": {
   "display_name": "Python 3",
   "language": "python",
   "name": "python3"
  },
  "language_info": {
   "codemirror_mode": {
    "name": "ipython",
    "version": 3
   },
   "file_extension": ".py",
   "mimetype": "text/x-python",
   "name": "python",
   "nbconvert_exporter": "python",
   "pygments_lexer": "ipython3",
   "version": "3.8.8"
  }
 },
 "nbformat": 4,
 "nbformat_minor": 5
}
