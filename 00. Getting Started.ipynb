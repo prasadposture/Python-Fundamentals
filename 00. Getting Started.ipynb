{
 "cells": [
  {
   "cell_type": "markdown",
   "id": "52119b45",
   "metadata": {},
   "source": [
    "## Anaconda Installation\n",
    "* Use following link to download anacoda  \n",
    "https://www.anaconda.com/products/individual\n",
    "* After installation use Jupyter Notebook"
   ]
  },
  {
   "cell_type": "markdown",
   "id": "39f5d97b",
   "metadata": {},
   "source": [
    "## Jupyter Notebook App\n",
    "The Jupyter Notebook App is a server-client application that allows editing and running notebook documents via a web browser. The\n",
    "Jupyter Notebook App can be executed on a local desktop requiring no internet access (as described in this document) or can be installed\n",
    "on a remote server and accessed through the internet.\n",
    "In addition to displaying/editing/running notebook documents, the Jupyter Notebook App has a “Dashboard” (Notebook Dashboard), a\n",
    "“control panel” showing local files and allowing to open notebook documents or shutting down their kernels.\n"
   ]
  },
  {
   "cell_type": "markdown",
   "id": "5117ba2e",
   "metadata": {},
   "source": [
    "**kernel**  \n",
    "A notebook kernel is a “computational engine” that executes the code contained in a Notebook document. The ipython kernel, referenced\n",
    "in this guide, executes python code. Kernels for many other languages exist (official kernels).\n",
    "When you open a Notebook document, the associated kernel is automatically launched. When the notebook is executed (either cell-by-cell\n",
    "or with menu Cell -> Run All), the kernel performs the computation and produces the results. Depending on the type of computations, the\n",
    "kernel may consume significant CPU and RAM. Note that the RAM is not released until the kernel is shut-down."
   ]
  },
  {
   "cell_type": "markdown",
   "id": "e7a8eae1",
   "metadata": {},
   "source": [
    "**Notebook Dashboard**  \n",
    "The Notebook Dashboard is the component which is shown first when you launch Jupyter Notebook App. The Notebook Dashboard is\n",
    "mainly used to open notebook documents, and to manage the running kernels (visualize and shutdown).\n",
    "The Notebook Dashboard has other features similar to a file manager, namely navigating folders and renaming/deleting files."
   ]
  },
  {
   "cell_type": "markdown",
   "id": "50503f9c",
   "metadata": {},
   "source": [
    "## Markdown in Jupyter Notebook\n",
    "Note: Make sure you have selected Markdown in the cell type instead of code. To execute the python code, click on the cell to select it and press Shift+Enter. Double click to see the code."
   ]
  },
  {
   "cell_type": "markdown",
   "id": "37411d3a",
   "metadata": {},
   "source": [
    "### 1. Headings\n",
    "Use #s followed by a blank space for notebook titles and section headings"
   ]
  },
  {
   "cell_type": "markdown",
   "id": "abeb5275",
   "metadata": {},
   "source": [
    "# Level 1 Heading\n",
    "## Level 2 Heading\n",
    "### Level 3 Heading\n",
    "#### Level 4 Heading\n",
    "##### Level 5 Heading (Bold and Italic)\n",
    "###### Level 6 Heading (Bold and Italic)"
   ]
  },
  {
   "cell_type": "markdown",
   "id": "dc5abdcd",
   "metadata": {},
   "source": [
    "### 2. Line Breaks\n",
    "Use two spaces at the end or use < br > Note: Don't give spaces in between, here i have given for typing purpose"
   ]
  },
  {
   "cell_type": "markdown",
   "id": "50829321",
   "metadata": {},
   "source": [
    "This is the first line  \n",
    "this is the line after two spaces  \n",
    "\n",
    "this is the another line<br>\n",
    "this is the line used after using < br >"
   ]
  },
  {
   "cell_type": "markdown",
   "id": "e14bf1a2",
   "metadata": {},
   "source": [
    "### 3. Bold"
   ]
  },
  {
   "cell_type": "markdown",
   "id": "ff5294b8",
   "metadata": {},
   "source": [
    "Use code <b> tags (it bolds all texts after it)   \n",
    "eg. <b> This is bold text"
   ]
  },
  {
   "cell_type": "markdown",
   "id": "4843d3b5",
   "metadata": {},
   "source": [
    "Use ** i.e. asterix before and after the text to be bold  \n",
    "eg. **This is bold text**"
   ]
  },
  {
   "cell_type": "markdown",
   "id": "1bcfcacd",
   "metadata": {},
   "source": [
    "Use __ i.e. underscores before and after the text to be bold  \n",
    "eg. __This is bold text__"
   ]
  },
  {
   "cell_type": "markdown",
   "id": "07e1306b",
   "metadata": {},
   "source": [
    "### 4. Italic"
   ]
  },
  {
   "cell_type": "markdown",
   "id": "0aa99bd2",
   "metadata": {},
   "source": [
    "Using single asterix *    \n",
    "    eg. *This is italic text*  \n",
    "\n",
    "\n",
    "Using single undescore _  \n",
    "    eg. _This is italic text_  "
   ]
  },
  {
   "cell_type": "markdown",
   "id": "9400c987",
   "metadata": {},
   "source": [
    "### 5. Bullets"
   ]
  },
  {
   "cell_type": "markdown",
   "id": "fa05c643",
   "metadata": {},
   "source": [
    "Circular  Bullets:  \n",
    "Use the dash - sign with space after it or use asterix * with space after it\n",
    "eg. \n",
    "- this is bullet\n",
    "* this is bullet\n",
    "\n",
    "\n",
    "Sub-Bullets:\n",
    "To create a sub-bullet, use a tab and then use dash - or asterix * with space front of it\n",
    "eg.\n",
    "- this is bullet\n",
    "* this is bullet\n",
    "    - this is sub-bullet\n",
    "    * this is sub-bullet"
   ]
  },
  {
   "cell_type": "markdown",
   "id": "561cfc48",
   "metadata": {},
   "source": [
    "### 6. Numbered List"
   ]
  },
  {
   "cell_type": "markdown",
   "id": "84a18d36",
   "metadata": {},
   "source": [
    "Start with 1 followed by a space then  it starts numbering for you. Start with some number and a period, then a space. Tab to indent to get subnumbering\n",
    "eg.\n",
    "1. Line Number one\n",
    "2. Line Number two  \n",
    "    A. This is Subnumber one  \n",
    "    B. This is Subnumber two"
   ]
  },
  {
   "cell_type": "markdown",
   "id": "dcb6507f",
   "metadata": {},
   "source": [
    "### 7. Mathematical Symbols\n",
    "Use $ before and after with LaTex"
   ]
  },
  {
   "cell_type": "markdown",
   "id": "f8b9f19c",
   "metadata": {},
   "source": [
    "$a \\times b $ gives a multiply by b  \n",
    "$x=-b\\pm\\sqrt{b^{2}-4ac} $  this is the formula used for calculating roots of the quadratic polynomial"
   ]
  },
  {
   "cell_type": "markdown",
   "id": "4aa76361",
   "metadata": {},
   "source": [
    "### 8. Indented Quoting\n",
    "Use > and then space, then type the text. The text is indented and has a gray horizontal line to the left of it until the next carriage return"
   ]
  },
  {
   "cell_type": "markdown",
   "id": "5026cbf2",
   "metadata": {},
   "source": [
    "> This is 1st line of 1st Blockquotes <br>\n",
    "This is the 2nd line of 1st Blockquotes\n",
    "\n",
    ">This is 1st line of 2nd Blockquote<br>\n",
    "This is the 2nd line of 2nd Blockquote"
   ]
  },
  {
   "cell_type": "markdown",
   "id": "6950cf7f",
   "metadata": {},
   "source": [
    "### 9. Adding Image\n",
    "Drag and drop it down in the cell"
   ]
  },
  {
   "attachments": {
    "81-811458_jupyter-notebook-logo-hd-png-download.png": {
     "image/png": "[encoded data removed]"
    }
   },
   "cell_type": "markdown",
   "id": "a9f40966",
   "metadata": {},
   "source": [
    "![81-811458_jupyter-notebook-logo-hd-png-download.png](attachment:81-811458_jupyter-notebook-logo-hd-png-download.png)"
   ]
  },
  {
   "cell_type": "markdown",
   "id": "b074f57d",
   "metadata": {},
   "source": [
    "### 10. Colors"
   ]
  },
  {
   "cell_type": "markdown",
   "id": "e9b49835",
   "metadata": {},
   "source": [
    "Use this code: <font color=color>Text</font> Not all markdown code within a font tag, so review your colored text carefully  \n",
    "eg.  \n",
    "<font color=blue> font color is blue </font>  \n",
    "<font color=red> font color is red </font>  \n",
    "<font color=green> font color is green </font>  "
   ]
  },
  {
   "cell_type": "markdown",
   "id": "e826ece3",
   "metadata": {},
   "source": [
    "### 11. Adding Links"
   ]
  },
  {
   "cell_type": "markdown",
   "id": "4aa7a91e",
   "metadata": {},
   "source": [
    "Use this code: [link text](link url)  \n",
    "eg  \n",
    "[click here to google](https://www.google.com/)"
   ]
  },
  {
   "cell_type": "markdown",
   "id": "4c49f5de",
   "metadata": {},
   "source": [
    "## Writing Your First Python Code"
   ]
  },
  {
   "cell_type": "markdown",
   "id": "853bfa77",
   "metadata": {},
   "source": [
    "When learning a new programming language, it is customary to start with simple print statement as example. As simple as it is, this one line\n",
    "of code will ensure that we know how to print a string in output and how to execute code within cells in a notebook.  "
   ]
  },
  {
   "cell_type": "code",
   "execution_count": 1,
   "id": "a9dbd499",
   "metadata": {},
   "outputs": [
    {
     "name": "stdout",
     "output_type": "stream",
     "text": [
      "I'm excited to learn python\n"
     ]
    }
   ],
   "source": [
    "print(\"I'm excited to learn python\")"
   ]
  },
  {
   "cell_type": "markdown",
   "id": "2f1fc10a",
   "metadata": {},
   "source": [
    "[Tip:] print() is a function. You passed the string \"I'am excited to learn Python\" as an argument to instruct Python on what to\n",
    "print. ```"
   ]
  },
  {
   "cell_type": "markdown",
   "id": "2d3021bf",
   "metadata": {},
   "source": [
    "Two statements on two different lines using print function\n"
   ]
  },
  {
   "cell_type": "code",
   "execution_count": 2,
   "id": "aa2b4c3c",
   "metadata": {},
   "outputs": [
    {
     "name": "stdout",
     "output_type": "stream",
     "text": [
      "I'm excited to learn python\n",
      "after learning JAVA\n"
     ]
    }
   ],
   "source": [
    "print(\"I'm excited to learn python\")\n",
    "print(\"after learning JAVA\")"
   ]
  },
  {
   "cell_type": "markdown",
   "id": "bf833f3d",
   "metadata": {},
   "source": [
    "Instaed of \"text\" , one can also write 'text' as follows"
   ]
  },
  {
   "cell_type": "code",
   "execution_count": 3,
   "id": "f0b1fdc1",
   "metadata": {},
   "outputs": [
    {
     "name": "stdout",
     "output_type": "stream",
     "text": [
      "I am excited to learn python\n"
     ]
    }
   ],
   "source": [
    "print('I am excited to learn python')"
   ]
  },
  {
   "cell_type": "markdown",
   "id": "20df046f",
   "metadata": {},
   "source": [
    "### What version of Python are we using?\n",
    "There are two popular versions of the Python programming language in use today: Python 2 and Python 3. The Python community has\n",
    "decided to move on from Python 2 to Python 3, and many popular libraries have announced that they will no longer support Python 2.  \n",
    "Since Python 3 is the future, in this course we will be using it exclusively. How do we know that our notebook is executed by a Python 3 runtime? We can look in the top-right hand corner of this notebook and see \"Python 3\".  \n",
    "We can also ask Python directly and obtain a detailed answer. Try executing the following code:"
   ]
  },
  {
   "cell_type": "code",
   "execution_count": 4,
   "id": "0b45025c",
   "metadata": {},
   "outputs": [
    {
     "name": "stdout",
     "output_type": "stream",
     "text": [
      "3.8.8 (default, Apr 13 2021, 15:08:03) [MSC v.1916 64 bit (AMD64)]\n"
     ]
    }
   ],
   "source": [
    "#Checking the Python Version\n",
    "import sys\n",
    "print(sys.version)"
   ]
  },
  {
   "cell_type": "markdown",
   "id": "00e3da12",
   "metadata": {},
   "source": [
    "### Writing comments in Python\n",
    "In addition to writing code, note that it's always a good idea to add comments to your code. It will help others understand what you were\n",
    "trying to accomplish (the reason why you wrote a given snippet of code). Not only does this help other people understand your code, it can\n",
    "also serve as a reminder to you when you come back to it weeks or months later.  \n",
    "To write comments in Python, use the number symbol # before writing your comment. When you run your code, Python will ignore\n",
    "everything past the # on a given line.  "
   ]
  },
  {
   "cell_type": "code",
   "execution_count": 5,
   "id": "9a8882d9",
   "metadata": {},
   "outputs": [
    {
     "name": "stdout",
     "output_type": "stream",
     "text": [
      "i'm excited to learn python\n"
     ]
    }
   ],
   "source": [
    "# practice on writing comments\n",
    "print(\"i'm excited to learn python\") #this line prints a string\n",
    "#print(\"python\")"
   ]
  },
  {
   "cell_type": "markdown",
   "id": "61b00312",
   "metadata": {},
   "source": [
    "After executing the cell above, you should notice that This line prints a string did not appear in the output, because it was a comment (and\n",
    "thus ignored by Python).  \n",
    "The second line was also not executed because print(\"Python\") was preceded by the number sign (#) as well! Since this isn't an\n",
    "explanatory comment from the programmer, but an actual line of code, we might say that the programmer commented out that second line\n",
    "of code. "
   ]
  },
  {
   "cell_type": "code",
   "execution_count": 6,
   "id": "3d15c378",
   "metadata": {},
   "outputs": [
    {
     "name": "stdout",
     "output_type": "stream",
     "text": [
      "Hello, World!\n"
     ]
    }
   ],
   "source": [
    "\"\"\"\n",
    "for multiline comments,\n",
    "use this sequence\n",
    "\n",
    "\"\"\"\n",
    "print(\"Hello, World!\")"
   ]
  },
  {
   "cell_type": "markdown",
   "id": "7dff605b",
   "metadata": {},
   "source": [
    "### Errorss in Python"
   ]
  },
  {
   "cell_type": "code",
   "execution_count": 7,
   "id": "15a420d7",
   "metadata": {},
   "outputs": [
    {
     "ename": "SyntaxError",
     "evalue": "invalid syntax (<ipython-input-7-31387f74fe19>, line 1)",
     "output_type": "error",
     "traceback": [
      "\u001b[1;36m  File \u001b[1;32m\"<ipython-input-7-31387f74fe19>\"\u001b[1;36m, line \u001b[1;32m1\u001b[0m\n\u001b[1;33m    print('I'am excited to learn python')\u001b[0m\n\u001b[1;37m             ^\u001b[0m\n\u001b[1;31mSyntaxError\u001b[0m\u001b[1;31m:\u001b[0m invalid syntax\n"
     ]
    }
   ],
   "source": [
    "print('I'am excited to learn python')"
   ]
  },
  {
   "cell_type": "code",
   "execution_count": 8,
   "id": "7116e3c6",
   "metadata": {},
   "outputs": [
    {
     "ename": "NameError",
     "evalue": "name 'frint' is not defined",
     "output_type": "error",
     "traceback": [
      "\u001b[1;31m---------------------------------------------------------------------------\u001b[0m",
      "\u001b[1;31mNameError\u001b[0m                                 Traceback (most recent call last)",
      "\u001b[1;32m<ipython-input-8-706229e4a63e>\u001b[0m in \u001b[0;36m<module>\u001b[1;34m\u001b[0m\n\u001b[0;32m      1\u001b[0m \u001b[1;31m# print string as an error message\u001b[0m\u001b[1;33m\u001b[0m\u001b[1;33m\u001b[0m\u001b[1;33m\u001b[0m\u001b[0m\n\u001b[1;32m----> 2\u001b[1;33m \u001b[0mfrint\u001b[0m\u001b[1;33m(\u001b[0m\u001b[1;34m\"Hello, Python!\"\u001b[0m\u001b[1;33m)\u001b[0m\u001b[1;33m\u001b[0m\u001b[1;33m\u001b[0m\u001b[0m\n\u001b[0m",
      "\u001b[1;31mNameError\u001b[0m: name 'frint' is not defined"
     ]
    }
   ],
   "source": [
    "# print string as an error message\n",
    "frint(\"Hello, Python!\")"
   ]
  },
  {
   "cell_type": "code",
   "execution_count": 9,
   "id": "a8c92228",
   "metadata": {},
   "outputs": [
    {
     "ename": "SyntaxError",
     "evalue": "EOL while scanning string literal (<ipython-input-9-a9a2c2016acf>, line 2)",
     "output_type": "error",
     "traceback": [
      "\u001b[1;36m  File \u001b[1;32m\"<ipython-input-9-a9a2c2016acf>\"\u001b[1;36m, line \u001b[1;32m2\u001b[0m\n\u001b[1;33m    print(\"Hello, Python!)\u001b[0m\n\u001b[1;37m                          ^\u001b[0m\n\u001b[1;31mSyntaxError\u001b[0m\u001b[1;31m:\u001b[0m EOL while scanning string literal\n"
     ]
    }
   ],
   "source": [
    "# try to see built in error message\n",
    "print(\"Hello, Python!)"
   ]
  },
  {
   "cell_type": "markdown",
   "id": "0ef554ad",
   "metadata": {},
   "source": [
    "### Does Python know about your error before it runs your code?\n",
    "Python is what is called an interpreted language. Compiled languages examine your entire program at compile time, and are able to warn\n",
    "you about a whole class of errors prior to execution. In contrast, Python interprets your script line by line as it executes it. Python will stop\n",
    "executing the entire program when it encounters an error (unless the error is expected and handled by the programmer, a more advanced\n",
    "subject that we'll cover later on in this course). Try to run the code in the cell below and see what happens:"
   ]
  },
  {
   "cell_type": "code",
   "execution_count": 10,
   "id": "5f01a5ab",
   "metadata": {
    "scrolled": true
   },
   "outputs": [
    {
     "name": "stdout",
     "output_type": "stream",
     "text": [
      "this will beprinted\n"
     ]
    },
    {
     "ename": "NameError",
     "evalue": "name 'frint' is not defined",
     "output_type": "error",
     "traceback": [
      "\u001b[1;31m---------------------------------------------------------------------------\u001b[0m",
      "\u001b[1;31mNameError\u001b[0m                                 Traceback (most recent call last)",
      "\u001b[1;32m<ipython-input-10-9336dbcedf2f>\u001b[0m in \u001b[0;36m<module>\u001b[1;34m\u001b[0m\n\u001b[0;32m      1\u001b[0m \u001b[1;31m# print string and error to see the running order\u001b[0m\u001b[1;33m\u001b[0m\u001b[1;33m\u001b[0m\u001b[1;33m\u001b[0m\u001b[0m\n\u001b[0;32m      2\u001b[0m \u001b[0mprint\u001b[0m\u001b[1;33m(\u001b[0m\u001b[1;34m\"this will beprinted\"\u001b[0m\u001b[1;33m)\u001b[0m\u001b[1;33m\u001b[0m\u001b[1;33m\u001b[0m\u001b[0m\n\u001b[1;32m----> 3\u001b[1;33m \u001b[0mfrint\u001b[0m\u001b[1;33m(\u001b[0m\u001b[1;34m\"this will cause an error\"\u001b[0m\u001b[1;33m)\u001b[0m\u001b[1;33m\u001b[0m\u001b[1;33m\u001b[0m\u001b[0m\n\u001b[0m\u001b[0;32m      4\u001b[0m \u001b[0mprint\u001b[0m\u001b[1;33m(\u001b[0m\u001b[1;34m\"this won't be printed\"\u001b[0m\u001b[1;33m)\u001b[0m\u001b[1;33m\u001b[0m\u001b[1;33m\u001b[0m\u001b[0m\n",
      "\u001b[1;31mNameError\u001b[0m: name 'frint' is not defined"
     ]
    }
   ],
   "source": [
    "# print string and error to see the running order\n",
    "print(\"this will beprinted\")\n",
    "frint(\"this will cause an error\")\n",
    "print(\"this won't be printed\")"
   ]
  },
  {
   "cell_type": "code",
   "execution_count": null,
   "id": "dad818ad",
   "metadata": {},
   "outputs": [],
   "source": []
  }
 ],
 "metadata": {
  "kernelspec": {
   "display_name": "Python 3",
   "language": "python",
   "name": "python3"
  },
  "language_info": {
   "codemirror_mode": {
    "name": "ipython",
    "version": 3
   },
   "file_extension": ".py",
   "mimetype": "text/x-python",
   "name": "python",
   "nbconvert_exporter": "python",
   "pygments_lexer": "ipython3",
   "version": "3.8.8"
  }
 },
 "nbformat": 4,
 "nbformat_minor": 5
}
