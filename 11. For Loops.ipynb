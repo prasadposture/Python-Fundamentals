{
 "cells": [
  {
   "cell_type": "markdown",
   "metadata": {},
   "source": [
    "# `for` Loop\n"
   ]
  },
  {
   "cell_type": "markdown",
   "metadata": {},
   "source": [
    "## Iterating using `range` and `enumerate`\n",
    "\n",
    "The `range` function is used to create a sequence of numbers that can be iterated over using a `for` loop. It can be used in 3 ways: \n",
    " \n",
    "* `range(n)` - Creates a sequence of numbers from `0` to `n-1`\n",
    "* `range(a, b)` - Creates a sequence of numbers from `a` to `b-1`\n",
    "* `range(a, b, step)` - Creates a sequence of numbers from `a` to `b-1` with increments of `step`\n",
    "\n",
    "Let's try it out."
   ]
  },
  {
   "cell_type": "code",
   "execution_count": 1,
   "metadata": {},
   "outputs": [
    {
     "name": "stdout",
     "output_type": "stream",
     "text": [
      "3\n",
      "7\n",
      "11\n"
     ]
    }
   ],
   "source": [
    "for i in range (3,14,4):\n",
    "    print(i)"
   ]
  },
  {
   "cell_type": "markdown",
   "metadata": {},
   "source": [
    "Ranges are used for iterating over lists when you need to track the index of elements while iterating."
   ]
  },
  {
   "cell_type": "code",
   "execution_count": 2,
   "metadata": {},
   "outputs": [
    {
     "name": "stdout",
     "output_type": "stream",
     "text": [
      "The value at position 0 is Monday\n",
      "The value at position 1 is Tuesday\n",
      "The value at position 2 is Wednesday\n",
      "The value at position 3 is Thursday\n",
      "The value at position 4 is Friday\n",
      "The value at position 5 is Saturday\n"
     ]
    }
   ],
   "source": [
    "a_list=['Monday','Tuesday','Wednesday','Thursday','Friday','Saturday']\n",
    "for i in range(len(a_list)):\n",
    "    print('The value at position {} is {}'.format(i,a_list[i]))"
   ]
  },
  {
   "cell_type": "markdown",
   "metadata": {},
   "source": [
    "Another way to achieve the same result is by using the `enumerate` function with `a_list` as an input, which returns a tuple containing the index and the corresponding element."
   ]
  },
  {
   "cell_type": "code",
   "execution_count": 3,
   "metadata": {},
   "outputs": [
    {
     "name": "stdout",
     "output_type": "stream",
     "text": [
      "The value at position 0 is Monday\n",
      "The value at position 1 is Tuesday\n",
      "The value at position 2 is Wednesday\n",
      "The value at position 3 is Thursday\n",
      "The value at position 4 is Friday\n",
      "The value at position 5 is Saturday\n"
     ]
    }
   ],
   "source": [
    "a_list=['Monday','Tuesday','Wednesday','Thursday','Friday','Saturday']\n",
    "for i,val in enumerate(a_list): #without val rangle(len(a_list) and a_list[i] for i,val below)\n",
    "    print('The value at position {} is {}'.format(i,val))"
   ]
  },
  {
   "cell_type": "markdown",
   "metadata": {},
   "source": [
    "## Other Data types\n",
    "\n",
    "Let's try using `for` loops with some other data types."
   ]
  },
  {
   "cell_type": "markdown",
   "metadata": {},
   "source": [
    "### Looping over a string"
   ]
  },
  {
   "cell_type": "code",
   "execution_count": 4,
   "metadata": {},
   "outputs": [
    {
     "name": "stdout",
     "output_type": "stream",
     "text": [
      "M\n",
      "O\n",
      "N\n",
      "D\n",
      "A\n",
      "Y\n"
     ]
    }
   ],
   "source": [
    "#Printing each character from the string\n",
    "for char in 'MONDAY':\n",
    "    print(char)"
   ]
  },
  {
   "cell_type": "code",
   "execution_count": 5,
   "metadata": {},
   "outputs": [
    {
     "name": "stdout",
     "output_type": "stream",
     "text": [
      "h_count= 2\n",
      "u_count= 5\n",
      "m_count= 3\n",
      "n_count= 2\n",
      "k_count= 2\n",
      "a_count= 0\n",
      "p_count= 5\n"
     ]
    }
   ],
   "source": [
    "#counting particular alphabets from the given string\n",
    "h_count=0\n",
    "u_count=0\n",
    "m_count=0\n",
    "n_count=0\n",
    "k_count=0\n",
    "a_count=0\n",
    "p_count=0\n",
    "\n",
    "for letter in 'humuhamnkukupppappmnu':\n",
    "    if letter=='h':\n",
    "        h_count+=1\n",
    "    elif letter=='u':\n",
    "        u_count+=1\n",
    "    elif letter=='m':\n",
    "        m_count+=1\n",
    "    elif letter=='n':\n",
    "        n_count+=1\n",
    "    elif letter=='k':\n",
    "        k_count+=1\n",
    "    elif letter=='':\n",
    "        a_count+=1\n",
    "    elif letter=='p':\n",
    "        p_count+=1\n",
    "print('h_count=',h_count)\n",
    "print('u_count=',u_count)\n",
    "print('m_count=',m_count)\n",
    "print('n_count=',n_count)\n",
    "print('k_count=',k_count)\n",
    "print('a_count=',a_count)\n",
    "print('p_count=',p_count)"
   ]
  },
  {
   "cell_type": "markdown",
   "metadata": {},
   "source": [
    "### Looping over a List"
   ]
  },
  {
   "cell_type": "code",
   "execution_count": 6,
   "metadata": {},
   "outputs": [
    {
     "name": "stdout",
     "output_type": "stream",
     "text": [
      "3 is divisble by 3\n",
      "6 is divisble by 3\n",
      "9 is divisble by 3\n"
     ]
    }
   ],
   "source": [
    "#lists \n",
    "nums=[1,2,3,4,5,6,7,8,9,10,11]\n",
    "for n in nums:\n",
    "    if n%3==0:\n",
    "        print('{} is divisble by 3'.format(n))"
   ]
  },
  {
   "cell_type": "code",
   "execution_count": 7,
   "metadata": {},
   "outputs": [
    {
     "name": "stdout",
     "output_type": "stream",
     "text": [
      "Monday\n",
      "Tuesday\n",
      "Wednesday\n",
      "Thursday\n",
      "Friday\n",
      "Saturday\n"
     ]
    }
   ],
   "source": [
    "days=['Monday','Tuesday','Wednesday','Thursday','Friday','Saturday']\n",
    "for day in days:\n",
    "    print(day)"
   ]
  },
  {
   "cell_type": "code",
   "execution_count": 8,
   "metadata": {},
   "outputs": [
    {
     "name": "stdout",
     "output_type": "stream",
     "text": [
      "Hello Sushil!\n",
      "Hello Alok!\n",
      "Hello Dev!\n",
      "Hello Josh!\n",
      "Hello Harshita!\n",
      "Hello Divya!\n",
      "Hello Vidhi!\n",
      "Hello Mayank!\n"
     ]
    }
   ],
   "source": [
    "names=['Sushil','Alok','Dev','Josh','Harshita','Divya','Vidhi','Mayank']\n",
    "for name in names:\n",
    "    print('Hello '+name+\"!\")"
   ]
  },
  {
   "cell_type": "markdown",
   "metadata": {},
   "source": [
    "### Looping over a tuple"
   ]
  },
  {
   "cell_type": "code",
   "execution_count": 9,
   "metadata": {},
   "outputs": [
    {
     "name": "stdout",
     "output_type": "stream",
     "text": [
      "Here is a fruit: Apple\n",
      "Here is a fruit: Banana\n",
      "Here is a fruit: Gauva\n"
     ]
    }
   ],
   "source": [
    "for fruit in ('Apple','Banana','Gauva'):\n",
    "    print('Here is a fruit:', fruit)"
   ]
  },
  {
   "cell_type": "markdown",
   "metadata": {},
   "source": [
    "### Looping over a dictionary"
   ]
  },
  {
   "cell_type": "code",
   "execution_count": 10,
   "metadata": {},
   "outputs": [
    {
     "name": "stdout",
     "output_type": "stream",
     "text": [
      "Key: name , Value: Prasad Posture\n",
      "Key: sex , Value: Male\n",
      "Key: Married , Value: False\n"
     ]
    }
   ],
   "source": [
    "person={\n",
    "    'name':'Prasad Posture',\n",
    "    'sex':'Male',\n",
    "    'Married':False\n",
    "}\n",
    "for key in person:\n",
    "    print('Key:',key,',','Value:',person[key])\n",
    "    "
   ]
  },
  {
   "cell_type": "markdown",
   "metadata": {},
   "source": [
    "Note that while using a dictionary with a `for` loop, the iteration happens over the dictionary's keys. The key can be used within the loop to access the value. You can also iterate directly over the values using the `.values` method or over key-value pairs using the `.items` method."
   ]
  },
  {
   "cell_type": "code",
   "execution_count": 11,
   "metadata": {},
   "outputs": [
    {
     "name": "stdout",
     "output_type": "stream",
     "text": [
      "Prasad Posture\n",
      "Male\n",
      "False\n"
     ]
    }
   ],
   "source": [
    "for value in person.values():\n",
    "    print(value)"
   ]
  },
  {
   "cell_type": "markdown",
   "metadata": {},
   "source": [
    "Since a key-value pair is a tuple, we can also extract the key & value into separate variables."
   ]
  },
  {
   "cell_type": "code",
   "execution_count": 12,
   "metadata": {},
   "outputs": [
    {
     "name": "stdout",
     "output_type": "stream",
     "text": [
      "('name', 'Prasad Posture')\n",
      "('sex', 'Male')\n",
      "('Married', False)\n"
     ]
    }
   ],
   "source": [
    "for key in person.items():\n",
    "    print(key)"
   ]
  },
  {
   "cell_type": "markdown",
   "metadata": {},
   "source": [
    "### `break`, `continue` and `pass` statements\n",
    "\n",
    "Similar to `while` loops, `for` loops also support the `break` and `continue` statements. `break` is used for breaking out of the loop and `continue` is used for skipping ahead to the next iteration."
   ]
  },
  {
   "cell_type": "code",
   "execution_count": 13,
   "metadata": {},
   "outputs": [],
   "source": [
    "weekdays=['Monday','Tuesday','Wednesday','Thursday','Friday','Saturday']"
   ]
  },
  {
   "cell_type": "code",
   "execution_count": 14,
   "metadata": {},
   "outputs": [
    {
     "name": "stdout",
     "output_type": "stream",
     "text": [
      "Today is Monday\n",
      "Today is Tuesday\n",
      "Today is Wednesday\n",
      "I do not work beyond Wednesday!\n"
     ]
    }
   ],
   "source": [
    "#Break\n",
    "for day in weekdays:\n",
    "    print('Today is {}'.format(day))\n",
    "    if (day=='Wednesday'):\n",
    "        print('I do not work beyond Wednesday!')\n",
    "        break"
   ]
  },
  {
   "cell_type": "code",
   "execution_count": 15,
   "metadata": {},
   "outputs": [
    {
     "name": "stdout",
     "output_type": "stream",
     "text": [
      "Today is Monday\n",
      "Today is Tuesday\n",
      "I do not work beyond Wedneday!\n",
      "Today is Thursday\n",
      "Today is Friday\n",
      "Today is Saturday\n"
     ]
    }
   ],
   "source": [
    "#Continue\n",
    "for day in weekdays:\n",
    "    #print('Today is {}'.format(day))\n",
    "    if (day=='Wednesday'):\n",
    "        print('I do not work beyond Wedneday!')\n",
    "        continue\n",
    "    print('Today is {}'.format(day)) "
   ]
  },
  {
   "cell_type": "markdown",
   "metadata": {},
   "source": [
    "Like `if` statements, `for` loops cannot be empty, so you can use a `pass` statement if you don't want to execute any statements inside the loop."
   ]
  },
  {
   "cell_type": "code",
   "execution_count": 16,
   "metadata": {},
   "outputs": [],
   "source": [
    "#Pass\n",
    "for day in weekdays:\n",
    "    pass"
   ]
  },
  {
   "cell_type": "markdown",
   "metadata": {},
   "source": [
    "# Nested `for` and `while` loops\n",
    "\n",
    "Similar to conditional statements, loops can be nested inside other loops. This is useful for looping lists of lists, dictionaries etc."
   ]
  },
  {
   "cell_type": "code",
   "execution_count": 17,
   "metadata": {},
   "outputs": [],
   "source": [
    "persons=[{'name':'Sameer','sex':'Male'},{'name':'Sonam','sex':'Female'}]"
   ]
  },
  {
   "cell_type": "code",
   "execution_count": 18,
   "metadata": {},
   "outputs": [
    {
     "name": "stdout",
     "output_type": "stream",
     "text": [
      "Key: name , Value: Sameer\n",
      "Key: sex , Value: Male\n",
      "\n",
      "Key: name , Value: Sonam\n",
      "Key: sex , Value: Female\n",
      "\n"
     ]
    }
   ],
   "source": [
    "for person in persons:\n",
    "    for key in person:\n",
    "        print('Key:',key,',','Value:',person[key])\n",
    "    print('')\n",
    "#iterates through each individual dictionary"
   ]
  },
  {
   "cell_type": "code",
   "execution_count": 19,
   "metadata": {},
   "outputs": [
    {
     "name": "stdout",
     "output_type": "stream",
     "text": [
      "name : Sameer\n",
      "sex : Male\n",
      "\n",
      "name : Sonam\n",
      "sex : Female\n",
      "\n"
     ]
    }
   ],
   "source": [
    "for person in persons:\n",
    "    for key in person:\n",
    "        print(key,\":\",person[key])\n",
    "    print('')"
   ]
  },
  {
   "cell_type": "code",
   "execution_count": 20,
   "metadata": {},
   "outputs": [
    {
     "name": "stdout",
     "output_type": "stream",
     "text": [
      "Monday Apple\n",
      "Monday Banana\n",
      "Monday Gauva\n",
      "Tuesday Apple\n",
      "Tuesday Banana\n",
      "Tuesday Gauva\n",
      "Wednesday Apple\n",
      "Wednesday Banana\n",
      "Wednesday Gauva\n"
     ]
    }
   ],
   "source": [
    "days=['Monday','Tuesday','Wednesday']\n",
    "fruits=['Apple','Banana','Gauva']\n",
    "\n",
    "for day in days:\n",
    "    for fruit in fruits:\n",
    "        print(day,fruit)\n",
    "#Each day with each fruit"
   ]
  },
  {
   "cell_type": "markdown",
   "metadata": {},
   "source": [
    "The End"
   ]
  }
 ],
 "metadata": {
  "kernelspec": {
   "display_name": "Python 3",
   "language": "python",
   "name": "python3"
  },
  "language_info": {
   "codemirror_mode": {
    "name": "ipython",
    "version": 3
   },
   "file_extension": ".py",
   "mimetype": "text/x-python",
   "name": "python",
   "nbconvert_exporter": "python",
   "pygments_lexer": "ipython3",
   "version": "3.8.8"
  },
  "toc": {
   "base_numbering": 1,
   "nav_menu": {},
   "number_sections": true,
   "sideBar": true,
   "skip_h1_title": false,
   "title_cell": "Table of Contents",
   "title_sidebar": "Contents",
   "toc_cell": false,
   "toc_position": {},
   "toc_section_display": true,
   "toc_window_display": false
  }
 },
 "nbformat": 4,
 "nbformat_minor": 4
}
